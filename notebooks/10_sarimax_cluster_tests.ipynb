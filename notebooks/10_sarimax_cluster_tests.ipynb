{
 "cells": [
  {
   "cell_type": "code",
   "id": "initial_id",
   "metadata": {
    "collapsed": true,
    "ExecuteTime": {
     "end_time": "2025-08-31T12:55:23.620443Z",
     "start_time": "2025-08-31T12:55:23.607946Z"
    }
   },
   "source": [
    "import pandas as pd\n",
    "import numpy as np\n",
    "from statsmodels.tsa.statespace.sarimax import SARIMAX\n",
    "from utils import load_series_dfs\n",
    "from pathlib import Path"
   ],
   "outputs": [],
   "execution_count": 6
  },
  {
   "metadata": {
    "ExecuteTime": {
     "end_time": "2025-08-31T12:54:15.970600Z",
     "start_time": "2025-08-31T12:54:15.866315Z"
    }
   },
   "cell_type": "code",
   "source": [
    "series_dfs = load_series_dfs(data_dir=r\"C:\\Users\\johan\\Documents\\FH_Master\\data\", filename=\"final_learning_dfs.pkl\")\n",
    "series_dfs['FL_00024702.PLAN.MengeHH'].columns"
   ],
   "id": "b0b24a4a5a964516",
   "outputs": [
    {
     "data": {
      "text/plain": [
       "Index(['consumption', 'hour', 'weekday', 'month', 'is_weekend', 'w_tl', 'w_rf',\n",
       "       'w_ff', 'w_ffx', 'w_cglo', 'w_so_h', 'w_rr', 'w_rrm', 'w_tb10',\n",
       "       'w_tb20', 'CEGH_WAP', 'THE_WAP'],\n",
       "      dtype='object')"
      ]
     },
     "execution_count": 4,
     "metadata": {},
     "output_type": "execute_result"
    }
   ],
   "execution_count": 4
  },
  {
   "metadata": {
    "ExecuteTime": {
     "end_time": "2025-08-31T13:05:06.136833Z",
     "start_time": "2025-08-31T13:05:06.120980Z"
    }
   },
   "cell_type": "code",
   "source": [
    "import json, numpy as np, pandas as pd\n",
    "from tslearn.metrics import cdist_dtw\n",
    "from tslearn.preprocessing import TimeSeriesResampler\n",
    "\n",
    "ARTIFACT_DIR = Path(\"../data_public/cluster_mediods/artifacts_medoid_classifier\")\n",
    "\n",
    "# laden\n",
    "blob = np.load(ARTIFACT_DIR / \"medoid_classifier.npz\", allow_pickle=True)\n",
    "MEDOID_TS   = blob[\"medoid_series\"]        # (k, target_len)\n",
    "MEDOID_KEYS = blob[\"medoid_keys\"].tolist() # list[str]\n",
    "PARAMS      = json.loads((ARTIFACT_DIR / \"params.json\").read_text())\n",
    "RADIUS      = PARAMS[\"sakoe_chiba_radius\"]\n",
    "\n",
    "def zscore(x):\n",
    "    m, s = np.nanmean(x), np.nanstd(x)\n",
    "    s = s if s and np.isfinite(s) else 1.0\n",
    "    return (x - m) / s\n",
    "\n",
    "\n",
    "def preprocess_series_1d(s: pd.Series, params=PARAMS) -> np.ndarray:\n",
    "    \"\"\"Gibt 1D-Array der Länge target_len zurück (float32).\"\"\"\n",
    "    s = s.astype(float).copy()\n",
    "    # gleiche Schritte wie im Training\n",
    "    s3 = s.resample(params[\"resample_rule\"]).mean().interpolate(limit=params[\"interpolate_limit\"])\n",
    "    if params[\"zscore\"]:\n",
    "        s3 = pd.Series(zscore(s3.values), index=s3.index)\n",
    "\n",
    "    # -> (len,1) für tslearn\n",
    "    arr = s3.values.astype(\"float32\").reshape(-1, 1)\n",
    "\n",
    "    # auf einheitliche Länge bringen (wie bei dir: Padding -> Resample)\n",
    "    # (a) auf max-Länge padden macht man im Batch; hier tricksen wir, indem wir ans Ende den letzten Wert wiederholen\n",
    "    if arr.shape[0] < params[\"target_len\"]:\n",
    "        pad = np.full((params[\"target_len\"], 1), arr[-1, 0], dtype=\"float32\")\n",
    "        pad[:arr.shape[0], 0] = arr[:, 0]\n",
    "        arr = pad\n",
    "    # (b) resample exakt auf target_len\n",
    "    arr = TimeSeriesResampler(sz=params[\"target_len\"]).fit_transform(arr[None, ...])[0]\n",
    "    return arr[:, 0]  # zurück zu 1D\n",
    "\n",
    "\n",
    "def assign_series_to_medoid(new_df: pd.DataFrame) -> dict:\n",
    "    \"\"\"\n",
    "    Erwartet new_df mit Spalte 'consumption' und DatetimeIndex.\n",
    "    Gibt dict mit Zuordnung, Distanz und Ranking zurück.\n",
    "    \"\"\"\n",
    "    x = preprocess_series_1d(new_df['consumption'], PARAMS)        # (target_len,)\n",
    "    X = x.reshape(1, -1, order=\"C\")                                # (1, target_len)\n",
    "    M = MEDOID_TS                                                  # (k, target_len)\n",
    "\n",
    "    # tslearn.cdist_dtw erwartet shape (n_ts, len), kein extra Feature-Dim\n",
    "    dists = cdist_dtw(X, M, global_constraint=\"sakoe_chiba\", sakoe_chiba_radius=RADIUS)[0]  # (k,)\n",
    "    order = np.argsort(dists)\n",
    "    best  = int(order[0])\n",
    "    return {\n",
    "        \"assigned_medoid_key\": MEDOID_KEYS[best],\n",
    "        \"distance\": float(dists[best]),\n",
    "        \"ranked_candidates\": [(MEDOID_KEYS[i], float(dists[i])) for i in order.tolist()]\n",
    "    }\n"
   ],
   "id": "b082c709fffed3cf",
   "outputs": [],
   "execution_count": 14
  },
  {
   "metadata": {
    "ExecuteTime": {
     "end_time": "2025-08-31T12:57:50.569628Z",
     "start_time": "2025-08-31T12:57:50.557872Z"
    }
   },
   "cell_type": "code",
   "source": "series_dfs['FL_00024702.PLAN.MengeHH']['consumption']",
   "id": "78e5d184afae6732",
   "outputs": [
    {
     "data": {
      "text/plain": [
       "von  | von\n",
       "2015-01-01 06:00:00    48.447\n",
       "2015-01-01 07:00:00    45.788\n",
       "2015-01-01 08:00:00    43.109\n",
       "2015-01-01 09:00:00    41.749\n",
       "2015-01-01 10:00:00    39.900\n",
       "                        ...  \n",
       "2018-12-31 19:00:00    32.223\n",
       "2018-12-31 20:00:00    29.348\n",
       "2018-12-31 21:00:00    24.727\n",
       "2018-12-31 22:00:00    17.483\n",
       "2018-12-31 23:00:00    15.874\n",
       "Name: consumption, Length: 35178, dtype: float64"
      ]
     },
     "execution_count": 9,
     "metadata": {},
     "output_type": "execute_result"
    }
   ],
   "execution_count": 9
  },
  {
   "metadata": {
    "ExecuteTime": {
     "end_time": "2025-08-31T13:00:46.477133Z",
     "start_time": "2025-08-31T13:00:45.293812Z"
    }
   },
   "cell_type": "code",
   "source": [
    "new_df = series_dfs['FL_00024702.PLAN.MengeHH']  # DataFrame mit 'consumption' und DatetimeIndex\n",
    "result = assign_series_to_medoid(new_df)\n",
    "print(result)"
   ],
   "id": "b1ef85c8fd2be51e",
   "outputs": [
    {
     "name": "stdout",
     "output_type": "stream",
     "text": [
      "{'assigned_medoid_key': 'CV_00003432.PLAN.Menge', 'distance': 9.682886176480524, 'ranked_candidates': [('CV_00003432.PLAN.Menge', 9.682886176480524), ('FL_00024360.PLAN.MengeGA', 45.414202091947175), ('KN_00000067.PLAN.Menge', 68.3078805368751)]}\n"
     ]
    }
   ],
   "execution_count": 11
  },
  {
   "metadata": {
    "ExecuteTime": {
     "end_time": "2025-08-31T13:02:47.085588Z",
     "start_time": "2025-08-31T13:02:46.839581Z"
    }
   },
   "cell_type": "code",
   "source": "series_dfs['KN_00001886.PLAN.MengeKW']['consumption'].plot()",
   "id": "83228b91c29eed6a",
   "outputs": [
    {
     "data": {
      "text/plain": [
       "<Axes: xlabel='von  | von'>"
      ]
     },
     "execution_count": 13,
     "metadata": {},
     "output_type": "execute_result"
    },
    {
     "data": {
      "text/plain": [
       "<Figure size 640x480 with 1 Axes>"
      ],
      "image/png": "[encoded data removed]"
     },
     "metadata": {},
     "output_type": "display_data"
    }
   ],
   "execution_count": 13
  },
  {
   "metadata": {
    "ExecuteTime": {
     "end_time": "2025-08-31T13:05:35.695307Z",
     "start_time": "2025-08-31T13:05:35.679546Z"
    }
   },
   "cell_type": "code",
   "source": "MEDOID_KEYS",
   "id": "1dbadef58a1f1691",
   "outputs": [
    {
     "data": {
      "text/plain": [
       "['CV_00003432.PLAN.Menge',\n",
       " 'KN_00000067.PLAN.Menge',\n",
       " 'FL_00024360.PLAN.MengeGA']"
      ]
     },
     "execution_count": 16,
     "metadata": {},
     "output_type": "execute_result"
    }
   ],
   "execution_count": 16
  },
  {
   "metadata": {
    "ExecuteTime": {
     "end_time": "2025-08-31T13:19:06.331672Z",
     "start_time": "2025-08-31T13:19:06.317672Z"
    }
   },
   "cell_type": "code",
   "source": [
    "feature_sets = {\n",
    "    \"rmse_toleranz\": ['hour', 'w_tl', 'w_ff', 'w_tb10', 'w_tb20', 'CEGH_WAP', 'THE_WAP'],  # Sweetspot k=7, drop weekday\n",
    "    \"bester_score\":  ['w_tl','w_tb10'],  # drop THE_WAP\n",
    "    \"minimaler_rmse\":['hour', 'weekday', 'month', 'is_weekend', 'w_tl', 'w_rf',\n",
    "                      'w_ff', 'w_ffx', 'w_cglo', 'w_so_h', 'w_rr',\n",
    "                      'w_tb10', 'w_tb20', 'CEGH_WAP', 'THE_WAP']  # alle, kein Drop\n",
    "}"
   ],
   "id": "3dfd5e301235200d",
   "outputs": [],
   "execution_count": 17
  },
  {
   "metadata": {
    "ExecuteTime": {
     "end_time": "2025-08-31T13:19:33.615605Z",
     "start_time": "2025-08-31T13:19:33.602101Z"
    }
   },
   "cell_type": "code",
   "source": [
    "import time\n",
    "import numpy as np\n",
    "import pandas as pd\n",
    "from statsmodels.tsa.statespace.sarimax import SARIMAX\n",
    "from sklearn.metrics import mean_squared_error, mean_absolute_error\n",
    "\n",
    "def evaluate_sarimax(df, features, order=(1,0,2), seasonal_order=(1,0,1,24)):\n",
    "    \"\"\"\n",
    "    Trainiert SARIMAX auf df['consumption'] mit exogenen Features\n",
    "    und gibt RMSE, MAE, Trainingszeit und Vorhersagezeit zurück.\n",
    "    \"\"\"\n",
    "    # sauberes Index-Handling\n",
    "    df = df.copy()\n",
    "    df.index = pd.to_datetime(df.index)\n",
    "    df = df[~df.index.duplicated(keep='first')].sort_index()\n",
    "    df = df.asfreq(\"h\").interpolate()  # gleiche Frequenz + Gaps füllen\n",
    "\n",
    "    # Train/Test Split (z. B. letztes Jahr als Test)\n",
    "    split_date = df.index.max() - pd.DateOffset(years=1)\n",
    "    train = df.loc[:split_date]\n",
    "    test  = df.loc[split_date + pd.Timedelta(hours=1):]\n",
    "\n",
    "    y_true = test['consumption']\n",
    "\n",
    "    # --- Training ---\n",
    "    start = time.time()\n",
    "    mod = SARIMAX(\n",
    "        train['consumption'],\n",
    "        exog=train[features],\n",
    "        order=order, seasonal_order=seasonal_order,\n",
    "        enforce_stationarity=True, enforce_invertibility=True\n",
    "    )\n",
    "    res = mod.fit(disp=False, method=\"powell\", maxiter=300)\n",
    "    train_time = time.time() - start\n",
    "\n",
    "    # --- Prediction ---\n",
    "    start = time.time()\n",
    "    y_pred = res.predict(start=test.index[0], end=test.index[-1], exog=test[features])\n",
    "    pred_time = time.time() - start\n",
    "\n",
    "    # --- Metrics ---\n",
    "    rmse = np.sqrt(mean_squared_error(y_true, y_pred))\n",
    "    mae  = mean_absolute_error(y_true, y_pred)\n",
    "\n",
    "    return {\n",
    "        \"RMSE\": rmse,\n",
    "        \"MAE\": mae,\n",
    "        \"Train_time_s\": train_time,\n",
    "        \"Predict_time_s\": pred_time,\n",
    "        \"n_train\": len(train),\n",
    "        \"n_test\": len(test)\n",
    "    }"
   ],
   "id": "90fae8029869ea15",
   "outputs": [],
   "execution_count": 18
  },
  {
   "metadata": {
    "ExecuteTime": {
     "end_time": "2025-08-31T13:45:16.723388Z",
     "start_time": "2025-08-31T13:20:00.545142Z"
    }
   },
   "cell_type": "code",
   "source": [
    "results = []\n",
    "\n",
    "for med_key in MEDOID_KEYS:  # deine drei Medoid-Keys\n",
    "    df = series_dfs[med_key]  # DataFrame mit 'consumption' und Features\n",
    "    for fs_name, features in feature_sets.items():\n",
    "        metrics = evaluate_sarimax(df, features)\n",
    "        metrics.update({\"medoid\": med_key, \"feature_set\": fs_name})\n",
    "        results.append(metrics)\n",
    "\n",
    "df_results = pd.DataFrame(results)\n",
    "print(df_results)"
   ],
   "id": "529326dd6a9c2acd",
   "outputs": [
    {
     "name": "stdout",
     "output_type": "stream",
     "text": [
      "           RMSE           MAE  Train_time_s  Predict_time_s  n_train  n_test  \\\n",
      "0  2.423750e+02  2.253766e+02    204.984675        0.210430    26298    8760   \n",
      "1  1.502195e+02  1.226870e+02    103.185202        0.171229    26298    8760   \n",
      "2  1.126163e+02  8.349764e+01    420.426144        0.211480    26298    8760   \n",
      "3  3.805249e-01  1.082295e-02    117.225185        0.196371    26298    8760   \n",
      "4  3.805249e-01  1.082295e-02     94.689381        0.197313    26298    8760   \n",
      "5  3.805249e-01  1.082295e-02    149.766894        0.200958    26298    8760   \n",
      "6  2.139510e+07  1.691078e+06     95.039564        0.241060    26298    8760   \n",
      "7  2.139515e+07  1.691251e+06    104.910545        0.225939    26298    8760   \n",
      "8  2.139510e+07  1.691080e+06    222.741256        0.210819    26298    8760   \n",
      "\n",
      "                     medoid     feature_set  \n",
      "0    CV_00003432.PLAN.Menge   rmse_toleranz  \n",
      "1    CV_00003432.PLAN.Menge    bester_score  \n",
      "2    CV_00003432.PLAN.Menge  minimaler_rmse  \n",
      "3    KN_00000067.PLAN.Menge   rmse_toleranz  \n",
      "4    KN_00000067.PLAN.Menge    bester_score  \n",
      "5    KN_00000067.PLAN.Menge  minimaler_rmse  \n",
      "6  FL_00024360.PLAN.MengeGA   rmse_toleranz  \n",
      "7  FL_00024360.PLAN.MengeGA    bester_score  \n",
      "8  FL_00024360.PLAN.MengeGA  minimaler_rmse  \n"
     ]
    }
   ],
   "execution_count": 19
  },
  {
   "metadata": {
    "ExecuteTime": {
     "end_time": "2025-08-31T14:14:37.468085Z",
     "start_time": "2025-08-31T14:14:37.457715Z"
    }
   },
   "cell_type": "code",
   "source": "df_results",
   "id": "c2c54dfec57f6105",
   "outputs": [
    {
     "data": {
      "text/plain": [
       "           RMSE           MAE  Train_time_s  Predict_time_s  n_train  n_test  \\\n",
       "0  2.423750e+02  2.253766e+02    204.984675        0.210430    26298    8760   \n",
       "1  1.502195e+02  1.226870e+02    103.185202        0.171229    26298    8760   \n",
       "2  1.126163e+02  8.349764e+01    420.426144        0.211480    26298    8760   \n",
       "3  3.805249e-01  1.082295e-02    117.225185        0.196371    26298    8760   \n",
       "4  3.805249e-01  1.082295e-02     94.689381        0.197313    26298    8760   \n",
       "5  3.805249e-01  1.082295e-02    149.766894        0.200958    26298    8760   \n",
       "6  2.139510e+07  1.691078e+06     95.039564        0.241060    26298    8760   \n",
       "7  2.139515e+07  1.691251e+06    104.910545        0.225939    26298    8760   \n",
       "8  2.139510e+07  1.691080e+06    222.741256        0.210819    26298    8760   \n",
       "\n",
       "                     medoid     feature_set  \n",
       "0    CV_00003432.PLAN.Menge   rmse_toleranz  \n",
       "1    CV_00003432.PLAN.Menge    bester_score  \n",
       "2    CV_00003432.PLAN.Menge  minimaler_rmse  \n",
       "3    KN_00000067.PLAN.Menge   rmse_toleranz  \n",
       "4    KN_00000067.PLAN.Menge    bester_score  \n",
       "5    KN_00000067.PLAN.Menge  minimaler_rmse  \n",
       "6  FL_00024360.PLAN.MengeGA   rmse_toleranz  \n",
       "7  FL_00024360.PLAN.MengeGA    bester_score  \n",
       "8  FL_00024360.PLAN.MengeGA  minimaler_rmse  "
      ],
      "text/html": [
       "<div>\n",
       "<style scoped>\n",
       "    .dataframe tbody tr th:only-of-type {\n",
       "        vertical-align: middle;\n",
       "    }\n",
       "\n",
       "    .dataframe tbody tr th {\n",
       "        vertical-align: top;\n",
       "    }\n",
       "\n",
       "    .dataframe thead th {\n",
       "        text-align: right;\n",
       "    }\n",
       "</style>\n",
       "<table border=\"1\" class=\"dataframe\">\n",
       "  <thead>\n",
       "    <tr style=\"text-align: right;\">\n",
       "      <th></th>\n",
       "      <th>RMSE</th>\n",
       "      <th>MAE</th>\n",
       "      <th>Train_time_s</th>\n",
       "      <th>Predict_time_s</th>\n",
       "      <th>n_train</th>\n",
       "      <th>n_test</th>\n",
       "      <th>medoid</th>\n",
       "      <th>feature_set</th>\n",
       "    </tr>\n",
       "  </thead>\n",
       "  <tbody>\n",
       "    <tr>\n",
       "      <th>0</th>\n",
       "      <td>2.423750e+02</td>\n",
       "      <td>2.253766e+02</td>\n",
       "      <td>204.984675</td>\n",
       "      <td>0.210430</td>\n",
       "      <td>26298</td>\n",
       "      <td>8760</td>\n",
       "      <td>CV_00003432.PLAN.Menge</td>\n",
       "      <td>rmse_toleranz</td>\n",
       "    </tr>\n",
       "    <tr>\n",
       "      <th>1</th>\n",
       "      <td>1.502195e+02</td>\n",
       "      <td>1.226870e+02</td>\n",
       "      <td>103.185202</td>\n",
       "      <td>0.171229</td>\n",
       "      <td>26298</td>\n",
       "      <td>8760</td>\n",
       "      <td>CV_00003432.PLAN.Menge</td>\n",
       "      <td>bester_score</td>\n",
       "    </tr>\n",
       "    <tr>\n",
       "      <th>2</th>\n",
       "      <td>1.126163e+02</td>\n",
       "      <td>8.349764e+01</td>\n",
       "      <td>420.426144</td>\n",
       "      <td>0.211480</td>\n",
       "      <td>26298</td>\n",
       "      <td>8760</td>\n",
       "      <td>CV_00003432.PLAN.Menge</td>\n",
       "      <td>minimaler_rmse</td>\n",
       "    </tr>\n",
       "    <tr>\n",
       "      <th>3</th>\n",
       "      <td>3.805249e-01</td>\n",
       "      <td>1.082295e-02</td>\n",
       "      <td>117.225185</td>\n",
       "      <td>0.196371</td>\n",
       "      <td>26298</td>\n",
       "      <td>8760</td>\n",
       "      <td>KN_00000067.PLAN.Menge</td>\n",
       "      <td>rmse_toleranz</td>\n",
       "    </tr>\n",
       "    <tr>\n",
       "      <th>4</th>\n",
       "      <td>3.805249e-01</td>\n",
       "      <td>1.082295e-02</td>\n",
       "      <td>94.689381</td>\n",
       "      <td>0.197313</td>\n",
       "      <td>26298</td>\n",
       "      <td>8760</td>\n",
       "      <td>KN_00000067.PLAN.Menge</td>\n",
       "      <td>bester_score</td>\n",
       "    </tr>\n",
       "    <tr>\n",
       "      <th>5</th>\n",
       "      <td>3.805249e-01</td>\n",
       "      <td>1.082295e-02</td>\n",
       "      <td>149.766894</td>\n",
       "      <td>0.200958</td>\n",
       "      <td>26298</td>\n",
       "      <td>8760</td>\n",
       "      <td>KN_00000067.PLAN.Menge</td>\n",
       "      <td>minimaler_rmse</td>\n",
       "    </tr>\n",
       "    <tr>\n",
       "      <th>6</th>\n",
       "      <td>2.139510e+07</td>\n",
       "      <td>1.691078e+06</td>\n",
       "      <td>95.039564</td>\n",
       "      <td>0.241060</td>\n",
       "      <td>26298</td>\n",
       "      <td>8760</td>\n",
       "      <td>FL_00024360.PLAN.MengeGA</td>\n",
       "      <td>rmse_toleranz</td>\n",
       "    </tr>\n",
       "    <tr>\n",
       "      <th>7</th>\n",
       "      <td>2.139515e+07</td>\n",
       "      <td>1.691251e+06</td>\n",
       "      <td>104.910545</td>\n",
       "      <td>0.225939</td>\n",
       "      <td>26298</td>\n",
       "      <td>8760</td>\n",
       "      <td>FL_00024360.PLAN.MengeGA</td>\n",
       "      <td>bester_score</td>\n",
       "    </tr>\n",
       "    <tr>\n",
       "      <th>8</th>\n",
       "      <td>2.139510e+07</td>\n",
       "      <td>1.691080e+06</td>\n",
       "      <td>222.741256</td>\n",
       "      <td>0.210819</td>\n",
       "      <td>26298</td>\n",
       "      <td>8760</td>\n",
       "      <td>FL_00024360.PLAN.MengeGA</td>\n",
       "      <td>minimaler_rmse</td>\n",
       "    </tr>\n",
       "  </tbody>\n",
       "</table>\n",
       "</div>"
      ]
     },
     "execution_count": 20,
     "metadata": {},
     "output_type": "execute_result"
    }
   ],
   "execution_count": 20
  },
  {
   "metadata": {
    "ExecuteTime": {
     "end_time": "2025-08-31T14:16:20.363971Z",
     "start_time": "2025-08-31T14:16:20.351607Z"
    }
   },
   "cell_type": "code",
   "source": "2.139510e+07",
   "id": "2bd6ed5c0d117fda",
   "outputs": [
    {
     "data": {
      "text/plain": [
       "21395100.0"
      ]
     },
     "execution_count": 21,
     "metadata": {},
     "output_type": "execute_result"
    }
   ],
   "execution_count": 21
  },
  {
   "metadata": {
    "ExecuteTime": {
     "end_time": "2025-08-31T14:16:49.683433Z",
     "start_time": "2025-08-31T14:16:49.678432Z"
    }
   },
   "cell_type": "code",
   "source": "8.349764e+01",
   "id": "83d4328832685f44",
   "outputs": [
    {
     "data": {
      "text/plain": [
       "83.49764"
      ]
     },
     "execution_count": 23,
     "metadata": {},
     "output_type": "execute_result"
    }
   ],
   "execution_count": 23
  },
  {
   "metadata": {
    "ExecuteTime": {
     "end_time": "2025-08-31T14:16:58.744689Z",
     "start_time": "2025-08-31T14:16:58.725964Z"
    }
   },
   "cell_type": "code",
   "source": "1.226870e+02",
   "id": "2b6038f92c5a9a35",
   "outputs": [
    {
     "data": {
      "text/plain": [
       "122.687"
      ]
     },
     "execution_count": 24,
     "metadata": {},
     "output_type": "execute_result"
    }
   ],
   "execution_count": 24
  },
  {
   "metadata": {
    "ExecuteTime": {
     "end_time": "2025-08-31T14:17:55.429947Z",
     "start_time": "2025-08-31T14:17:55.281610Z"
    }
   },
   "cell_type": "code",
   "source": "series_dfs['KN_00000067.PLAN.Menge']['consumption'].plot()",
   "id": "9d1be2406e3b2fa3",
   "outputs": [
    {
     "data": {
      "text/plain": [
       "<Axes: xlabel='von  | von'>"
      ]
     },
     "execution_count": 27,
     "metadata": {},
     "output_type": "execute_result"
    },
    {
     "data": {
      "text/plain": [
       "<Figure size 640x480 with 1 Axes>"
      ],
      "image/png": "[encoded data removed]"
     },
     "metadata": {},
     "output_type": "display_data"
    }
   ],
   "execution_count": 27
  },
  {
   "metadata": {},
   "cell_type": "code",
   "outputs": [],
   "execution_count": null,
   "source": "",
   "id": "2ff099c3ad2e0775"
  }
 ],
 "metadata": {
  "kernelspec": {
   "display_name": "Python 3",
   "language": "python",
   "name": "python3"
  },
  "language_info": {
   "codemirror_mode": {
    "name": "ipython",
    "version": 2
   },
   "file_extension": ".py",
   "mimetype": "text/x-python",
   "name": "python",
   "nbconvert_exporter": "python",
   "pygments_lexer": "ipython2",
   "version": "2.7.6"
  }
 },
 "nbformat": 4,
 "nbformat_minor": 5
}
