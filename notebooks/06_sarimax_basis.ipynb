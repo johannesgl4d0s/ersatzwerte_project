{
 "cells": [
  {
   "metadata": {},
   "cell_type": "markdown",
   "source": [
    "Mittlere ACF (0–50 Lags)\n",
    "\n",
    "\n",
    "Langsames Abklingen\n",
    "Die ACF startet bei 1.0 (Lag 0) und fällt nur langsam ab – schon bei Lag 50 liegt sie noch bei rund 0.75. Das spricht für eine sehr starke Persistenz, d.h. Verbräuche bleiben auch über mehrere Stunden hinweg hoch korreliert.\n",
    "\n",
    "Bump um Lag 24\n",
    "Zwischen Lag 20–28 siehst du einen kleinen „Höcker“ (ACF steigt von ~0.78 wieder auf ~0.80). Das ist genau der tägliche Saison-Effekt (24 h), der deine Zeitreihen zusätzlich stützt.\n",
    "\n",
    "Fehlende deutliche Peaks bei Lag 7×24 oder 168\n",
    "Da du nur bis Lag 50 geplottet hast, siehst du den Wochen-Peak (168 h) hier noch nicht. Würdest du bis Lag 168 gehen, käme dort ein weiterer, kleiner Bump.\n",
    "\n",
    "Fazit aus der ACF:\n",
    "\n",
    "Starkes Grundrauschen mit sehr langsamer Abklingrate\n",
    "\n",
    "Eindeutige tägliche Saisonkorrelation bei Lag 24\n",
    "\n",
    "Mittlere PACF (0–50 Lags)\n",
    "\n",
    "\n",
    "Spitze bei Lag 1\n",
    "Der PACF-Wert bei Lag 1 ist praktisch 1.0 → deutet auf einen AR(1)-Anteil hin.\n",
    "\n",
    "Negativer Spike bei Lag 2\n",
    "Direkt bei Lag 2 geht der PACF kurz unter 0 (rund –0.2) → ein Hinweis darauf, dass auch ein MA(1) – oder kombiniertes ARMA(1,1) – Modell passen könnte.\n",
    "\n",
    "Kleine Hügel bei Lag 24–25\n",
    "Im Bereich um Lag 24–25 tauchen im PACF noch einmal kleine positive Ausreißer auf, was auf einen saisonalen AR-Term bei einer Periodenlänge von 24 h hindeutet.\n",
    "\n",
    "Schnelles Abklingen danach\n",
    "Ab Lag 30 ist der PACF für die meisten Lags nahe null → hier ist kein weiterführender rein nicht-saisonaler AR-Order mehr nötig.\n",
    "\n",
    "Fazit aus der PACF:\n",
    "\n",
    "Ein nicht‐saisonaler AR(1) ist sinnvoll.\n",
    "\n",
    "Ein MA(1) (bei Lag 2 negativer Effekt) kann helfen, das erste Abklingen zu modellieren.\n",
    "\n",
    "Ein saisonaler AR(1) bei Lag 24 (für den Tageszyklus) ist gerechtfertigt.\n",
    "\n",
    "Konsequenz für dein Basis-SARIMAX\n",
    "Nicht‐saisonaler Teil: wahrscheinliche Kandidaten sind\n",
    "(\n",
    "\n",
    ",\n",
    "\n",
    ",\n",
    "\n",
    ")\n",
    "=\n",
    "(\n",
    "1\n",
    ",\n",
    "0\n",
    ",\n",
    "1\n",
    ")\n",
    "(p,d,q)=(1,0,1) (da ADF-Test + ACF/PACF stationär ohne Differenzierung).\n",
    "\n",
    "Saisonaler Teil (m=24): ein\n",
    "\n",
    "=\n",
    "1\n",
    "P=1 aus dem PACF-Hügel bei Lag 24, und ggfs.\n",
    "\n",
    "=\n",
    "0\n",
    "Q=0 (keine klare Cut-Off in der ACF).\n",
    "\n",
    "Weitere Saisonen (168 h / 8760 h) behandelst du idealerweise exogen (Fourier oder Dummies) oder per MSTL-Features.\n",
    "\n",
    "Damit hättest du für dein Basis-SARIMAX in etwa:\n",
    "\n",
    "python\n",
    "Copy\n",
    "Edit\n",
    "seasonal_order=(1,0,0,24)    # P=1, D=0, Q=0, m=24\n",
    "order=(1,0,1)                # p=1, d=0, q=1\n",
    "plus deine exogenen Features für Wochen‐ und Jahreseffekte. So schlagen deine ACF/PACF-Erkenntnisse direkt in Parameterempfehlungen um.\n"
   ],
   "id": "907cd5fc73080116"
  },
  {
   "metadata": {
    "ExecuteTime": {
     "end_time": "2025-07-20T13:22:22.644194Z",
     "start_time": "2025-07-20T13:22:22.319266Z"
    }
   },
   "cell_type": "code",
   "source": [
    "import pandas as pd\n",
    "from statsmodels.tsa.statespace.sarimax import SARIMAX\n",
    "from utils import load_series_dfs\n",
    "import pickle"
   ],
   "id": "6c35bcc089c195",
   "outputs": [],
   "execution_count": 1
  },
  {
   "metadata": {
    "ExecuteTime": {
     "end_time": "2025-07-20T13:22:39.576693Z",
     "start_time": "2025-07-20T13:22:39.453856Z"
    }
   },
   "cell_type": "code",
   "source": [
    "series_dfs = load_series_dfs(data_dir=r\"C:\\Users\\johan\\Documents\\FH_Master\\data\", filename=\"final_learning_dfs.pkl\")\n",
    "series_dfs['FL_00024702.PLAN.MengeHH'].columns"
   ],
   "id": "264ef50dcc8de948",
   "outputs": [
    {
     "data": {
      "text/plain": [
       "Index(['consumption', 'hour', 'weekday', 'month', 'is_weekend', 'w_tl', 'w_rf',\n",
       "       'w_ff', 'w_ffx', 'w_cglo', 'w_so_h', 'w_rr', 'w_rrm', 'w_tb10',\n",
       "       'w_tb20', 'CEGH_WAP', 'THE_WAP'],\n",
       "      dtype='object')"
      ]
     },
     "execution_count": 2,
     "metadata": {},
     "output_type": "execute_result"
    }
   ],
   "execution_count": 2
  },
  {
   "metadata": {
    "ExecuteTime": {
     "end_time": "2025-07-20T13:22:40.613521Z",
     "start_time": "2025-07-20T13:22:40.262714Z"
    }
   },
   "cell_type": "code",
   "source": [
    "with open('../data/mstl_results.pkl', 'rb') as f:\n",
    "    mstl_results = pickle.load(f)"
   ],
   "id": "393c024f93b29fdc",
   "outputs": [],
   "execution_count": 3
  },
  {
   "metadata": {
    "ExecuteTime": {
     "end_time": "2025-07-13T12:23:06.529897Z",
     "start_time": "2025-07-13T12:23:05.296499Z"
    }
   },
   "cell_type": "code",
   "source": [
    "# --- 1) Panel aufbauen wie gehabt, aber ohne series_key ---\n",
    "rows = []\n",
    "for key, df in series_dfs.items():\n",
    "    tmp = df[['consumption',\n",
    "              'hour','weekday','month','is_weekend',\n",
    "              'w_tl','w_rf','w_ff','w_ffx','w_cglo','w_so_h',\n",
    "              'w_rr','w_rrm','w_tb10','w_tb20',\n",
    "              'CEGH_WAP','THE_WAP']]  # Deine Wetter- und Preis-Features\n",
    "    m = mstl_results[key].seasonal.rename(columns={\n",
    "        'seasonal_24':'s24','seasonal_168':'s168','seasonal_8760':'s8760'\n",
    "    })\n",
    "    tmp = tmp.join(m)\n",
    "    tmp['series_key'] = key\n",
    "    rows.append(tmp)\n",
    "\n",
    "panel = pd.concat(rows).reset_index()"
   ],
   "id": "bb013354ec4e1257",
   "outputs": [],
   "execution_count": 11
  },
  {
   "metadata": {
    "ExecuteTime": {
     "end_time": "2025-07-13T12:26:26.223698Z",
     "start_time": "2025-07-13T12:26:26.207812Z"
    }
   },
   "cell_type": "code",
   "source": "panel.columns",
   "id": "4e351e9ebdccf491",
   "outputs": [
    {
     "data": {
      "text/plain": [
       "Index(['von  | von', 'consumption', 'hour', 'weekday', 'month', 'is_weekend',\n",
       "       'w_tl', 'w_rf', 'w_ff', 'w_ffx', 'w_cglo', 'w_so_h', 'w_rr', 'w_rrm',\n",
       "       'w_tb10', 'w_tb20', 'CEGH_WAP', 'THE_WAP', 's24', 's168', 's8760',\n",
       "       'series_key'],\n",
       "      dtype='object')"
      ]
     },
     "execution_count": 15,
     "metadata": {},
     "output_type": "execute_result"
    }
   ],
   "execution_count": 15
  },
  {
   "metadata": {
    "ExecuteTime": {
     "end_time": "2025-07-13T12:26:40.146430Z",
     "start_time": "2025-07-13T12:26:39.398824Z"
    }
   },
   "cell_type": "code",
   "source": [
    "panel_exog = panel.drop(columns=['consumption', 'von  | von'])\n",
    "\n",
    "X = pd.get_dummies(\n",
    "    panel_exog,\n",
    "    columns=['series_key'],\n",
    "    drop_first=True\n",
    ")\n",
    "\n",
    "# 3) Sicherstellen, dass alles float ist:\n",
    "X = X.astype('float64')\n",
    "\n",
    "# 4) Endogen definieren\n",
    "y = panel['consumption'].astype('float64')\n"
   ],
   "id": "de7c16085863cb78",
   "outputs": [],
   "execution_count": 16
  },
  {
   "metadata": {
    "ExecuteTime": {
     "end_time": "2025-07-13T12:21:08.073503Z",
     "start_time": "2025-07-13T12:21:08.055640Z"
    }
   },
   "cell_type": "code",
   "source": "print(panel.dtypes)",
   "id": "589b0ea93d0ac32a",
   "outputs": [
    {
     "name": "stdout",
     "output_type": "stream",
     "text": [
      "von  | von     datetime64[ns]\n",
      "consumption           float64\n",
      "hour                    int32\n",
      "weekday                 int32\n",
      "month                   int32\n",
      "is_weekend              int64\n",
      "w_tl                  float64\n",
      "w_rf                  float64\n",
      "w_ff                  float64\n",
      "w_ffx                 float64\n",
      "w_cglo                float64\n",
      "w_so_h                float64\n",
      "w_rr                  float64\n",
      "w_rrm                 float64\n",
      "w_tb10                float64\n",
      "w_tb20                float64\n",
      "CEGH_WAP              float64\n",
      "THE_WAP               float64\n",
      "s24                   float64\n",
      "s168                  float64\n",
      "s8760                 float64\n",
      "series_key             object\n",
      "dtype: object\n"
     ]
    }
   ],
   "execution_count": 9
  },
  {
   "metadata": {
    "ExecuteTime": {
     "end_time": "2025-07-13T12:21:33.183989Z",
     "start_time": "2025-07-13T12:21:33.162384Z"
    }
   },
   "cell_type": "code",
   "source": "print(X.dtypes.value_counts())",
   "id": "cbf8a5ec348b5b0e",
   "outputs": [
    {
     "name": "stdout",
     "output_type": "stream",
     "text": [
      "bool       50\n",
      "float64    15\n",
      "int32       3\n",
      "int64       1\n",
      "Name: count, dtype: int64\n"
     ]
    }
   ],
   "execution_count": 10
  },
  {
   "metadata": {
    "ExecuteTime": {
     "end_time": "2025-07-21T04:54:01.280814Z",
     "start_time": "2025-07-20T19:18:28.669824Z"
    }
   },
   "cell_type": "code",
   "source": [
    "# Dictionary zum Speichern der Ergebnisse\n",
    "results = {}\n",
    "\n",
    "# Liste aller Exogenen Features\n",
    "exog_vars = [\n",
    "    'hour','weekday','month','is_weekend',\n",
    "    'w_tl','w_rf','w_ff','w_ffx','w_cglo','w_so_h',\n",
    "    'w_rr','w_rrm','w_tb10','w_tb20',\n",
    "    'CEGH_WAP','THE_WAP',\n",
    "    's24','s168','s8760'\n",
    "]\n",
    "\n",
    "for key, df in tqdm(series_dfs.items(), desc=\"Fitting pro Serie\"):\n",
    "    # 1) Index duplikatfrei & stündliche Frequenz erzwingen\n",
    "    df = df[~df.index.duplicated(keep='first')]\n",
    "    df = df.asfreq('h')\n",
    "\n",
    "    # 2) MSTL-Seasonal-Features holen und joinen\n",
    "    m = mstl_results[key].seasonal.rename(columns={\n",
    "        'seasonal_24':   's24',\n",
    "        'seasonal_168':  's168',\n",
    "        'seasonal_8760': 's8760'\n",
    "    })\n",
    "    df_i = df.join(m, how='left')\n",
    "\n",
    "    # 3) Komplettes Drop-NaN (inkl. MSTL-Kälte am Anfang)\n",
    "    df_clean = df_i[['consumption'] + exog_vars].dropna()\n",
    "\n",
    "    # 4) Index als lückenlose Stundenreihe neu aufbauen\n",
    "    start   = df_clean.index.min()\n",
    "    periods = len(df_clean)\n",
    "    df_clean.index = pd.date_range(start=start, periods=periods, freq='h')\n",
    "\n",
    "    # 5) SARIMAX definieren und fitten mit low_memory\n",
    "    model_i = SARIMAX(\n",
    "        endog = df_clean['consumption'].astype('float64'),\n",
    "        exog  = df_clean[exog_vars].astype('float64'),\n",
    "        order            = (1,0,1),\n",
    "        seasonal_order   = (1,0,0,24),\n",
    "        enforce_stationarity   = False,\n",
    "        enforce_invertibility   = False\n",
    "    )\n",
    "    results[key] = model_i.fit(disp=False, low_memory=True)"
   ],
   "id": "a6f8fd0166d4c800",
   "outputs": [
    {
     "name": "stderr",
     "output_type": "stream",
     "text": [
      "Fitting pro Serie:   0%|          | 0/51 [00:00<?, ?it/s]C:\\Users\\johan\\miniconda3\\envs\\ersatzwerte_project\\lib\\site-packages\\statsmodels\\base\\model.py:607: ConvergenceWarning: Maximum Likelihood optimization failed to converge. Check mle_retvals\n",
      "  warnings.warn(\"Maximum Likelihood optimization failed to \"\n",
      "Fitting pro Serie:   2%|▏         | 1/51 [20:09<16:48:18, 1209.97s/it]C:\\Users\\johan\\miniconda3\\envs\\ersatzwerte_project\\lib\\site-packages\\statsmodels\\base\\model.py:607: ConvergenceWarning: Maximum Likelihood optimization failed to converge. Check mle_retvals\n",
      "  warnings.warn(\"Maximum Likelihood optimization failed to \"\n",
      "Fitting pro Serie:   4%|▍         | 2/51 [39:47<16:12:28, 1190.79s/it]C:\\Users\\johan\\miniconda3\\envs\\ersatzwerte_project\\lib\\site-packages\\statsmodels\\base\\model.py:607: ConvergenceWarning: Maximum Likelihood optimization failed to converge. Check mle_retvals\n",
      "  warnings.warn(\"Maximum Likelihood optimization failed to \"\n",
      "Fitting pro Serie:   6%|▌         | 3/51 [59:46<15:55:47, 1194.75s/it]C:\\Users\\johan\\miniconda3\\envs\\ersatzwerte_project\\lib\\site-packages\\statsmodels\\base\\model.py:607: ConvergenceWarning: Maximum Likelihood optimization failed to converge. Check mle_retvals\n",
      "  warnings.warn(\"Maximum Likelihood optimization failed to \"\n",
      "Fitting pro Serie:   8%|▊         | 4/51 [1:20:18<15:47:12, 1209.21s/it]C:\\Users\\johan\\miniconda3\\envs\\ersatzwerte_project\\lib\\site-packages\\statsmodels\\base\\model.py:607: ConvergenceWarning: Maximum Likelihood optimization failed to converge. Check mle_retvals\n",
      "  warnings.warn(\"Maximum Likelihood optimization failed to \"\n",
      "Fitting pro Serie:  12%|█▏        | 6/51 [2:00:02<14:51:00, 1188.01s/it]C:\\Users\\johan\\miniconda3\\envs\\ersatzwerte_project\\lib\\site-packages\\statsmodels\\base\\model.py:607: ConvergenceWarning: Maximum Likelihood optimization failed to converge. Check mle_retvals\n",
      "  warnings.warn(\"Maximum Likelihood optimization failed to \"\n",
      "Fitting pro Serie:  14%|█▎        | 7/51 [2:10:36<12:18:25, 1006.93s/it]C:\\Users\\johan\\miniconda3\\envs\\ersatzwerte_project\\lib\\site-packages\\statsmodels\\base\\model.py:607: ConvergenceWarning: Maximum Likelihood optimization failed to converge. Check mle_retvals\n",
      "  warnings.warn(\"Maximum Likelihood optimization failed to \"\n",
      "Fitting pro Serie:  16%|█▌        | 8/51 [2:21:20<10:38:40, 891.18s/it] C:\\Users\\johan\\miniconda3\\envs\\ersatzwerte_project\\lib\\site-packages\\statsmodels\\base\\model.py:607: ConvergenceWarning: Maximum Likelihood optimization failed to converge. Check mle_retvals\n",
      "  warnings.warn(\"Maximum Likelihood optimization failed to \"\n",
      "Fitting pro Serie:  18%|█▊        | 9/51 [2:31:20<9:20:07, 800.18s/it] C:\\Users\\johan\\miniconda3\\envs\\ersatzwerte_project\\lib\\site-packages\\statsmodels\\base\\model.py:607: ConvergenceWarning: Maximum Likelihood optimization failed to converge. Check mle_retvals\n",
      "  warnings.warn(\"Maximum Likelihood optimization failed to \"\n",
      "Fitting pro Serie:  20%|█▉        | 10/51 [2:41:22<8:25:03, 739.12s/it]C:\\Users\\johan\\miniconda3\\envs\\ersatzwerte_project\\lib\\site-packages\\statsmodels\\base\\model.py:607: ConvergenceWarning: Maximum Likelihood optimization failed to converge. Check mle_retvals\n",
      "  warnings.warn(\"Maximum Likelihood optimization failed to \"\n",
      "Fitting pro Serie:  22%|██▏       | 11/51 [2:51:49<7:49:46, 704.65s/it]C:\\Users\\johan\\miniconda3\\envs\\ersatzwerte_project\\lib\\site-packages\\statsmodels\\base\\model.py:607: ConvergenceWarning: Maximum Likelihood optimization failed to converge. Check mle_retvals\n",
      "  warnings.warn(\"Maximum Likelihood optimization failed to \"\n",
      "Fitting pro Serie:  24%|██▎       | 12/51 [3:02:24<7:24:19, 683.57s/it]C:\\Users\\johan\\miniconda3\\envs\\ersatzwerte_project\\lib\\site-packages\\statsmodels\\base\\model.py:607: ConvergenceWarning: Maximum Likelihood optimization failed to converge. Check mle_retvals\n",
      "  warnings.warn(\"Maximum Likelihood optimization failed to \"\n",
      "Fitting pro Serie:  25%|██▌       | 13/51 [3:13:11<7:05:48, 672.33s/it]C:\\Users\\johan\\miniconda3\\envs\\ersatzwerte_project\\lib\\site-packages\\statsmodels\\base\\model.py:607: ConvergenceWarning: Maximum Likelihood optimization failed to converge. Check mle_retvals\n",
      "  warnings.warn(\"Maximum Likelihood optimization failed to \"\n",
      "Fitting pro Serie:  27%|██▋       | 14/51 [3:23:13<6:41:39, 651.35s/it]C:\\Users\\johan\\miniconda3\\envs\\ersatzwerte_project\\lib\\site-packages\\statsmodels\\base\\model.py:607: ConvergenceWarning: Maximum Likelihood optimization failed to converge. Check mle_retvals\n",
      "  warnings.warn(\"Maximum Likelihood optimization failed to \"\n",
      "Fitting pro Serie:  29%|██▉       | 15/51 [3:33:34<6:25:14, 642.07s/it]C:\\Users\\johan\\miniconda3\\envs\\ersatzwerte_project\\lib\\site-packages\\statsmodels\\base\\model.py:607: ConvergenceWarning: Maximum Likelihood optimization failed to converge. Check mle_retvals\n",
      "  warnings.warn(\"Maximum Likelihood optimization failed to \"\n",
      "Fitting pro Serie:  31%|███▏      | 16/51 [3:43:45<6:09:06, 632.77s/it]C:\\Users\\johan\\miniconda3\\envs\\ersatzwerte_project\\lib\\site-packages\\statsmodels\\base\\model.py:607: ConvergenceWarning: Maximum Likelihood optimization failed to converge. Check mle_retvals\n",
      "  warnings.warn(\"Maximum Likelihood optimization failed to \"\n",
      "Fitting pro Serie:  33%|███▎      | 17/51 [3:54:05<5:56:23, 628.94s/it]C:\\Users\\johan\\miniconda3\\envs\\ersatzwerte_project\\lib\\site-packages\\statsmodels\\base\\model.py:607: ConvergenceWarning: Maximum Likelihood optimization failed to converge. Check mle_retvals\n",
      "  warnings.warn(\"Maximum Likelihood optimization failed to \"\n",
      "Fitting pro Serie:  35%|███▌      | 18/51 [4:04:12<5:42:18, 622.38s/it]C:\\Users\\johan\\miniconda3\\envs\\ersatzwerte_project\\lib\\site-packages\\statsmodels\\base\\model.py:607: ConvergenceWarning: Maximum Likelihood optimization failed to converge. Check mle_retvals\n",
      "  warnings.warn(\"Maximum Likelihood optimization failed to \"\n",
      "Fitting pro Serie:  37%|███▋      | 19/51 [4:14:19<5:29:22, 617.58s/it]C:\\Users\\johan\\miniconda3\\envs\\ersatzwerte_project\\lib\\site-packages\\statsmodels\\base\\model.py:607: ConvergenceWarning: Maximum Likelihood optimization failed to converge. Check mle_retvals\n",
      "  warnings.warn(\"Maximum Likelihood optimization failed to \"\n",
      "Fitting pro Serie:  39%|███▉      | 20/51 [4:25:04<5:23:25, 625.99s/it]C:\\Users\\johan\\miniconda3\\envs\\ersatzwerte_project\\lib\\site-packages\\statsmodels\\base\\model.py:607: ConvergenceWarning: Maximum Likelihood optimization failed to converge. Check mle_retvals\n",
      "  warnings.warn(\"Maximum Likelihood optimization failed to \"\n",
      "Fitting pro Serie:  41%|████      | 21/51 [4:35:13<5:10:28, 620.94s/it]C:\\Users\\johan\\miniconda3\\envs\\ersatzwerte_project\\lib\\site-packages\\statsmodels\\base\\model.py:607: ConvergenceWarning: Maximum Likelihood optimization failed to converge. Check mle_retvals\n",
      "  warnings.warn(\"Maximum Likelihood optimization failed to \"\n",
      "Fitting pro Serie:  43%|████▎     | 22/51 [4:45:21<4:58:13, 617.01s/it]C:\\Users\\johan\\miniconda3\\envs\\ersatzwerte_project\\lib\\site-packages\\statsmodels\\base\\model.py:607: ConvergenceWarning: Maximum Likelihood optimization failed to converge. Check mle_retvals\n",
      "  warnings.warn(\"Maximum Likelihood optimization failed to \"\n",
      "Fitting pro Serie:  45%|████▌     | 23/51 [4:55:10<4:43:57, 608.49s/it]C:\\Users\\johan\\miniconda3\\envs\\ersatzwerte_project\\lib\\site-packages\\statsmodels\\base\\model.py:607: ConvergenceWarning: Maximum Likelihood optimization failed to converge. Check mle_retvals\n",
      "  warnings.warn(\"Maximum Likelihood optimization failed to \"\n",
      "Fitting pro Serie:  47%|████▋     | 24/51 [5:05:17<4:33:38, 608.11s/it]C:\\Users\\johan\\miniconda3\\envs\\ersatzwerte_project\\lib\\site-packages\\statsmodels\\base\\model.py:607: ConvergenceWarning: Maximum Likelihood optimization failed to converge. Check mle_retvals\n",
      "  warnings.warn(\"Maximum Likelihood optimization failed to \"\n",
      "Fitting pro Serie:  49%|████▉     | 25/51 [5:15:19<4:22:38, 606.11s/it]C:\\Users\\johan\\miniconda3\\envs\\ersatzwerte_project\\lib\\site-packages\\statsmodels\\base\\model.py:607: ConvergenceWarning: Maximum Likelihood optimization failed to converge. Check mle_retvals\n",
      "  warnings.warn(\"Maximum Likelihood optimization failed to \"\n",
      "Fitting pro Serie:  51%|█████     | 26/51 [5:24:57<4:09:03, 597.73s/it]C:\\Users\\johan\\miniconda3\\envs\\ersatzwerte_project\\lib\\site-packages\\statsmodels\\base\\model.py:607: ConvergenceWarning: Maximum Likelihood optimization failed to converge. Check mle_retvals\n",
      "  warnings.warn(\"Maximum Likelihood optimization failed to \"\n",
      "Fitting pro Serie:  53%|█████▎    | 27/51 [5:34:43<3:57:45, 594.42s/it]C:\\Users\\johan\\miniconda3\\envs\\ersatzwerte_project\\lib\\site-packages\\statsmodels\\base\\model.py:607: ConvergenceWarning: Maximum Likelihood optimization failed to converge. Check mle_retvals\n",
      "  warnings.warn(\"Maximum Likelihood optimization failed to \"\n",
      "Fitting pro Serie:  55%|█████▍    | 28/51 [5:44:42<3:48:19, 595.65s/it]C:\\Users\\johan\\miniconda3\\envs\\ersatzwerte_project\\lib\\site-packages\\statsmodels\\base\\model.py:607: ConvergenceWarning: Maximum Likelihood optimization failed to converge. Check mle_retvals\n",
      "  warnings.warn(\"Maximum Likelihood optimization failed to \"\n",
      "Fitting pro Serie:  57%|█████▋    | 29/51 [5:54:59<3:40:45, 602.07s/it]C:\\Users\\johan\\miniconda3\\envs\\ersatzwerte_project\\lib\\site-packages\\statsmodels\\base\\model.py:607: ConvergenceWarning: Maximum Likelihood optimization failed to converge. Check mle_retvals\n",
      "  warnings.warn(\"Maximum Likelihood optimization failed to \"\n",
      "Fitting pro Serie:  59%|█████▉    | 30/51 [6:05:16<3:32:18, 606.62s/it]C:\\Users\\johan\\miniconda3\\envs\\ersatzwerte_project\\lib\\site-packages\\statsmodels\\base\\model.py:607: ConvergenceWarning: Maximum Likelihood optimization failed to converge. Check mle_retvals\n",
      "  warnings.warn(\"Maximum Likelihood optimization failed to \"\n",
      "Fitting pro Serie:  61%|██████    | 31/51 [6:15:43<3:24:13, 612.65s/it]C:\\Users\\johan\\miniconda3\\envs\\ersatzwerte_project\\lib\\site-packages\\statsmodels\\base\\model.py:607: ConvergenceWarning: Maximum Likelihood optimization failed to converge. Check mle_retvals\n",
      "  warnings.warn(\"Maximum Likelihood optimization failed to \"\n",
      "Fitting pro Serie:  63%|██████▎   | 32/51 [6:25:30<3:11:34, 604.97s/it]C:\\Users\\johan\\miniconda3\\envs\\ersatzwerte_project\\lib\\site-packages\\statsmodels\\base\\model.py:607: ConvergenceWarning: Maximum Likelihood optimization failed to converge. Check mle_retvals\n",
      "  warnings.warn(\"Maximum Likelihood optimization failed to \"\n",
      "Fitting pro Serie:  65%|██████▍   | 33/51 [6:35:47<3:02:33, 608.51s/it]C:\\Users\\johan\\miniconda3\\envs\\ersatzwerte_project\\lib\\site-packages\\statsmodels\\base\\model.py:607: ConvergenceWarning: Maximum Likelihood optimization failed to converge. Check mle_retvals\n",
      "  warnings.warn(\"Maximum Likelihood optimization failed to \"\n",
      "Fitting pro Serie:  67%|██████▋   | 34/51 [6:45:40<2:51:04, 603.79s/it]C:\\Users\\johan\\miniconda3\\envs\\ersatzwerte_project\\lib\\site-packages\\statsmodels\\base\\model.py:607: ConvergenceWarning: Maximum Likelihood optimization failed to converge. Check mle_retvals\n",
      "  warnings.warn(\"Maximum Likelihood optimization failed to \"\n",
      "Fitting pro Serie:  69%|██████▊   | 35/51 [6:54:15<2:33:54, 577.16s/it]C:\\Users\\johan\\miniconda3\\envs\\ersatzwerte_project\\lib\\site-packages\\statsmodels\\base\\model.py:607: ConvergenceWarning: Maximum Likelihood optimization failed to converge. Check mle_retvals\n",
      "  warnings.warn(\"Maximum Likelihood optimization failed to \"\n",
      "Fitting pro Serie:  71%|███████   | 36/51 [7:04:45<2:28:17, 593.15s/it]C:\\Users\\johan\\miniconda3\\envs\\ersatzwerte_project\\lib\\site-packages\\statsmodels\\base\\model.py:607: ConvergenceWarning: Maximum Likelihood optimization failed to converge. Check mle_retvals\n",
      "  warnings.warn(\"Maximum Likelihood optimization failed to \"\n",
      "Fitting pro Serie:  73%|███████▎  | 37/51 [7:14:43<2:18:46, 594.73s/it]C:\\Users\\johan\\miniconda3\\envs\\ersatzwerte_project\\lib\\site-packages\\statsmodels\\base\\model.py:607: ConvergenceWarning: Maximum Likelihood optimization failed to converge. Check mle_retvals\n",
      "  warnings.warn(\"Maximum Likelihood optimization failed to \"\n",
      "Fitting pro Serie:  75%|███████▍  | 38/51 [7:24:35<2:08:40, 593.89s/it]C:\\Users\\johan\\miniconda3\\envs\\ersatzwerte_project\\lib\\site-packages\\statsmodels\\base\\model.py:607: ConvergenceWarning: Maximum Likelihood optimization failed to converge. Check mle_retvals\n",
      "  warnings.warn(\"Maximum Likelihood optimization failed to \"\n",
      "Fitting pro Serie:  76%|███████▋  | 39/51 [7:34:28<1:58:41, 593.43s/it]C:\\Users\\johan\\miniconda3\\envs\\ersatzwerte_project\\lib\\site-packages\\statsmodels\\base\\model.py:607: ConvergenceWarning: Maximum Likelihood optimization failed to converge. Check mle_retvals\n",
      "  warnings.warn(\"Maximum Likelihood optimization failed to \"\n",
      "Fitting pro Serie:  78%|███████▊  | 40/51 [7:44:29<1:49:12, 595.70s/it]C:\\Users\\johan\\miniconda3\\envs\\ersatzwerte_project\\lib\\site-packages\\statsmodels\\base\\model.py:607: ConvergenceWarning: Maximum Likelihood optimization failed to converge. Check mle_retvals\n",
      "  warnings.warn(\"Maximum Likelihood optimization failed to \"\n",
      "Fitting pro Serie:  80%|████████  | 41/51 [7:54:58<1:40:56, 605.69s/it]C:\\Users\\johan\\miniconda3\\envs\\ersatzwerte_project\\lib\\site-packages\\statsmodels\\base\\model.py:607: ConvergenceWarning: Maximum Likelihood optimization failed to converge. Check mle_retvals\n",
      "  warnings.warn(\"Maximum Likelihood optimization failed to \"\n",
      "Fitting pro Serie:  82%|████████▏ | 42/51 [8:04:54<1:30:26, 602.92s/it]C:\\Users\\johan\\miniconda3\\envs\\ersatzwerte_project\\lib\\site-packages\\statsmodels\\base\\model.py:607: ConvergenceWarning: Maximum Likelihood optimization failed to converge. Check mle_retvals\n",
      "  warnings.warn(\"Maximum Likelihood optimization failed to \"\n",
      "Fitting pro Serie:  84%|████████▍ | 43/51 [8:14:57<1:20:23, 602.96s/it]C:\\Users\\johan\\miniconda3\\envs\\ersatzwerte_project\\lib\\site-packages\\statsmodels\\base\\model.py:607: ConvergenceWarning: Maximum Likelihood optimization failed to converge. Check mle_retvals\n",
      "  warnings.warn(\"Maximum Likelihood optimization failed to \"\n",
      "Fitting pro Serie:  86%|████████▋ | 44/51 [8:24:47<1:09:53, 599.05s/it]C:\\Users\\johan\\miniconda3\\envs\\ersatzwerte_project\\lib\\site-packages\\statsmodels\\base\\model.py:607: ConvergenceWarning: Maximum Likelihood optimization failed to converge. Check mle_retvals\n",
      "  warnings.warn(\"Maximum Likelihood optimization failed to \"\n",
      "Fitting pro Serie:  88%|████████▊ | 45/51 [8:35:13<1:00:42, 607.09s/it]C:\\Users\\johan\\miniconda3\\envs\\ersatzwerte_project\\lib\\site-packages\\statsmodels\\base\\model.py:607: ConvergenceWarning: Maximum Likelihood optimization failed to converge. Check mle_retvals\n",
      "  warnings.warn(\"Maximum Likelihood optimization failed to \"\n",
      "Fitting pro Serie:  90%|█████████ | 46/51 [8:45:32<50:54, 610.81s/it]  C:\\Users\\johan\\miniconda3\\envs\\ersatzwerte_project\\lib\\site-packages\\statsmodels\\base\\model.py:607: ConvergenceWarning: Maximum Likelihood optimization failed to converge. Check mle_retvals\n",
      "  warnings.warn(\"Maximum Likelihood optimization failed to \"\n",
      "Fitting pro Serie:  92%|█████████▏| 47/51 [8:55:43<40:42, 610.60s/it]C:\\Users\\johan\\miniconda3\\envs\\ersatzwerte_project\\lib\\site-packages\\statsmodels\\base\\model.py:607: ConvergenceWarning: Maximum Likelihood optimization failed to converge. Check mle_retvals\n",
      "  warnings.warn(\"Maximum Likelihood optimization failed to \"\n",
      "Fitting pro Serie:  94%|█████████▍| 48/51 [9:05:28<30:09, 603.20s/it]C:\\Users\\johan\\miniconda3\\envs\\ersatzwerte_project\\lib\\site-packages\\statsmodels\\base\\model.py:607: ConvergenceWarning: Maximum Likelihood optimization failed to converge. Check mle_retvals\n",
      "  warnings.warn(\"Maximum Likelihood optimization failed to \"\n",
      "Fitting pro Serie:  96%|█████████▌| 49/51 [9:15:47<20:15, 607.70s/it]C:\\Users\\johan\\miniconda3\\envs\\ersatzwerte_project\\lib\\site-packages\\statsmodels\\base\\model.py:607: ConvergenceWarning: Maximum Likelihood optimization failed to converge. Check mle_retvals\n",
      "  warnings.warn(\"Maximum Likelihood optimization failed to \"\n",
      "Fitting pro Serie:  98%|█████████▊| 50/51 [9:25:40<10:03, 603.44s/it]C:\\Users\\johan\\miniconda3\\envs\\ersatzwerte_project\\lib\\site-packages\\statsmodels\\base\\model.py:607: ConvergenceWarning: Maximum Likelihood optimization failed to converge. Check mle_retvals\n",
      "  warnings.warn(\"Maximum Likelihood optimization failed to \"\n",
      "Fitting pro Serie: 100%|██████████| 51/51 [9:35:32<00:00, 677.11s/it]\n"
     ]
    }
   ],
   "execution_count": 13
  },
  {
   "metadata": {
    "ExecuteTime": {
     "end_time": "2025-07-21T12:00:45.749896Z",
     "start_time": "2025-07-21T12:00:45.718273Z"
    }
   },
   "cell_type": "code",
   "source": "results['FL_00024702.PLAN.MengeHH'].mle_retvals",
   "id": "206eca9c4847493",
   "outputs": [
    {
     "data": {
      "text/plain": [
       "{'fopt': np.float64(0.7955719494794584),\n",
       " 'gopt': array([-0.0775598 , -0.02918506, -0.00292882, -0.01457219, -0.04659794,\n",
       "         0.03590045,  0.04901243, -0.04816481,  0.19045068,  0.06267921,\n",
       "         0.03877144, -0.00768081, -0.04405831,  0.00537182,  0.03907896,\n",
       "         0.03728106, -0.10247029, -0.01411864, -0.02674244,  0.00386129,\n",
       "        -0.06137141, -0.04163195,  0.04065647]),\n",
       " 'fcalls': 1536,\n",
       " 'warnflag': 1,\n",
       " 'converged': False,\n",
       " 'iterations': 50}"
      ]
     },
     "execution_count": 15,
     "metadata": {},
     "output_type": "execute_result"
    }
   ],
   "execution_count": 15
  },
  {
   "metadata": {
    "ExecuteTime": {
     "end_time": "2025-07-21T12:42:40.381395Z",
     "start_time": "2025-07-21T12:42:36.753588Z"
    }
   },
   "cell_type": "code",
   "source": [
    "import pickle\n",
    "\n",
    "with open('../data/sarimax_results.pkl', 'wb') as f:\n",
    "    pickle.dump(results, f)"
   ],
   "id": "77ca0170ddbaf27b",
   "outputs": [],
   "execution_count": 17
  },
  {
   "metadata": {
    "ExecuteTime": {
     "end_time": "2025-07-21T12:43:01.920645Z",
     "start_time": "2025-07-21T12:43:01.829423Z"
    }
   },
   "cell_type": "code",
   "source": [
    "# Wähle genau eine Serie aus:\n",
    "key = 'FL_00024702.PLAN.MengeHH'      # <-- hier deinen gewünschten Key eintragen\n",
    "df = series_dfs[key]\n",
    "\n",
    "# 1) Index duplikatfrei & stündlich ausrichten\n",
    "df = df[~df.index.duplicated(keep='first')]\n",
    "df = df.asfreq('h')\n",
    "\n",
    "# 2) MSTL-Seasonal-Features holen und joinen\n",
    "m = mstl_results[key].seasonal.rename(columns={\n",
    "    'seasonal_24':   's24',\n",
    "    'seasonal_168':  's168',\n",
    "    'seasonal_8760': 's8760'\n",
    "})\n",
    "df_i = df.join(m, how='left')\n",
    "\n",
    "# 3) Alle NaNs (inkl. MSTL-Edge) entfernen\n",
    "exog_vars = [\n",
    "    'hour','weekday','month','is_weekend',\n",
    "    'w_tl','w_rf','w_ff','w_ffx','w_cglo','w_so_h',\n",
    "    'w_rr','w_rrm','w_tb10','w_tb20',\n",
    "    'CEGH_WAP','THE_WAP',\n",
    "    's24','s168','s8760'\n",
    "]\n",
    "df_clean = df_i[['consumption'] + exog_vars].dropna()\n",
    "\n",
    "# 4) Lückenlosen Stunden-Index neu aufbauen\n",
    "start   = df_clean.index.min()\n",
    "periods = len(df_clean)\n",
    "df_clean.index = pd.date_range(start=start, periods=periods, freq='h')"
   ],
   "id": "cc3c146d819baf03",
   "outputs": [],
   "execution_count": 18
  },
  {
   "metadata": {
    "ExecuteTime": {
     "end_time": "2025-07-21T12:43:24.415817Z",
     "start_time": "2025-07-21T12:43:24.349399Z"
    }
   },
   "cell_type": "code",
   "source": [
    "model = SARIMAX(\n",
    "    endog = df_clean['consumption'].astype('float64'),\n",
    "    exog  = df_clean[exog_vars].astype('float64'),\n",
    "    order            = (1,0,1),\n",
    "    seasonal_order   = (1,0,0,24),\n",
    "    enforce_stationarity   = False,\n",
    "    enforce_invertibility   = False\n",
    ")"
   ],
   "id": "a246dbed7cfd575a",
   "outputs": [],
   "execution_count": 19
  },
  {
   "metadata": {
    "ExecuteTime": {
     "end_time": "2025-07-21T12:49:51.366010Z",
     "start_time": "2025-07-21T12:44:05.023323Z"
    }
   },
   "cell_type": "code",
   "source": [
    "res_single_nel = model.fit(\n",
    "    disp=False,\n",
    "    low_memory=True,\n",
    "    method='nm',     # Nelder–Mead\n",
    "    maxiter=200      # bis zu 200 Iterationen\n",
    ")\n",
    "print(res_single_nel.summary())"
   ],
   "id": "cfab33d54c788d1",
   "outputs": [
    {
     "name": "stderr",
     "output_type": "stream",
     "text": [
      "C:\\Users\\johan\\miniconda3\\envs\\ersatzwerte_project\\lib\\site-packages\\statsmodels\\base\\model.py:607: ConvergenceWarning: Maximum Likelihood optimization failed to converge. Check mle_retvals\n",
      "  warnings.warn(\"Maximum Likelihood optimization failed to \"\n"
     ]
    },
    {
     "name": "stdout",
     "output_type": "stream",
     "text": [
      "                                      SARIMAX Results                                      \n",
      "===========================================================================================\n",
      "Dep. Variable:                         consumption   No. Observations:                35114\n",
      "Model:             SARIMAX(1, 0, 1)x(1, 0, [], 24)   Log Likelihood              -50547.823\n",
      "Date:                             Mon, 21 Jul 2025   AIC                         101141.647\n",
      "Time:                                     14:49:44   BIC                         101336.357\n",
      "Sample:                                 01-01-2015   HQIC                        101203.659\n",
      "                                      - 01-03-2019                                         \n",
      "Covariance Type:                            approx                                         \n",
      "==============================================================================\n",
      "                 coef    std err          z      P>|z|      [0.025      0.975]\n",
      "------------------------------------------------------------------------------\n",
      "hour           0.0703      0.002     40.919      0.000       0.067       0.074\n",
      "weekday        0.2495      0.015     17.019      0.000       0.221       0.278\n",
      "month         -0.1294      0.042     -3.094      0.002      -0.211      -0.047\n",
      "is_weekend    -0.5804      0.069     -8.441      0.000      -0.715      -0.446\n",
      "w_tl          -0.4142      0.011    -38.826      0.000      -0.435      -0.393\n",
      "w_rf           0.0960      0.002     51.280      0.000       0.092       0.100\n",
      "w_ff           0.5265      0.016     32.885      0.000       0.495       0.558\n",
      "w_ffx          0.2373      0.005     44.410      0.000       0.227       0.248\n",
      "w_cglo         0.0074   8.96e-05     82.085      0.000       0.007       0.008\n",
      "w_so_h         0.6830      0.039     17.715      0.000       0.607       0.759\n",
      "w_rr          -0.5732      0.011    -52.205      0.000      -0.595      -0.552\n",
      "w_rrm         -0.0124      0.001    -22.933      0.000      -0.013      -0.011\n",
      "w_tb10        -2.1487      0.064    -33.628      0.000      -2.274      -2.023\n",
      "w_tb20         2.2313      0.079     28.413      0.000       2.077       2.385\n",
      "CEGH_WAP       1.0024      0.106      9.471      0.000       0.795       1.210\n",
      "THE_WAP       -0.4214      0.102     -4.150      0.000      -0.620      -0.222\n",
      "s24            1.1179      0.004    303.861      0.000       1.111       1.125\n",
      "s168           0.9467      0.013     72.619      0.000       0.921       0.972\n",
      "s8760          0.9947      0.013     74.532      0.000       0.969       1.021\n",
      "ar.L1          0.9759      0.002    466.678      0.000       0.972       0.980\n",
      "ma.L1          0.0041      0.006      0.688      0.492      -0.008       0.016\n",
      "ar.S.L24       0.3070      0.009     32.472      0.000       0.288       0.326\n",
      "sigma2         0.9756        nan        nan        nan         nan         nan\n",
      "===================================================================================\n",
      "Ljung-Box (L1) (Q):                  53.09   Jarque-Bera (JB):             54067.03\n",
      "Prob(Q):                              0.00   Prob(JB):                         0.00\n",
      "Heteroskedasticity (H):               0.92   Skew:                            -0.03\n",
      "Prob(H) (two-sided):                  0.00   Kurtosis:                         9.08\n",
      "===================================================================================\n",
      "\n",
      "Warnings:\n",
      "[1] Covariance matrix calculated using numerical (complex-step) differentiation.\n"
     ]
    }
   ],
   "execution_count": 20
  },
  {
   "metadata": {
    "ExecuteTime": {
     "end_time": "2025-07-21T13:07:12.802098Z",
     "start_time": "2025-07-21T12:49:51.477216Z"
    }
   },
   "cell_type": "code",
   "source": [
    "res_powell = model.fit(\n",
    "    disp=False,\n",
    "    low_memory=True,\n",
    "    method='powell',\n",
    "    maxiter=300\n",
    ")\n",
    "print(res_powell.summary())"
   ],
   "id": "7f33e13c89b4eb5",
   "outputs": [
    {
     "name": "stdout",
     "output_type": "stream",
     "text": [
      "                                      SARIMAX Results                                      \n",
      "===========================================================================================\n",
      "Dep. Variable:                         consumption   No. Observations:                35114\n",
      "Model:             SARIMAX(1, 0, 1)x(1, 0, [], 24)   Log Likelihood              -24802.026\n",
      "Date:                             Mon, 21 Jul 2025   AIC                          49650.052\n",
      "Time:                                     15:07:06   BIC                          49844.762\n",
      "Sample:                                 01-01-2015   HQIC                         49712.065\n",
      "                                      - 01-03-2019                                         \n",
      "Covariance Type:                            approx                                         \n",
      "==============================================================================\n",
      "                 coef    std err          z      P>|z|      [0.025      0.975]\n",
      "------------------------------------------------------------------------------\n",
      "hour           0.0004      0.000      0.891      0.373      -0.000       0.001\n",
      "weekday       -0.0008      0.008     -0.093      0.926      -0.017       0.015\n",
      "month         -0.0066      0.023     -0.288      0.773      -0.052       0.038\n",
      "is_weekend    -0.0035      0.037     -0.097      0.923      -0.075       0.068\n",
      "w_tl          -0.0688      0.005    -12.837      0.000      -0.079      -0.058\n",
      "w_rf          -0.0035      0.001     -3.531      0.000      -0.005      -0.002\n",
      "w_ff          -0.0095      0.007     -1.397      0.163      -0.023       0.004\n",
      "w_ffx         -0.0073      0.002     -3.211      0.001      -0.012      -0.003\n",
      "w_cglo         0.0003   4.76e-05      6.489      0.000       0.000       0.000\n",
      "w_so_h        -0.0705      0.015     -4.598      0.000      -0.101      -0.040\n",
      "w_rr           0.0034      0.005      0.751      0.453      -0.006       0.012\n",
      "w_rrm         -0.0006      0.000     -2.373      0.018      -0.001      -0.000\n",
      "w_tb10        -0.0364      0.029     -1.256      0.209      -0.093       0.020\n",
      "w_tb20         0.0384      0.035      1.081      0.280      -0.031       0.108\n",
      "CEGH_WAP       0.1629      0.056      2.932      0.003       0.054       0.272\n",
      "THE_WAP       -0.1429      0.051     -2.777      0.005      -0.244      -0.042\n",
      "s24            1.0031      0.001    978.691      0.000       1.001       1.005\n",
      "s168           1.0648      0.007    159.913      0.000       1.052       1.078\n",
      "s8760          0.9478      0.007    137.468      0.000       0.934       0.961\n",
      "ar.L1          0.9995      0.000   5883.330      0.000       0.999       1.000\n",
      "ma.L1          0.2953      0.005     63.001      0.000       0.286       0.305\n",
      "ar.S.L24      -0.1640      0.005    -30.837      0.000      -0.174      -0.154\n",
      "sigma2         0.2407      0.002    132.414      0.000       0.237       0.244\n",
      "===================================================================================\n",
      "Ljung-Box (L1) (Q):                  38.22   Jarque-Bera (JB):             66068.90\n",
      "Prob(Q):                              0.00   Prob(JB):                         0.00\n",
      "Heteroskedasticity (H):               0.49   Skew:                            -0.18\n",
      "Prob(H) (two-sided):                  0.00   Kurtosis:                         9.71\n",
      "===================================================================================\n",
      "\n",
      "Warnings:\n",
      "[1] Covariance matrix calculated using numerical (complex-step) differentiation.\n"
     ]
    }
   ],
   "execution_count": 21
  },
  {
   "metadata": {
    "ExecuteTime": {
     "end_time": "2025-07-21T13:27:12.984897Z",
     "start_time": "2025-07-21T13:07:12.852008Z"
    }
   },
   "cell_type": "code",
   "source": [
    "# BFGS statt L-BFGS-B\n",
    "res_bfgs = model.fit(\n",
    "    disp=False,\n",
    "    low_memory=True,\n",
    "    method='bfgs',\n",
    "    maxiter=200,\n",
    "    tol=1e-5\n",
    ")\n",
    "\n",
    "print(res_bfgs.summary())"
   ],
   "id": "1d8aeaec2f41d4d8",
   "outputs": [
    {
     "name": "stderr",
     "output_type": "stream",
     "text": [
      "C:\\Users\\johan\\miniconda3\\envs\\ersatzwerte_project\\lib\\site-packages\\statsmodels\\base\\optimizer.py:19: FutureWarning: Keyword arguments have been passed to the optimizer that have no effect. The list of allowed keyword arguments for method bfgs is: gtol, norm, epsilon. The list of unsupported keyword arguments passed include: tol. After release 0.14, this will raise.\n",
      "  warnings.warn(\n"
     ]
    },
    {
     "name": "stdout",
     "output_type": "stream",
     "text": [
      "                                      SARIMAX Results                                      \n",
      "===========================================================================================\n",
      "Dep. Variable:                         consumption   No. Observations:                35114\n",
      "Model:             SARIMAX(1, 0, 1)x(1, 0, [], 24)   Log Likelihood              -24797.822\n",
      "Date:                             Mon, 21 Jul 2025   AIC                          49641.645\n",
      "Time:                                     15:27:05   BIC                          49836.354\n",
      "Sample:                                 01-01-2015   HQIC                         49703.657\n",
      "                                      - 01-03-2019                                         \n",
      "Covariance Type:                            approx                                         \n",
      "==============================================================================\n",
      "                 coef    std err          z      P>|z|      [0.025      0.975]\n",
      "------------------------------------------------------------------------------\n",
      "hour           0.0004      0.000      0.892      0.372      -0.000       0.001\n",
      "weekday       -0.0026      0.008     -0.317      0.751      -0.019       0.013\n",
      "month         -0.0091      0.023     -0.395      0.693      -0.054       0.036\n",
      "is_weekend     0.0028      0.037      0.077      0.939      -0.069       0.074\n",
      "w_tl          -0.0642      0.005    -11.976      0.000      -0.075      -0.054\n",
      "w_rf          -0.0018      0.001     -1.800      0.072      -0.004       0.000\n",
      "w_ff          -0.0086      0.007     -1.259      0.208      -0.022       0.005\n",
      "w_ffx         -0.0071      0.002     -3.136      0.002      -0.012      -0.003\n",
      "w_cglo         0.0003   4.76e-05      7.193      0.000       0.000       0.000\n",
      "w_so_h        -0.0738      0.015     -4.815      0.000      -0.104      -0.044\n",
      "w_rr           0.0029      0.005      0.622      0.534      -0.006       0.012\n",
      "w_rrm         -0.0007      0.000     -2.728      0.006      -0.001      -0.000\n",
      "w_tb10        -0.0420      0.029     -1.449      0.147      -0.099       0.015\n",
      "w_tb20         0.0463      0.035      1.305      0.192      -0.023       0.116\n",
      "CEGH_WAP       0.0412      0.056      0.741      0.458      -0.068       0.150\n",
      "THE_WAP       -0.0332      0.051     -0.646      0.518      -0.134       0.068\n",
      "s24            1.0032      0.001    978.848      0.000       1.001       1.005\n",
      "s168           1.0649      0.007    159.959      0.000       1.052       1.078\n",
      "s8760          0.9477      0.007    137.480      0.000       0.934       0.961\n",
      "ar.L1          0.9995      0.000   5918.434      0.000       0.999       1.000\n",
      "ma.L1          0.2952      0.005     62.974      0.000       0.286       0.304\n",
      "ar.S.L24      -0.1639      0.005    -30.817      0.000      -0.174      -0.154\n",
      "sigma2         0.2406      0.002    132.456      0.000       0.237       0.244\n",
      "===================================================================================\n",
      "Ljung-Box (L1) (Q):                  38.07   Jarque-Bera (JB):             66522.49\n",
      "Prob(Q):                              0.00   Prob(JB):                         0.00\n",
      "Heteroskedasticity (H):               0.49   Skew:                            -0.18\n",
      "Prob(H) (two-sided):                  0.00   Kurtosis:                         9.74\n",
      "===================================================================================\n",
      "\n",
      "Warnings:\n",
      "[1] Covariance matrix calculated using numerical (complex-step) differentiation.\n"
     ]
    }
   ],
   "execution_count": 22
  },
  {
   "metadata": {},
   "cell_type": "code",
   "outputs": [],
   "execution_count": null,
   "source": "",
   "id": "d0c51f041d5bc5ac"
  }
 ],
 "metadata": {
  "kernelspec": {
   "display_name": "Python 3",
   "language": "python",
   "name": "python3"
  },
  "language_info": {
   "codemirror_mode": {
    "name": "ipython",
    "version": 2
   },
   "file_extension": ".py",
   "mimetype": "text/x-python",
   "name": "python",
   "nbconvert_exporter": "python",
   "pygments_lexer": "ipython2",
   "version": "2.7.6"
  }
 },
 "nbformat": 4,
 "nbformat_minor": 5
}
