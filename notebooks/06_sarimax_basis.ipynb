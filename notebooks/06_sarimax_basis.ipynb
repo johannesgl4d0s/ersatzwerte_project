{
 "cells": [
  {
   "metadata": {},
   "cell_type": "markdown",
   "source": [
    "Mittlere ACF (0–50 Lags)\n",
    "\n",
    "\n",
    "Langsames Abklingen\n",
    "Die ACF startet bei 1.0 (Lag 0) und fällt nur langsam ab – schon bei Lag 50 liegt sie noch bei rund 0.75. Das spricht für eine sehr starke Persistenz, d.h. Verbräuche bleiben auch über mehrere Stunden hinweg hoch korreliert.\n",
    "\n",
    "Bump um Lag 24\n",
    "Zwischen Lag 20–28 siehst du einen kleinen „Höcker“ (ACF steigt von ~0.78 wieder auf ~0.80). Das ist genau der tägliche Saison-Effekt (24 h), der deine Zeitreihen zusätzlich stützt.\n",
    "\n",
    "Fehlende deutliche Peaks bei Lag 7×24 oder 168\n",
    "Da du nur bis Lag 50 geplottet hast, siehst du den Wochen-Peak (168 h) hier noch nicht. Würdest du bis Lag 168 gehen, käme dort ein weiterer, kleiner Bump.\n",
    "\n",
    "Fazit aus der ACF:\n",
    "\n",
    "Starkes Grundrauschen mit sehr langsamer Abklingrate\n",
    "\n",
    "Eindeutige tägliche Saisonkorrelation bei Lag 24\n",
    "\n",
    "Mittlere PACF (0–50 Lags)\n",
    "\n",
    "\n",
    "Spitze bei Lag 1\n",
    "Der PACF-Wert bei Lag 1 ist praktisch 1.0 → deutet auf einen AR(1)-Anteil hin.\n",
    "\n",
    "Negativer Spike bei Lag 2\n",
    "Direkt bei Lag 2 geht der PACF kurz unter 0 (rund –0.2) → ein Hinweis darauf, dass auch ein MA(1) – oder kombiniertes ARMA(1,1) – Modell passen könnte.\n",
    "\n",
    "Kleine Hügel bei Lag 24–25\n",
    "Im Bereich um Lag 24–25 tauchen im PACF noch einmal kleine positive Ausreißer auf, was auf einen saisonalen AR-Term bei einer Periodenlänge von 24 h hindeutet.\n",
    "\n",
    "Schnelles Abklingen danach\n",
    "Ab Lag 30 ist der PACF für die meisten Lags nahe null → hier ist kein weiterführender rein nicht-saisonaler AR-Order mehr nötig.\n",
    "\n",
    "Fazit aus der PACF:\n",
    "\n",
    "Ein nicht‐saisonaler AR(1) ist sinnvoll.\n",
    "\n",
    "Ein MA(1) (bei Lag 2 negativer Effekt) kann helfen, das erste Abklingen zu modellieren.\n",
    "\n",
    "Ein saisonaler AR(1) bei Lag 24 (für den Tageszyklus) ist gerechtfertigt.\n",
    "\n",
    "Konsequenz für dein Basis-SARIMAX\n",
    "Nicht‐saisonaler Teil: wahrscheinliche Kandidaten sind\n",
    "(\n",
    "\n",
    ",\n",
    "\n",
    ",\n",
    "\n",
    ")\n",
    "=\n",
    "(\n",
    "1\n",
    ",\n",
    "0\n",
    ",\n",
    "1\n",
    ")\n",
    "(p,d,q)=(1,0,1) (da ADF-Test + ACF/PACF stationär ohne Differenzierung).\n",
    "\n",
    "Saisonaler Teil (m=24): ein\n",
    "\n",
    "=\n",
    "1\n",
    "P=1 aus dem PACF-Hügel bei Lag 24, und ggfs.\n",
    "\n",
    "=\n",
    "0\n",
    "Q=0 (keine klare Cut-Off in der ACF).\n",
    "\n",
    "Weitere Saisonen (168 h / 8760 h) behandelst du idealerweise exogen (Fourier oder Dummies) oder per MSTL-Features.\n",
    "\n",
    "Damit hättest du für dein Basis-SARIMAX in etwa:\n",
    "\n",
    "python\n",
    "Copy\n",
    "Edit\n",
    "seasonal_order=(1,0,0,24)    # P=1, D=0, Q=0, m=24\n",
    "order=(1,0,1)                # p=1, d=0, q=1\n",
    "plus deine exogenen Features für Wochen‐ und Jahreseffekte. So schlagen deine ACF/PACF-Erkenntnisse direkt in Parameterempfehlungen um.\n"
   ],
   "id": "907cd5fc73080116"
  },
  {
   "metadata": {
    "ExecuteTime": {
     "end_time": "2025-07-13T12:14:41.379148Z",
     "start_time": "2025-07-13T12:14:40.963683Z"
    }
   },
   "cell_type": "code",
   "source": [
    "import pandas as pd\n",
    "from statsmodels.tsa.statespace.sarimax import SARIMAX\n",
    "from utils import load_series_dfs\n",
    "import pickle"
   ],
   "id": "6c35bcc089c195",
   "outputs": [],
   "execution_count": 3
  },
  {
   "metadata": {
    "ExecuteTime": {
     "end_time": "2025-07-13T12:18:42.171618Z",
     "start_time": "2025-07-13T12:18:42.034694Z"
    }
   },
   "cell_type": "code",
   "source": [
    "series_dfs = load_series_dfs(data_dir=r\"C:\\Users\\johan\\Documents\\FH_Master\\data\", filename=\"final_learning_dfs.pkl\")\n",
    "series_dfs['FL_00024702.PLAN.MengeHH'].columns"
   ],
   "id": "264ef50dcc8de948",
   "outputs": [
    {
     "data": {
      "text/plain": [
       "Index(['consumption', 'hour', 'weekday', 'month', 'is_weekend', 'w_tl', 'w_rf',\n",
       "       'w_ff', 'w_ffx', 'w_cglo', 'w_so_h', 'w_rr', 'w_rrm', 'w_tb10',\n",
       "       'w_tb20', 'CEGH_WAP', 'THE_WAP'],\n",
       "      dtype='object')"
      ]
     },
     "execution_count": 6,
     "metadata": {},
     "output_type": "execute_result"
    }
   ],
   "execution_count": 6
  },
  {
   "metadata": {
    "ExecuteTime": {
     "end_time": "2025-07-13T12:16:12.578559Z",
     "start_time": "2025-07-13T12:16:12.261522Z"
    }
   },
   "cell_type": "code",
   "source": [
    "with open('../data/mstl_results.pkl', 'rb') as f:\n",
    "    mstl_results = pickle.load(f)"
   ],
   "id": "393c024f93b29fdc",
   "outputs": [],
   "execution_count": 5
  },
  {
   "metadata": {
    "ExecuteTime": {
     "end_time": "2025-07-13T12:23:06.529897Z",
     "start_time": "2025-07-13T12:23:05.296499Z"
    }
   },
   "cell_type": "code",
   "source": [
    "# --- 1) Panel aufbauen wie gehabt, aber ohne series_key ---\n",
    "rows = []\n",
    "for key, df in series_dfs.items():\n",
    "    tmp = df[['consumption',\n",
    "              'hour','weekday','month','is_weekend',\n",
    "              'w_tl','w_rf','w_ff','w_ffx','w_cglo','w_so_h',\n",
    "              'w_rr','w_rrm','w_tb10','w_tb20',\n",
    "              'CEGH_WAP','THE_WAP']]  # Deine Wetter- und Preis-Features\n",
    "    m = mstl_results[key].seasonal.rename(columns={\n",
    "        'seasonal_24':'s24','seasonal_168':'s168','seasonal_8760':'s8760'\n",
    "    })\n",
    "    tmp = tmp.join(m)\n",
    "    tmp['series_key'] = key\n",
    "    rows.append(tmp)\n",
    "\n",
    "panel = pd.concat(rows).reset_index()"
   ],
   "id": "bb013354ec4e1257",
   "outputs": [],
   "execution_count": 11
  },
  {
   "metadata": {
    "ExecuteTime": {
     "end_time": "2025-07-13T12:26:26.223698Z",
     "start_time": "2025-07-13T12:26:26.207812Z"
    }
   },
   "cell_type": "code",
   "source": "panel.columns",
   "id": "4e351e9ebdccf491",
   "outputs": [
    {
     "data": {
      "text/plain": [
       "Index(['von  | von', 'consumption', 'hour', 'weekday', 'month', 'is_weekend',\n",
       "       'w_tl', 'w_rf', 'w_ff', 'w_ffx', 'w_cglo', 'w_so_h', 'w_rr', 'w_rrm',\n",
       "       'w_tb10', 'w_tb20', 'CEGH_WAP', 'THE_WAP', 's24', 's168', 's8760',\n",
       "       'series_key'],\n",
       "      dtype='object')"
      ]
     },
     "execution_count": 15,
     "metadata": {},
     "output_type": "execute_result"
    }
   ],
   "execution_count": 15
  },
  {
   "metadata": {
    "ExecuteTime": {
     "end_time": "2025-07-13T12:26:40.146430Z",
     "start_time": "2025-07-13T12:26:39.398824Z"
    }
   },
   "cell_type": "code",
   "source": [
    "panel_exog = panel.drop(columns=['consumption', 'von  | von'])\n",
    "\n",
    "X = pd.get_dummies(\n",
    "    panel_exog,\n",
    "    columns=['series_key'],\n",
    "    drop_first=True\n",
    ")\n",
    "\n",
    "# 3) Sicherstellen, dass alles float ist:\n",
    "X = X.astype('float64')\n",
    "\n",
    "# 4) Endogen definieren\n",
    "y = panel['consumption'].astype('float64')\n"
   ],
   "id": "de7c16085863cb78",
   "outputs": [],
   "execution_count": 16
  },
  {
   "metadata": {
    "ExecuteTime": {
     "end_time": "2025-07-13T17:45:55.218984Z",
     "start_time": "2025-07-13T12:27:11.968083Z"
    }
   },
   "cell_type": "code",
   "source": [
    "\n",
    "\n",
    "# 3) Globales SARIMAX auf dem Panel\n",
    "model = SARIMAX(\n",
    "    endog=y,\n",
    "    exog=X,\n",
    "    order=(1,0,1),\n",
    "    seasonal_order=(1,0,0,24),\n",
    "    enforce_stationarity=False,\n",
    "    enforce_invertibility=False\n",
    ")\n",
    "res = model.fit(disp=False)\n",
    "print(res.summary())"
   ],
   "id": "9bb7157a7df4db48",
   "outputs": [
    {
     "ename": "MemoryError",
     "evalue": "Unable to allocate 8.81 GiB for an array with shape (25, 25, 1891998) and data type float64",
     "output_type": "error",
     "traceback": [
      "\u001B[1;31m---------------------------------------------------------------------------\u001B[0m",
      "\u001B[1;31mMemoryError\u001B[0m                               Traceback (most recent call last)",
      "Cell \u001B[1;32mIn[18], line 10\u001B[0m\n\u001B[0;32m      1\u001B[0m \u001B[38;5;66;03m# 3) Globales SARIMAX auf dem Panel\u001B[39;00m\n\u001B[0;32m      2\u001B[0m model \u001B[38;5;241m=\u001B[39m SARIMAX(\n\u001B[0;32m      3\u001B[0m     endog\u001B[38;5;241m=\u001B[39my,\n\u001B[0;32m      4\u001B[0m     exog\u001B[38;5;241m=\u001B[39mX,\n\u001B[1;32m   (...)\u001B[0m\n\u001B[0;32m      8\u001B[0m     enforce_invertibility\u001B[38;5;241m=\u001B[39m\u001B[38;5;28;01mFalse\u001B[39;00m\n\u001B[0;32m      9\u001B[0m )\n\u001B[1;32m---> 10\u001B[0m res \u001B[38;5;241m=\u001B[39m \u001B[43mmodel\u001B[49m\u001B[38;5;241;43m.\u001B[39;49m\u001B[43mfit\u001B[49m\u001B[43m(\u001B[49m\u001B[43mdisp\u001B[49m\u001B[38;5;241;43m=\u001B[39;49m\u001B[38;5;28;43;01mFalse\u001B[39;49;00m\u001B[43m)\u001B[49m\n\u001B[0;32m     11\u001B[0m \u001B[38;5;28mprint\u001B[39m(res\u001B[38;5;241m.\u001B[39msummary())\n",
      "File \u001B[1;32m~\\miniconda3\\envs\\ersatzwerte_project\\lib\\site-packages\\statsmodels\\tsa\\statespace\\mlemodel.py:729\u001B[0m, in \u001B[0;36mMLEModel.fit\u001B[1;34m(self, start_params, transformed, includes_fixed, cov_type, cov_kwds, method, maxiter, full_output, disp, callback, return_params, optim_score, optim_complex_step, optim_hessian, flags, low_memory, **kwargs)\u001B[0m\n\u001B[0;32m    727\u001B[0m \u001B[38;5;28;01melse\u001B[39;00m:\n\u001B[0;32m    728\u001B[0m     func \u001B[38;5;241m=\u001B[39m \u001B[38;5;28mself\u001B[39m\u001B[38;5;241m.\u001B[39msmooth\n\u001B[1;32m--> 729\u001B[0m res \u001B[38;5;241m=\u001B[39m \u001B[43mfunc\u001B[49m\u001B[43m(\u001B[49m\u001B[43mmlefit\u001B[49m\u001B[38;5;241;43m.\u001B[39;49m\u001B[43mparams\u001B[49m\u001B[43m,\u001B[49m\u001B[43m \u001B[49m\u001B[43mtransformed\u001B[49m\u001B[38;5;241;43m=\u001B[39;49m\u001B[38;5;28;43;01mFalse\u001B[39;49;00m\u001B[43m,\u001B[49m\u001B[43m \u001B[49m\u001B[43mincludes_fixed\u001B[49m\u001B[38;5;241;43m=\u001B[39;49m\u001B[38;5;28;43;01mFalse\u001B[39;49;00m\u001B[43m,\u001B[49m\n\u001B[0;32m    730\u001B[0m \u001B[43m           \u001B[49m\u001B[43mcov_type\u001B[49m\u001B[38;5;241;43m=\u001B[39;49m\u001B[43mcov_type\u001B[49m\u001B[43m,\u001B[49m\u001B[43m \u001B[49m\u001B[43mcov_kwds\u001B[49m\u001B[38;5;241;43m=\u001B[39;49m\u001B[43mcov_kwds\u001B[49m\u001B[43m)\u001B[49m\n\u001B[0;32m    732\u001B[0m res\u001B[38;5;241m.\u001B[39mmlefit \u001B[38;5;241m=\u001B[39m mlefit\n\u001B[0;32m    733\u001B[0m res\u001B[38;5;241m.\u001B[39mmle_retvals \u001B[38;5;241m=\u001B[39m mlefit\u001B[38;5;241m.\u001B[39mmle_retvals\n",
      "File \u001B[1;32m~\\miniconda3\\envs\\ersatzwerte_project\\lib\\site-packages\\statsmodels\\tsa\\statespace\\mlemodel.py:887\u001B[0m, in \u001B[0;36mMLEModel.smooth\u001B[1;34m(self, params, transformed, includes_fixed, complex_step, cov_type, cov_kwds, return_ssm, results_class, results_wrapper_class, **kwargs)\u001B[0m\n\u001B[0;32m    884\u001B[0m     kwargs[\u001B[38;5;124m'\u001B[39m\u001B[38;5;124minversion_method\u001B[39m\u001B[38;5;124m'\u001B[39m] \u001B[38;5;241m=\u001B[39m INVERT_UNIVARIATE \u001B[38;5;241m|\u001B[39m SOLVE_LU\n\u001B[0;32m    886\u001B[0m \u001B[38;5;66;03m# Get the state space output\u001B[39;00m\n\u001B[1;32m--> 887\u001B[0m result \u001B[38;5;241m=\u001B[39m \u001B[38;5;28mself\u001B[39m\u001B[38;5;241m.\u001B[39mssm\u001B[38;5;241m.\u001B[39msmooth(complex_step\u001B[38;5;241m=\u001B[39mcomplex_step, \u001B[38;5;241m*\u001B[39m\u001B[38;5;241m*\u001B[39mkwargs)\n\u001B[0;32m    889\u001B[0m \u001B[38;5;66;03m# Wrap in a results object\u001B[39;00m\n\u001B[0;32m    890\u001B[0m \u001B[38;5;28;01mreturn\u001B[39;00m \u001B[38;5;28mself\u001B[39m\u001B[38;5;241m.\u001B[39m_wrap_results(params, result, return_ssm, cov_type,\n\u001B[0;32m    891\u001B[0m                           cov_kwds, results_class,\n\u001B[0;32m    892\u001B[0m                           results_wrapper_class)\n",
      "File \u001B[1;32m~\\miniconda3\\envs\\ersatzwerte_project\\lib\\site-packages\\statsmodels\\tsa\\statespace\\kalman_smoother.py:410\u001B[0m, in \u001B[0;36mKalmanSmoother.smooth\u001B[1;34m(self, smoother_output, smooth_method, results, run_filter, prefix, complex_step, update_representation, update_filter, update_smoother, **kwargs)\u001B[0m\n\u001B[0;32m    408\u001B[0m     results\u001B[38;5;241m.\u001B[39mupdate_representation(\u001B[38;5;28mself\u001B[39m)\n\u001B[0;32m    409\u001B[0m \u001B[38;5;28;01mif\u001B[39;00m update_filter:\n\u001B[1;32m--> 410\u001B[0m     \u001B[43mresults\u001B[49m\u001B[38;5;241;43m.\u001B[39;49m\u001B[43mupdate_filter\u001B[49m\u001B[43m(\u001B[49m\u001B[43mkfilter\u001B[49m\u001B[43m)\u001B[49m\n\u001B[0;32m    411\u001B[0m \u001B[38;5;28;01melse\u001B[39;00m:\n\u001B[0;32m    412\u001B[0m     \u001B[38;5;66;03m# (even if we don't update all filter results, still need to\u001B[39;00m\n\u001B[0;32m    413\u001B[0m     \u001B[38;5;66;03m# update this)\u001B[39;00m\n\u001B[0;32m    414\u001B[0m     results\u001B[38;5;241m.\u001B[39mnobs_diffuse \u001B[38;5;241m=\u001B[39m kfilter\u001B[38;5;241m.\u001B[39mnobs_diffuse\n",
      "File \u001B[1;32m~\\miniconda3\\envs\\ersatzwerte_project\\lib\\site-packages\\statsmodels\\tsa\\statespace\\kalman_filter.py:1539\u001B[0m, in \u001B[0;36mFilterResults.update_filter\u001B[1;34m(self, kalman_filter)\u001B[0m\n\u001B[0;32m   1535\u001B[0m \u001B[38;5;28mself\u001B[39m\u001B[38;5;241m.\u001B[39munivariate_filter \u001B[38;5;241m=\u001B[39m np\u001B[38;5;241m.\u001B[39marray(kalman_filter\u001B[38;5;241m.\u001B[39munivariate_filter,\n\u001B[0;32m   1536\u001B[0m                                   copy\u001B[38;5;241m=\u001B[39m\u001B[38;5;28;01mTrue\u001B[39;00m)\n\u001B[0;32m   1538\u001B[0m \u001B[38;5;28mself\u001B[39m\u001B[38;5;241m.\u001B[39mfiltered_state \u001B[38;5;241m=\u001B[39m np\u001B[38;5;241m.\u001B[39marray(kalman_filter\u001B[38;5;241m.\u001B[39mfiltered_state, copy\u001B[38;5;241m=\u001B[39m\u001B[38;5;28;01mTrue\u001B[39;00m)\n\u001B[1;32m-> 1539\u001B[0m \u001B[38;5;28mself\u001B[39m\u001B[38;5;241m.\u001B[39mfiltered_state_cov \u001B[38;5;241m=\u001B[39m \u001B[43mnp\u001B[49m\u001B[38;5;241;43m.\u001B[39;49m\u001B[43marray\u001B[49m\u001B[43m(\u001B[49m\n\u001B[0;32m   1540\u001B[0m \u001B[43m    \u001B[49m\u001B[43mkalman_filter\u001B[49m\u001B[38;5;241;43m.\u001B[39;49m\u001B[43mfiltered_state_cov\u001B[49m\u001B[43m,\u001B[49m\u001B[43m \u001B[49m\u001B[43mcopy\u001B[49m\u001B[38;5;241;43m=\u001B[39;49m\u001B[38;5;28;43;01mTrue\u001B[39;49;00m\n\u001B[0;32m   1541\u001B[0m \u001B[43m\u001B[49m\u001B[43m)\u001B[49m\n\u001B[0;32m   1542\u001B[0m \u001B[38;5;28mself\u001B[39m\u001B[38;5;241m.\u001B[39mpredicted_state \u001B[38;5;241m=\u001B[39m np\u001B[38;5;241m.\u001B[39marray(\n\u001B[0;32m   1543\u001B[0m     kalman_filter\u001B[38;5;241m.\u001B[39mpredicted_state, copy\u001B[38;5;241m=\u001B[39m\u001B[38;5;28;01mTrue\u001B[39;00m\n\u001B[0;32m   1544\u001B[0m )\n\u001B[0;32m   1545\u001B[0m \u001B[38;5;28mself\u001B[39m\u001B[38;5;241m.\u001B[39mpredicted_state_cov \u001B[38;5;241m=\u001B[39m np\u001B[38;5;241m.\u001B[39marray(\n\u001B[0;32m   1546\u001B[0m     kalman_filter\u001B[38;5;241m.\u001B[39mpredicted_state_cov, copy\u001B[38;5;241m=\u001B[39m\u001B[38;5;28;01mTrue\u001B[39;00m\n\u001B[0;32m   1547\u001B[0m )\n",
      "\u001B[1;31mMemoryError\u001B[0m: Unable to allocate 8.81 GiB for an array with shape (25, 25, 1891998) and data type float64"
     ]
    }
   ],
   "execution_count": 18
  },
  {
   "metadata": {
    "ExecuteTime": {
     "end_time": "2025-07-13T12:21:08.073503Z",
     "start_time": "2025-07-13T12:21:08.055640Z"
    }
   },
   "cell_type": "code",
   "source": "print(panel.dtypes)",
   "id": "589b0ea93d0ac32a",
   "outputs": [
    {
     "name": "stdout",
     "output_type": "stream",
     "text": [
      "von  | von     datetime64[ns]\n",
      "consumption           float64\n",
      "hour                    int32\n",
      "weekday                 int32\n",
      "month                   int32\n",
      "is_weekend              int64\n",
      "w_tl                  float64\n",
      "w_rf                  float64\n",
      "w_ff                  float64\n",
      "w_ffx                 float64\n",
      "w_cglo                float64\n",
      "w_so_h                float64\n",
      "w_rr                  float64\n",
      "w_rrm                 float64\n",
      "w_tb10                float64\n",
      "w_tb20                float64\n",
      "CEGH_WAP              float64\n",
      "THE_WAP               float64\n",
      "s24                   float64\n",
      "s168                  float64\n",
      "s8760                 float64\n",
      "series_key             object\n",
      "dtype: object\n"
     ]
    }
   ],
   "execution_count": 9
  },
  {
   "metadata": {
    "ExecuteTime": {
     "end_time": "2025-07-13T12:21:33.183989Z",
     "start_time": "2025-07-13T12:21:33.162384Z"
    }
   },
   "cell_type": "code",
   "source": "print(X.dtypes.value_counts())",
   "id": "cbf8a5ec348b5b0e",
   "outputs": [
    {
     "name": "stdout",
     "output_type": "stream",
     "text": [
      "bool       50\n",
      "float64    15\n",
      "int32       3\n",
      "int64       1\n",
      "Name: count, dtype: int64\n"
     ]
    }
   ],
   "execution_count": 10
  },
  {
   "metadata": {},
   "cell_type": "code",
   "outputs": [],
   "execution_count": null,
   "source": "",
   "id": "944b7163bbd26893"
  }
 ],
 "metadata": {
  "kernelspec": {
   "display_name": "Python 3",
   "language": "python",
   "name": "python3"
  },
  "language_info": {
   "codemirror_mode": {
    "name": "ipython",
    "version": 2
   },
   "file_extension": ".py",
   "mimetype": "text/x-python",
   "name": "python",
   "nbconvert_exporter": "python",
   "pygments_lexer": "ipython2",
   "version": "2.7.6"
  }
 },
 "nbformat": 4,
 "nbformat_minor": 5
}
