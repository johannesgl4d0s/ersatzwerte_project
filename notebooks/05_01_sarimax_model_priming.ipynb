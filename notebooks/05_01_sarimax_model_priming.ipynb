{
 "cells": [
  {
   "cell_type": "code",
   "id": "initial_id",
   "metadata": {
    "collapsed": true,
    "ExecuteTime": {
     "end_time": "2025-09-20T13:00:01.365072Z",
     "start_time": "2025-09-20T13:00:00.286832Z"
    }
   },
   "source": [
    "import pandas as pd\n",
    "from statsmodels.tsa.statespace.sarimax import SARIMAX\n",
    "from utils import load_series_dfs\n",
    "import pickle\n",
    "import matplotlib.pyplot as plt\n",
    "from statsmodels.tsa.stattools import adfuller\n",
    "from statsmodels.graphics.tsaplots import plot_acf, plot_pacf\n",
    "from statsmodels.tsa.seasonal import seasonal_decompose, STL, MSTL\n",
    "from scipy.signal import periodogram\n",
    "import logging\n",
    "from sklearn.preprocessing import StandardScaler\n",
    "import itertools\n",
    "import numpy as np"
   ],
   "outputs": [],
   "execution_count": 3
  },
  {
   "metadata": {
    "ExecuteTime": {
     "end_time": "2025-08-23T11:59:04.703750Z",
     "start_time": "2025-08-23T11:59:04.587137Z"
    }
   },
   "cell_type": "code",
   "source": [
    "series_dfs = load_series_dfs(data_dir=r\"C:\\Users\\johan\\Documents\\FH_Master\\data\", filename=\"final_learning_dfs.pkl\")\n",
    "series_dfs['FL_00024702.PLAN.MengeHH'].columns"
   ],
   "id": "300a31f0c0f066c5",
   "outputs": [
    {
     "data": {
      "text/plain": [
       "Index(['consumption', 'hour', 'weekday', 'month', 'is_weekend', 'w_tl', 'w_rf',\n",
       "       'w_ff', 'w_ffx', 'w_cglo', 'w_so_h', 'w_rr', 'w_rrm', 'w_tb10',\n",
       "       'w_tb20', 'CEGH_WAP', 'THE_WAP'],\n",
       "      dtype='object')"
      ]
     },
     "execution_count": 2,
     "metadata": {},
     "output_type": "execute_result"
    }
   ],
   "execution_count": 2
  },
  {
   "metadata": {
    "ExecuteTime": {
     "end_time": "2025-08-23T11:59:05.185413Z",
     "start_time": "2025-08-23T11:59:05.170350Z"
    }
   },
   "cell_type": "code",
   "source": [
    "start, end = series_dfs['FL_00024702.PLAN.MengeHH'].index.min(), series_dfs['FL_00024702.PLAN.MengeHH'].index.max()\n",
    "start, end"
   ],
   "id": "34cd04a988d74669",
   "outputs": [
    {
     "data": {
      "text/plain": [
       "(Timestamp('2015-01-01 06:00:00'), Timestamp('2018-12-31 23:00:00'))"
      ]
     },
     "execution_count": 3,
     "metadata": {},
     "output_type": "execute_result"
    }
   ],
   "execution_count": 3
  },
  {
   "metadata": {
    "ExecuteTime": {
     "end_time": "2025-07-23T11:17:56.499884Z",
     "start_time": "2025-07-23T11:16:12.373586Z"
    }
   },
   "cell_type": "code",
   "source": [
    "def adf_test(ts):\n",
    "    \"\"\"Führt den ADF-Test durch und liefert eine dict mit den Ergebnissen.\"\"\"\n",
    "    result = adfuller(ts.dropna())\n",
    "    return {\n",
    "        'adf_statistic': result[0],\n",
    "        'p_value': result[1],\n",
    "        'crit_1%': result[4]['1%'],\n",
    "        'crit_5%': result[4]['5%'],\n",
    "        'crit_10%': result[4]['10%']\n",
    "    }\n",
    "\n",
    "# Schleife über alle Serien im Dictionary\n",
    "results = []\n",
    "for name, series in series_dfs.items():\n",
    "    res = adf_test(series_dfs[name]['consumption'])\n",
    "    res['series_key'] = name\n",
    "    results.append(res)\n",
    "\n",
    "# Ergebnisse in DataFrame umwandeln\n",
    "results_df = pd.DataFrame(results).set_index('series_key')\n",
    "\n",
    "# Stationaritätsentscheidung hinzufügen\n",
    "results_df['stationary (p < 0.05)'] = results_df['p_value'] < 0.05\n",
    "\n",
    "# Ergebnisse anzeigen\n",
    "results_df\n",
    "\n",
    "#to-do nochmal nachprüfen null hypothese stationät???"
   ],
   "id": "16c1c9d721899947",
   "outputs": [
    {
     "data": {
      "text/plain": [
       "                            adf_statistic       p_value   crit_1%   crit_5%  \\\n",
       "series_key                                                                    \n",
       "FL_00024702.PLAN.MengeHH        -3.372787  1.192230e-02 -3.430536 -2.861622   \n",
       "FL_00024730.PLAN.MengeHH       -15.233975  5.273878e-28 -3.430536 -2.861622   \n",
       "FL_00352243.PLAN.MengeHH        -7.726360  1.156205e-11 -3.430536 -2.861622   \n",
       "FL_00352244.PLAN.MengeGA        -6.279340  3.830541e-08 -3.430536 -2.861622   \n",
       "FL_00352244.PLAN.MengeKW        -7.473581  4.980813e-11 -3.430536 -2.861622   \n",
       "FL_00024360.PLAN.MengeGA       -15.039158  9.649820e-28 -3.430536 -2.861622   \n",
       "FL_00352254.PLAN.MengeGA       -12.388359  4.851672e-23 -3.430536 -2.861622   \n",
       "FL_00025248.PLAN.MengeGA       -12.146135  1.609178e-22 -3.430536 -2.861622   \n",
       "FL_00024360.PLAN.MengeHH.2     -11.910003  5.324208e-22 -3.430536 -2.861622   \n",
       "FL_00024731.PLAN.MengeHH        -3.441695  9.616986e-03 -3.430536 -2.861622   \n",
       "FL_00024735.PLAN.MengeHH        -8.976486  7.507823e-15 -3.430536 -2.861622   \n",
       "FL_00024667.PLAN.MengeHH        -3.938318  1.770266e-03 -3.430536 -2.861622   \n",
       "FL_00352218.PLAN.MengeHH        -4.210705  6.319417e-04 -3.430536 -2.861622   \n",
       "FL_00025240.PLAN.MengeHH        -6.731757  3.282516e-09 -3.430536 -2.861622   \n",
       "FL_00025241.PLAN.MengeHH       -16.205679  4.034611e-29 -3.430536 -2.861622   \n",
       "FL_00020896.PLAN.MengeHH        -3.524563  7.378214e-03 -3.430536 -2.861622   \n",
       "FL_00342704.PLAN.MengeGA        -7.221949  2.100182e-10 -3.430536 -2.861622   \n",
       "FL_00352054.PLAN.MengeHH        -5.114414  1.311298e-05 -3.430536 -2.861622   \n",
       "CV_00348266.PLAN.Menge          -8.605302  6.697577e-14 -3.430536 -2.861622   \n",
       "FL_00352254.PLAN.MengeHH        -7.543018  3.339330e-11 -3.430536 -2.861622   \n",
       "FL_00352244.PLAN.MengeHH        -3.847023  2.461237e-03 -3.430536 -2.861622   \n",
       "FL_00342704.PLAN.MengeHH        -9.090074  3.845512e-15 -3.430536 -2.861622   \n",
       "CV_00003083.PLAN.Menge         -16.205679  4.034611e-29 -3.430536 -2.861622   \n",
       "CV_00003181.PLAN.Menge          -5.873252  3.203314e-07 -3.430536 -2.861622   \n",
       "CV_00003192.PLAN.Menge          -5.364102  4.027673e-06 -3.430536 -2.861622   \n",
       "CV_00003191.PLAN.Menge          -4.867271  4.036777e-05 -3.430536 -2.861622   \n",
       "CV_00003183.PLAN.Menge          -4.137897  8.378786e-04 -3.430536 -2.861622   \n",
       "CV_00001876.PLAN.Menge          -5.408895  3.244497e-06 -3.430536 -2.861622   \n",
       "CV_00003094.PLAN.Menge          -6.731757  3.282516e-09 -3.430536 -2.861622   \n",
       "CV_00003089.PLAN.Menge          -9.174729  2.336737e-15 -3.430536 -2.861622   \n",
       "CV_00007270.PLAN.Menge         -11.563054  3.235213e-21 -3.430536 -2.861622   \n",
       "CV_00007300.PLAN.Menge          -4.817760  5.028744e-05 -3.430536 -2.861622   \n",
       "KN_00001613.PLAN.Menge          -6.263339  4.171397e-08 -3.430536 -2.861622   \n",
       "KN_00000069.PLAN.Menge          -3.715611  3.898857e-03 -3.430536 -2.861622   \n",
       "KN_00000067.PLAN.Menge         -24.894668  0.000000e+00 -3.430536 -2.861622   \n",
       "CV_00007809.PLAN.Menge         -20.547854  0.000000e+00 -3.430536 -2.861622   \n",
       "FL_00352191.PLAN.MengeHH        -4.263384  5.137361e-04 -3.430536 -2.861622   \n",
       "FL_00352189.PLAN.MengeHH        -4.381473  3.200632e-04 -3.430536 -2.861622   \n",
       "KN_00001886.PLAN.Menge          -5.678556  8.591470e-07 -3.430536 -2.861622   \n",
       "KN_00001602.PLAN.Menge         -10.546193  8.401239e-19 -3.430536 -2.861622   \n",
       "FL_00352430.PLAN.MengeHH        -7.411627  7.109135e-11 -3.430536 -2.861622   \n",
       "FL_00352208.PLAN.MengeHH       -10.603631  6.081078e-19 -3.430536 -2.861622   \n",
       "FL_00024616.PLAN.MengeHH        -5.873222  3.203803e-07 -3.430536 -2.861622   \n",
       "CV_00005607.PLAN.Menge          -4.765554  6.326703e-05 -3.430536 -2.861622   \n",
       "CV_00005585.PLAN.Menge         -12.146135  1.609178e-22 -3.430536 -2.861622   \n",
       "CV_00007283.PLAN.Menge          -5.669611  8.985099e-07 -3.430536 -2.861622   \n",
       "CV_00003432.PLAN.Menge          -6.068553  1.165764e-07 -3.430536 -2.861622   \n",
       "KN_00000073.PLAN.Menge.1        -6.461082  1.442716e-08 -3.430536 -2.861622   \n",
       "KN_00001613.PLAN.MengeGA        -6.263339  4.171397e-08 -3.430536 -2.861622   \n",
       "KN_00001886.PLAN.MengeKW        -5.678556  8.591470e-07 -3.430536 -2.861622   \n",
       "KN_00001602.PLAN.MengeKW       -10.546193  8.401239e-19 -3.430536 -2.861622   \n",
       "\n",
       "                            crit_10%  stationary (p < 0.05)  \n",
       "series_key                                                   \n",
       "FL_00024702.PLAN.MengeHH   -2.566814                   True  \n",
       "FL_00024730.PLAN.MengeHH   -2.566814                   True  \n",
       "FL_00352243.PLAN.MengeHH   -2.566814                   True  \n",
       "FL_00352244.PLAN.MengeGA   -2.566814                   True  \n",
       "FL_00352244.PLAN.MengeKW   -2.566814                   True  \n",
       "FL_00024360.PLAN.MengeGA   -2.566814                   True  \n",
       "FL_00352254.PLAN.MengeGA   -2.566814                   True  \n",
       "FL_00025248.PLAN.MengeGA   -2.566814                   True  \n",
       "FL_00024360.PLAN.MengeHH.2 -2.566814                   True  \n",
       "FL_00024731.PLAN.MengeHH   -2.566814                   True  \n",
       "FL_00024735.PLAN.MengeHH   -2.566814                   True  \n",
       "FL_00024667.PLAN.MengeHH   -2.566814                   True  \n",
       "FL_00352218.PLAN.MengeHH   -2.566814                   True  \n",
       "FL_00025240.PLAN.MengeHH   -2.566814                   True  \n",
       "FL_00025241.PLAN.MengeHH   -2.566814                   True  \n",
       "FL_00020896.PLAN.MengeHH   -2.566814                   True  \n",
       "FL_00342704.PLAN.MengeGA   -2.566814                   True  \n",
       "FL_00352054.PLAN.MengeHH   -2.566814                   True  \n",
       "CV_00348266.PLAN.Menge     -2.566814                   True  \n",
       "FL_00352254.PLAN.MengeHH   -2.566814                   True  \n",
       "FL_00352244.PLAN.MengeHH   -2.566814                   True  \n",
       "FL_00342704.PLAN.MengeHH   -2.566814                   True  \n",
       "CV_00003083.PLAN.Menge     -2.566814                   True  \n",
       "CV_00003181.PLAN.Menge     -2.566814                   True  \n",
       "CV_00003192.PLAN.Menge     -2.566814                   True  \n",
       "CV_00003191.PLAN.Menge     -2.566814                   True  \n",
       "CV_00003183.PLAN.Menge     -2.566814                   True  \n",
       "CV_00001876.PLAN.Menge     -2.566814                   True  \n",
       "CV_00003094.PLAN.Menge     -2.566814                   True  \n",
       "CV_00003089.PLAN.Menge     -2.566814                   True  \n",
       "CV_00007270.PLAN.Menge     -2.566814                   True  \n",
       "CV_00007300.PLAN.Menge     -2.566814                   True  \n",
       "KN_00001613.PLAN.Menge     -2.566814                   True  \n",
       "KN_00000069.PLAN.Menge     -2.566814                   True  \n",
       "KN_00000067.PLAN.Menge     -2.566814                   True  \n",
       "CV_00007809.PLAN.Menge     -2.566814                   True  \n",
       "FL_00352191.PLAN.MengeHH   -2.566814                   True  \n",
       "FL_00352189.PLAN.MengeHH   -2.566814                   True  \n",
       "KN_00001886.PLAN.Menge     -2.566814                   True  \n",
       "KN_00001602.PLAN.Menge     -2.566814                   True  \n",
       "FL_00352430.PLAN.MengeHH   -2.566814                   True  \n",
       "FL_00352208.PLAN.MengeHH   -2.566814                   True  \n",
       "FL_00024616.PLAN.MengeHH   -2.566814                   True  \n",
       "CV_00005607.PLAN.Menge     -2.566814                   True  \n",
       "CV_00005585.PLAN.Menge     -2.566814                   True  \n",
       "CV_00007283.PLAN.Menge     -2.566814                   True  \n",
       "CV_00003432.PLAN.Menge     -2.566814                   True  \n",
       "KN_00000073.PLAN.Menge.1   -2.566814                   True  \n",
       "KN_00001613.PLAN.MengeGA   -2.566814                   True  \n",
       "KN_00001886.PLAN.MengeKW   -2.566814                   True  \n",
       "KN_00001602.PLAN.MengeKW   -2.566814                   True  "
      ],
      "text/html": [
       "<div>\n",
       "<style scoped>\n",
       "    .dataframe tbody tr th:only-of-type {\n",
       "        vertical-align: middle;\n",
       "    }\n",
       "\n",
       "    .dataframe tbody tr th {\n",
       "        vertical-align: top;\n",
       "    }\n",
       "\n",
       "    .dataframe thead th {\n",
       "        text-align: right;\n",
       "    }\n",
       "</style>\n",
       "<table border=\"1\" class=\"dataframe\">\n",
       "  <thead>\n",
       "    <tr style=\"text-align: right;\">\n",
       "      <th></th>\n",
       "      <th>adf_statistic</th>\n",
       "      <th>p_value</th>\n",
       "      <th>crit_1%</th>\n",
       "      <th>crit_5%</th>\n",
       "      <th>crit_10%</th>\n",
       "      <th>stationary (p &lt; 0.05)</th>\n",
       "    </tr>\n",
       "    <tr>\n",
       "      <th>series_key</th>\n",
       "      <th></th>\n",
       "      <th></th>\n",
       "      <th></th>\n",
       "      <th></th>\n",
       "      <th></th>\n",
       "      <th></th>\n",
       "    </tr>\n",
       "  </thead>\n",
       "  <tbody>\n",
       "    <tr>\n",
       "      <th>FL_00024702.PLAN.MengeHH</th>\n",
       "      <td>-3.372787</td>\n",
       "      <td>1.192230e-02</td>\n",
       "      <td>-3.430536</td>\n",
       "      <td>-2.861622</td>\n",
       "      <td>-2.566814</td>\n",
       "      <td>True</td>\n",
       "    </tr>\n",
       "    <tr>\n",
       "      <th>FL_00024730.PLAN.MengeHH</th>\n",
       "      <td>-15.233975</td>\n",
       "      <td>5.273878e-28</td>\n",
       "      <td>-3.430536</td>\n",
       "      <td>-2.861622</td>\n",
       "      <td>-2.566814</td>\n",
       "      <td>True</td>\n",
       "    </tr>\n",
       "    <tr>\n",
       "      <th>FL_00352243.PLAN.MengeHH</th>\n",
       "      <td>-7.726360</td>\n",
       "      <td>1.156205e-11</td>\n",
       "      <td>-3.430536</td>\n",
       "      <td>-2.861622</td>\n",
       "      <td>-2.566814</td>\n",
       "      <td>True</td>\n",
       "    </tr>\n",
       "    <tr>\n",
       "      <th>FL_00352244.PLAN.MengeGA</th>\n",
       "      <td>-6.279340</td>\n",
       "      <td>3.830541e-08</td>\n",
       "      <td>-3.430536</td>\n",
       "      <td>-2.861622</td>\n",
       "      <td>-2.566814</td>\n",
       "      <td>True</td>\n",
       "    </tr>\n",
       "    <tr>\n",
       "      <th>FL_00352244.PLAN.MengeKW</th>\n",
       "      <td>-7.473581</td>\n",
       "      <td>4.980813e-11</td>\n",
       "      <td>-3.430536</td>\n",
       "      <td>-2.861622</td>\n",
       "      <td>-2.566814</td>\n",
       "      <td>True</td>\n",
       "    </tr>\n",
       "    <tr>\n",
       "      <th>FL_00024360.PLAN.MengeGA</th>\n",
       "      <td>-15.039158</td>\n",
       "      <td>9.649820e-28</td>\n",
       "      <td>-3.430536</td>\n",
       "      <td>-2.861622</td>\n",
       "      <td>-2.566814</td>\n",
       "      <td>True</td>\n",
       "    </tr>\n",
       "    <tr>\n",
       "      <th>FL_00352254.PLAN.MengeGA</th>\n",
       "      <td>-12.388359</td>\n",
       "      <td>4.851672e-23</td>\n",
       "      <td>-3.430536</td>\n",
       "      <td>-2.861622</td>\n",
       "      <td>-2.566814</td>\n",
       "      <td>True</td>\n",
       "    </tr>\n",
       "    <tr>\n",
       "      <th>FL_00025248.PLAN.MengeGA</th>\n",
       "      <td>-12.146135</td>\n",
       "      <td>1.609178e-22</td>\n",
       "      <td>-3.430536</td>\n",
       "      <td>-2.861622</td>\n",
       "      <td>-2.566814</td>\n",
       "      <td>True</td>\n",
       "    </tr>\n",
       "    <tr>\n",
       "      <th>FL_00024360.PLAN.MengeHH.2</th>\n",
       "      <td>-11.910003</td>\n",
       "      <td>5.324208e-22</td>\n",
       "      <td>-3.430536</td>\n",
       "      <td>-2.861622</td>\n",
       "      <td>-2.566814</td>\n",
       "      <td>True</td>\n",
       "    </tr>\n",
       "    <tr>\n",
       "      <th>FL_00024731.PLAN.MengeHH</th>\n",
       "      <td>-3.441695</td>\n",
       "      <td>9.616986e-03</td>\n",
       "      <td>-3.430536</td>\n",
       "      <td>-2.861622</td>\n",
       "      <td>-2.566814</td>\n",
       "      <td>True</td>\n",
       "    </tr>\n",
       "    <tr>\n",
       "      <th>FL_00024735.PLAN.MengeHH</th>\n",
       "      <td>-8.976486</td>\n",
       "      <td>7.507823e-15</td>\n",
       "      <td>-3.430536</td>\n",
       "      <td>-2.861622</td>\n",
       "      <td>-2.566814</td>\n",
       "      <td>True</td>\n",
       "    </tr>\n",
       "    <tr>\n",
       "      <th>FL_00024667.PLAN.MengeHH</th>\n",
       "      <td>-3.938318</td>\n",
       "      <td>1.770266e-03</td>\n",
       "      <td>-3.430536</td>\n",
       "      <td>-2.861622</td>\n",
       "      <td>-2.566814</td>\n",
       "      <td>True</td>\n",
       "    </tr>\n",
       "    <tr>\n",
       "      <th>FL_00352218.PLAN.MengeHH</th>\n",
       "      <td>-4.210705</td>\n",
       "      <td>6.319417e-04</td>\n",
       "      <td>-3.430536</td>\n",
       "      <td>-2.861622</td>\n",
       "      <td>-2.566814</td>\n",
       "      <td>True</td>\n",
       "    </tr>\n",
       "    <tr>\n",
       "      <th>FL_00025240.PLAN.MengeHH</th>\n",
       "      <td>-6.731757</td>\n",
       "      <td>3.282516e-09</td>\n",
       "      <td>-3.430536</td>\n",
       "      <td>-2.861622</td>\n",
       "      <td>-2.566814</td>\n",
       "      <td>True</td>\n",
       "    </tr>\n",
       "    <tr>\n",
       "      <th>FL_00025241.PLAN.MengeHH</th>\n",
       "      <td>-16.205679</td>\n",
       "      <td>4.034611e-29</td>\n",
       "      <td>-3.430536</td>\n",
       "      <td>-2.861622</td>\n",
       "      <td>-2.566814</td>\n",
       "      <td>True</td>\n",
       "    </tr>\n",
       "    <tr>\n",
       "      <th>FL_00020896.PLAN.MengeHH</th>\n",
       "      <td>-3.524563</td>\n",
       "      <td>7.378214e-03</td>\n",
       "      <td>-3.430536</td>\n",
       "      <td>-2.861622</td>\n",
       "      <td>-2.566814</td>\n",
       "      <td>True</td>\n",
       "    </tr>\n",
       "    <tr>\n",
       "      <th>FL_00342704.PLAN.MengeGA</th>\n",
       "      <td>-7.221949</td>\n",
       "      <td>2.100182e-10</td>\n",
       "      <td>-3.430536</td>\n",
       "      <td>-2.861622</td>\n",
       "      <td>-2.566814</td>\n",
       "      <td>True</td>\n",
       "    </tr>\n",
       "    <tr>\n",
       "      <th>FL_00352054.PLAN.MengeHH</th>\n",
       "      <td>-5.114414</td>\n",
       "      <td>1.311298e-05</td>\n",
       "      <td>-3.430536</td>\n",
       "      <td>-2.861622</td>\n",
       "      <td>-2.566814</td>\n",
       "      <td>True</td>\n",
       "    </tr>\n",
       "    <tr>\n",
       "      <th>CV_00348266.PLAN.Menge</th>\n",
       "      <td>-8.605302</td>\n",
       "      <td>6.697577e-14</td>\n",
       "      <td>-3.430536</td>\n",
       "      <td>-2.861622</td>\n",
       "      <td>-2.566814</td>\n",
       "      <td>True</td>\n",
       "    </tr>\n",
       "    <tr>\n",
       "      <th>FL_00352254.PLAN.MengeHH</th>\n",
       "      <td>-7.543018</td>\n",
       "      <td>3.339330e-11</td>\n",
       "      <td>-3.430536</td>\n",
       "      <td>-2.861622</td>\n",
       "      <td>-2.566814</td>\n",
       "      <td>True</td>\n",
       "    </tr>\n",
       "    <tr>\n",
       "      <th>FL_00352244.PLAN.MengeHH</th>\n",
       "      <td>-3.847023</td>\n",
       "      <td>2.461237e-03</td>\n",
       "      <td>-3.430536</td>\n",
       "      <td>-2.861622</td>\n",
       "      <td>-2.566814</td>\n",
       "      <td>True</td>\n",
       "    </tr>\n",
       "    <tr>\n",
       "      <th>FL_00342704.PLAN.MengeHH</th>\n",
       "      <td>-9.090074</td>\n",
       "      <td>3.845512e-15</td>\n",
       "      <td>-3.430536</td>\n",
       "      <td>-2.861622</td>\n",
       "      <td>-2.566814</td>\n",
       "      <td>True</td>\n",
       "    </tr>\n",
       "    <tr>\n",
       "      <th>CV_00003083.PLAN.Menge</th>\n",
       "      <td>-16.205679</td>\n",
       "      <td>4.034611e-29</td>\n",
       "      <td>-3.430536</td>\n",
       "      <td>-2.861622</td>\n",
       "      <td>-2.566814</td>\n",
       "      <td>True</td>\n",
       "    </tr>\n",
       "    <tr>\n",
       "      <th>CV_00003181.PLAN.Menge</th>\n",
       "      <td>-5.873252</td>\n",
       "      <td>3.203314e-07</td>\n",
       "      <td>-3.430536</td>\n",
       "      <td>-2.861622</td>\n",
       "      <td>-2.566814</td>\n",
       "      <td>True</td>\n",
       "    </tr>\n",
       "    <tr>\n",
       "      <th>CV_00003192.PLAN.Menge</th>\n",
       "      <td>-5.364102</td>\n",
       "      <td>4.027673e-06</td>\n",
       "      <td>-3.430536</td>\n",
       "      <td>-2.861622</td>\n",
       "      <td>-2.566814</td>\n",
       "      <td>True</td>\n",
       "    </tr>\n",
       "    <tr>\n",
       "      <th>CV_00003191.PLAN.Menge</th>\n",
       "      <td>-4.867271</td>\n",
       "      <td>4.036777e-05</td>\n",
       "      <td>-3.430536</td>\n",
       "      <td>-2.861622</td>\n",
       "      <td>-2.566814</td>\n",
       "      <td>True</td>\n",
       "    </tr>\n",
       "    <tr>\n",
       "      <th>CV_00003183.PLAN.Menge</th>\n",
       "      <td>-4.137897</td>\n",
       "      <td>8.378786e-04</td>\n",
       "      <td>-3.430536</td>\n",
       "      <td>-2.861622</td>\n",
       "      <td>-2.566814</td>\n",
       "      <td>True</td>\n",
       "    </tr>\n",
       "    <tr>\n",
       "      <th>CV_00001876.PLAN.Menge</th>\n",
       "      <td>-5.408895</td>\n",
       "      <td>3.244497e-06</td>\n",
       "      <td>-3.430536</td>\n",
       "      <td>-2.861622</td>\n",
       "      <td>-2.566814</td>\n",
       "      <td>True</td>\n",
       "    </tr>\n",
       "    <tr>\n",
       "      <th>CV_00003094.PLAN.Menge</th>\n",
       "      <td>-6.731757</td>\n",
       "      <td>3.282516e-09</td>\n",
       "      <td>-3.430536</td>\n",
       "      <td>-2.861622</td>\n",
       "      <td>-2.566814</td>\n",
       "      <td>True</td>\n",
       "    </tr>\n",
       "    <tr>\n",
       "      <th>CV_00003089.PLAN.Menge</th>\n",
       "      <td>-9.174729</td>\n",
       "      <td>2.336737e-15</td>\n",
       "      <td>-3.430536</td>\n",
       "      <td>-2.861622</td>\n",
       "      <td>-2.566814</td>\n",
       "      <td>True</td>\n",
       "    </tr>\n",
       "    <tr>\n",
       "      <th>CV_00007270.PLAN.Menge</th>\n",
       "      <td>-11.563054</td>\n",
       "      <td>3.235213e-21</td>\n",
       "      <td>-3.430536</td>\n",
       "      <td>-2.861622</td>\n",
       "      <td>-2.566814</td>\n",
       "      <td>True</td>\n",
       "    </tr>\n",
       "    <tr>\n",
       "      <th>CV_00007300.PLAN.Menge</th>\n",
       "      <td>-4.817760</td>\n",
       "      <td>5.028744e-05</td>\n",
       "      <td>-3.430536</td>\n",
       "      <td>-2.861622</td>\n",
       "      <td>-2.566814</td>\n",
       "      <td>True</td>\n",
       "    </tr>\n",
       "    <tr>\n",
       "      <th>KN_00001613.PLAN.Menge</th>\n",
       "      <td>-6.263339</td>\n",
       "      <td>4.171397e-08</td>\n",
       "      <td>-3.430536</td>\n",
       "      <td>-2.861622</td>\n",
       "      <td>-2.566814</td>\n",
       "      <td>True</td>\n",
       "    </tr>\n",
       "    <tr>\n",
       "      <th>KN_00000069.PLAN.Menge</th>\n",
       "      <td>-3.715611</td>\n",
       "      <td>3.898857e-03</td>\n",
       "      <td>-3.430536</td>\n",
       "      <td>-2.861622</td>\n",
       "      <td>-2.566814</td>\n",
       "      <td>True</td>\n",
       "    </tr>\n",
       "    <tr>\n",
       "      <th>KN_00000067.PLAN.Menge</th>\n",
       "      <td>-24.894668</td>\n",
       "      <td>0.000000e+00</td>\n",
       "      <td>-3.430536</td>\n",
       "      <td>-2.861622</td>\n",
       "      <td>-2.566814</td>\n",
       "      <td>True</td>\n",
       "    </tr>\n",
       "    <tr>\n",
       "      <th>CV_00007809.PLAN.Menge</th>\n",
       "      <td>-20.547854</td>\n",
       "      <td>0.000000e+00</td>\n",
       "      <td>-3.430536</td>\n",
       "      <td>-2.861622</td>\n",
       "      <td>-2.566814</td>\n",
       "      <td>True</td>\n",
       "    </tr>\n",
       "    <tr>\n",
       "      <th>FL_00352191.PLAN.MengeHH</th>\n",
       "      <td>-4.263384</td>\n",
       "      <td>5.137361e-04</td>\n",
       "      <td>-3.430536</td>\n",
       "      <td>-2.861622</td>\n",
       "      <td>-2.566814</td>\n",
       "      <td>True</td>\n",
       "    </tr>\n",
       "    <tr>\n",
       "      <th>FL_00352189.PLAN.MengeHH</th>\n",
       "      <td>-4.381473</td>\n",
       "      <td>3.200632e-04</td>\n",
       "      <td>-3.430536</td>\n",
       "      <td>-2.861622</td>\n",
       "      <td>-2.566814</td>\n",
       "      <td>True</td>\n",
       "    </tr>\n",
       "    <tr>\n",
       "      <th>KN_00001886.PLAN.Menge</th>\n",
       "      <td>-5.678556</td>\n",
       "      <td>8.591470e-07</td>\n",
       "      <td>-3.430536</td>\n",
       "      <td>-2.861622</td>\n",
       "      <td>-2.566814</td>\n",
       "      <td>True</td>\n",
       "    </tr>\n",
       "    <tr>\n",
       "      <th>KN_00001602.PLAN.Menge</th>\n",
       "      <td>-10.546193</td>\n",
       "      <td>8.401239e-19</td>\n",
       "      <td>-3.430536</td>\n",
       "      <td>-2.861622</td>\n",
       "      <td>-2.566814</td>\n",
       "      <td>True</td>\n",
       "    </tr>\n",
       "    <tr>\n",
       "      <th>FL_00352430.PLAN.MengeHH</th>\n",
       "      <td>-7.411627</td>\n",
       "      <td>7.109135e-11</td>\n",
       "      <td>-3.430536</td>\n",
       "      <td>-2.861622</td>\n",
       "      <td>-2.566814</td>\n",
       "      <td>True</td>\n",
       "    </tr>\n",
       "    <tr>\n",
       "      <th>FL_00352208.PLAN.MengeHH</th>\n",
       "      <td>-10.603631</td>\n",
       "      <td>6.081078e-19</td>\n",
       "      <td>-3.430536</td>\n",
       "      <td>-2.861622</td>\n",
       "      <td>-2.566814</td>\n",
       "      <td>True</td>\n",
       "    </tr>\n",
       "    <tr>\n",
       "      <th>FL_00024616.PLAN.MengeHH</th>\n",
       "      <td>-5.873222</td>\n",
       "      <td>3.203803e-07</td>\n",
       "      <td>-3.430536</td>\n",
       "      <td>-2.861622</td>\n",
       "      <td>-2.566814</td>\n",
       "      <td>True</td>\n",
       "    </tr>\n",
       "    <tr>\n",
       "      <th>CV_00005607.PLAN.Menge</th>\n",
       "      <td>-4.765554</td>\n",
       "      <td>6.326703e-05</td>\n",
       "      <td>-3.430536</td>\n",
       "      <td>-2.861622</td>\n",
       "      <td>-2.566814</td>\n",
       "      <td>True</td>\n",
       "    </tr>\n",
       "    <tr>\n",
       "      <th>CV_00005585.PLAN.Menge</th>\n",
       "      <td>-12.146135</td>\n",
       "      <td>1.609178e-22</td>\n",
       "      <td>-3.430536</td>\n",
       "      <td>-2.861622</td>\n",
       "      <td>-2.566814</td>\n",
       "      <td>True</td>\n",
       "    </tr>\n",
       "    <tr>\n",
       "      <th>CV_00007283.PLAN.Menge</th>\n",
       "      <td>-5.669611</td>\n",
       "      <td>8.985099e-07</td>\n",
       "      <td>-3.430536</td>\n",
       "      <td>-2.861622</td>\n",
       "      <td>-2.566814</td>\n",
       "      <td>True</td>\n",
       "    </tr>\n",
       "    <tr>\n",
       "      <th>CV_00003432.PLAN.Menge</th>\n",
       "      <td>-6.068553</td>\n",
       "      <td>1.165764e-07</td>\n",
       "      <td>-3.430536</td>\n",
       "      <td>-2.861622</td>\n",
       "      <td>-2.566814</td>\n",
       "      <td>True</td>\n",
       "    </tr>\n",
       "    <tr>\n",
       "      <th>KN_00000073.PLAN.Menge.1</th>\n",
       "      <td>-6.461082</td>\n",
       "      <td>1.442716e-08</td>\n",
       "      <td>-3.430536</td>\n",
       "      <td>-2.861622</td>\n",
       "      <td>-2.566814</td>\n",
       "      <td>True</td>\n",
       "    </tr>\n",
       "    <tr>\n",
       "      <th>KN_00001613.PLAN.MengeGA</th>\n",
       "      <td>-6.263339</td>\n",
       "      <td>4.171397e-08</td>\n",
       "      <td>-3.430536</td>\n",
       "      <td>-2.861622</td>\n",
       "      <td>-2.566814</td>\n",
       "      <td>True</td>\n",
       "    </tr>\n",
       "    <tr>\n",
       "      <th>KN_00001886.PLAN.MengeKW</th>\n",
       "      <td>-5.678556</td>\n",
       "      <td>8.591470e-07</td>\n",
       "      <td>-3.430536</td>\n",
       "      <td>-2.861622</td>\n",
       "      <td>-2.566814</td>\n",
       "      <td>True</td>\n",
       "    </tr>\n",
       "    <tr>\n",
       "      <th>KN_00001602.PLAN.MengeKW</th>\n",
       "      <td>-10.546193</td>\n",
       "      <td>8.401239e-19</td>\n",
       "      <td>-3.430536</td>\n",
       "      <td>-2.861622</td>\n",
       "      <td>-2.566814</td>\n",
       "      <td>True</td>\n",
       "    </tr>\n",
       "  </tbody>\n",
       "</table>\n",
       "</div>"
      ]
     },
     "execution_count": 5,
     "metadata": {},
     "output_type": "execute_result"
    }
   ],
   "execution_count": 5
  },
  {
   "metadata": {
    "ExecuteTime": {
     "end_time": "2025-08-01T12:48:28.217131Z",
     "start_time": "2025-08-01T12:48:28.127396Z"
    }
   },
   "cell_type": "code",
   "source": [
    "df = series_dfs['FL_00024702.PLAN.MengeHH']\n",
    "\n",
    "df.index = pd.to_datetime(df.index)\n",
    "df = df.sort_index()\n",
    "# 1) Dubletten raushauen (oder vorher groupby mean)\n",
    "df = df[~df.index.duplicated(keep='first')]\n",
    "\n",
    "# 2) Sortieren\n",
    "df = df.sort_index()\n",
    "\n",
    "# 3) Resample und interpolieren – Index wird gesetzt und freq='h' hinterlegt\n",
    "df = df.resample('h').interpolate()\n",
    "\n",
    "# 4) (Optional) nochmal explizit asfreq, freq ist aber schon da\n",
    "df = df.asfreq('h')\n",
    "\n",
    "print(df.index.freq)\n",
    "\n",
    "# Optional: Regressoren standardisieren\n",
    "features = ['hour', 'weekday', 'month', 'is_weekend', 'w_tl', 'w_rf',\n",
    "            'w_ff', 'w_ffx', 'w_cglo', 'w_so_h', 'w_rr', 'w_rrm',\n",
    "            'w_tb10', 'w_tb20', 'CEGH_WAP', 'THE_WAP']\n",
    "\n",
    "scaler = StandardScaler()\n",
    "df[features] = scaler.fit_transform(df[features])"
   ],
   "id": "eaef86c605cbc20c",
   "outputs": [
    {
     "name": "stdout",
     "output_type": "stream",
     "text": [
      "<Hour>\n"
     ]
    }
   ],
   "execution_count": 4
  },
  {
   "metadata": {
    "ExecuteTime": {
     "end_time": "2025-09-20T13:00:05.327736Z",
     "start_time": "2025-09-20T13:00:05.317707Z"
    }
   },
   "cell_type": "code",
   "source": [
    "import logging\n",
    "import numpy as np\n",
    "p = d = q = range(0, 3)\n",
    "P = D = Q = range(0, 2)\n",
    "s = 24\n",
    "best_aic = np.inf\n",
    "best_params = None\n",
    "i = 0\n",
    "for param in itertools.product(p, [0], q):\n",
    "    print(\"erste ebene: param = {}\".format(param))\n",
    "    for param_seasonal in itertools.product(P, [0], Q, [s]):\n",
    "        print(\"zweite ebene: param_seasonal = {}\".format(param_seasonal))\n",
    "        try:\n",
    "           i = i + 1\n",
    "        except:\n",
    "            continue\n",
    "\n",
    "print(\"Best AIC:\", best_aic)\n",
    "print(\"Best params:\", best_params)\n",
    "\n",
    "print(i)"
   ],
   "id": "eecce45b9a14234a",
   "outputs": [
    {
     "name": "stdout",
     "output_type": "stream",
     "text": [
      "erste ebene: param = (0, 0, 0)\n",
      "zweite ebene: param_seasonal = (0, 0, 0, 24)\n",
      "zweite ebene: param_seasonal = (0, 0, 1, 24)\n",
      "zweite ebene: param_seasonal = (1, 0, 0, 24)\n",
      "zweite ebene: param_seasonal = (1, 0, 1, 24)\n",
      "erste ebene: param = (0, 0, 1)\n",
      "zweite ebene: param_seasonal = (0, 0, 0, 24)\n",
      "zweite ebene: param_seasonal = (0, 0, 1, 24)\n",
      "zweite ebene: param_seasonal = (1, 0, 0, 24)\n",
      "zweite ebene: param_seasonal = (1, 0, 1, 24)\n",
      "erste ebene: param = (0, 0, 2)\n",
      "zweite ebene: param_seasonal = (0, 0, 0, 24)\n",
      "zweite ebene: param_seasonal = (0, 0, 1, 24)\n",
      "zweite ebene: param_seasonal = (1, 0, 0, 24)\n",
      "zweite ebene: param_seasonal = (1, 0, 1, 24)\n",
      "erste ebene: param = (1, 0, 0)\n",
      "zweite ebene: param_seasonal = (0, 0, 0, 24)\n",
      "zweite ebene: param_seasonal = (0, 0, 1, 24)\n",
      "zweite ebene: param_seasonal = (1, 0, 0, 24)\n",
      "zweite ebene: param_seasonal = (1, 0, 1, 24)\n",
      "erste ebene: param = (1, 0, 1)\n",
      "zweite ebene: param_seasonal = (0, 0, 0, 24)\n",
      "zweite ebene: param_seasonal = (0, 0, 1, 24)\n",
      "zweite ebene: param_seasonal = (1, 0, 0, 24)\n",
      "zweite ebene: param_seasonal = (1, 0, 1, 24)\n",
      "erste ebene: param = (1, 0, 2)\n",
      "zweite ebene: param_seasonal = (0, 0, 0, 24)\n",
      "zweite ebene: param_seasonal = (0, 0, 1, 24)\n",
      "zweite ebene: param_seasonal = (1, 0, 0, 24)\n",
      "zweite ebene: param_seasonal = (1, 0, 1, 24)\n",
      "erste ebene: param = (2, 0, 0)\n",
      "zweite ebene: param_seasonal = (0, 0, 0, 24)\n",
      "zweite ebene: param_seasonal = (0, 0, 1, 24)\n",
      "zweite ebene: param_seasonal = (1, 0, 0, 24)\n",
      "zweite ebene: param_seasonal = (1, 0, 1, 24)\n",
      "erste ebene: param = (2, 0, 1)\n",
      "zweite ebene: param_seasonal = (0, 0, 0, 24)\n",
      "zweite ebene: param_seasonal = (0, 0, 1, 24)\n",
      "zweite ebene: param_seasonal = (1, 0, 0, 24)\n",
      "zweite ebene: param_seasonal = (1, 0, 1, 24)\n",
      "erste ebene: param = (2, 0, 2)\n",
      "zweite ebene: param_seasonal = (0, 0, 0, 24)\n",
      "zweite ebene: param_seasonal = (0, 0, 1, 24)\n",
      "zweite ebene: param_seasonal = (1, 0, 0, 24)\n",
      "zweite ebene: param_seasonal = (1, 0, 1, 24)\n",
      "Best AIC: inf\n",
      "Best params: None\n",
      "36\n"
     ]
    }
   ],
   "execution_count": 4
  },
  {
   "metadata": {
    "ExecuteTime": {
     "end_time": "2025-07-24T15:03:49.631706Z",
     "start_time": "2025-07-24T11:58:55.791754Z"
    }
   },
   "cell_type": "code",
   "source": [
    "import logging\n",
    "p = d = q = range(0, 3)\n",
    "P = D = Q = range(0, 2)\n",
    "s = 24\n",
    "best_aic = np.inf\n",
    "best_params = None\n",
    "\n",
    "for param in itertools.product(p, [0], q):\n",
    "    print(\"erste ebene: param = {}\".format(param))\n",
    "    for param_seasonal in itertools.product(P, [0], Q, [s]):\n",
    "        print(\"zweite ebene: param_seasonal = {}\".format(param_seasonal))\n",
    "        try:\n",
    "            mod = SARIMAX(df['consumption'],\n",
    "                          exog=df[features],\n",
    "                          order=param,\n",
    "                          seasonal_order=param_seasonal,\n",
    "                          enforce_stationarity=True,\n",
    "                          enforce_invertibility=True)\n",
    "            res = mod.fit(disp=False,\n",
    "                          method='powell',\n",
    "                          maxiter=300)\n",
    "            if res.aic < best_aic:\n",
    "                best_aic = res.aic\n",
    "                best_params = (param, param_seasonal)\n",
    "        except:\n",
    "            continue\n",
    "\n",
    "print(\"Best AIC:\", best_aic)\n",
    "print(\"Best params:\", best_params)"
   ],
   "id": "b95461189005d8d6",
   "outputs": [
    {
     "name": "stdout",
     "output_type": "stream",
     "text": [
      "erste ebene: param = (0, 0, 0)\n",
      "zweite ebene: param_seasonal = (0, 0, 0, 24)\n",
      "zweite ebene: param_seasonal = (0, 0, 1, 24)\n",
      "zweite ebene: param_seasonal = (1, 0, 0, 24)\n",
      "zweite ebene: param_seasonal = (1, 0, 1, 24)\n",
      "erste ebene: param = (0, 0, 1)\n",
      "zweite ebene: param_seasonal = (0, 0, 0, 24)\n"
     ]
    },
    {
     "name": "stderr",
     "output_type": "stream",
     "text": [
      "C:\\Users\\johan\\miniconda3\\envs\\ersatzwerte_project\\lib\\site-packages\\statsmodels\\tsa\\statespace\\sarimax.py:978: UserWarning: Non-invertible starting MA parameters found. Using zeros as starting parameters.\n",
      "  warn('Non-invertible starting MA parameters found.'\n"
     ]
    },
    {
     "name": "stdout",
     "output_type": "stream",
     "text": [
      "zweite ebene: param_seasonal = (0, 0, 1, 24)\n"
     ]
    },
    {
     "name": "stderr",
     "output_type": "stream",
     "text": [
      "C:\\Users\\johan\\miniconda3\\envs\\ersatzwerte_project\\lib\\site-packages\\statsmodels\\tsa\\statespace\\sarimax.py:978: UserWarning: Non-invertible starting MA parameters found. Using zeros as starting parameters.\n",
      "  warn('Non-invertible starting MA parameters found.'\n"
     ]
    },
    {
     "name": "stdout",
     "output_type": "stream",
     "text": [
      "zweite ebene: param_seasonal = (1, 0, 0, 24)\n"
     ]
    },
    {
     "name": "stderr",
     "output_type": "stream",
     "text": [
      "C:\\Users\\johan\\miniconda3\\envs\\ersatzwerte_project\\lib\\site-packages\\statsmodels\\tsa\\statespace\\sarimax.py:978: UserWarning: Non-invertible starting MA parameters found. Using zeros as starting parameters.\n",
      "  warn('Non-invertible starting MA parameters found.'\n"
     ]
    },
    {
     "name": "stdout",
     "output_type": "stream",
     "text": [
      "zweite ebene: param_seasonal = (1, 0, 1, 24)\n"
     ]
    },
    {
     "name": "stderr",
     "output_type": "stream",
     "text": [
      "C:\\Users\\johan\\miniconda3\\envs\\ersatzwerte_project\\lib\\site-packages\\statsmodels\\tsa\\statespace\\sarimax.py:978: UserWarning: Non-invertible starting MA parameters found. Using zeros as starting parameters.\n",
      "  warn('Non-invertible starting MA parameters found.'\n"
     ]
    },
    {
     "name": "stdout",
     "output_type": "stream",
     "text": [
      "erste ebene: param = (0, 0, 2)\n",
      "zweite ebene: param_seasonal = (0, 0, 0, 24)\n"
     ]
    },
    {
     "name": "stderr",
     "output_type": "stream",
     "text": [
      "C:\\Users\\johan\\miniconda3\\envs\\ersatzwerte_project\\lib\\site-packages\\statsmodels\\tsa\\statespace\\sarimax.py:978: UserWarning: Non-invertible starting MA parameters found. Using zeros as starting parameters.\n",
      "  warn('Non-invertible starting MA parameters found.'\n"
     ]
    },
    {
     "name": "stdout",
     "output_type": "stream",
     "text": [
      "zweite ebene: param_seasonal = (0, 0, 1, 24)\n"
     ]
    },
    {
     "name": "stderr",
     "output_type": "stream",
     "text": [
      "C:\\Users\\johan\\miniconda3\\envs\\ersatzwerte_project\\lib\\site-packages\\statsmodels\\tsa\\statespace\\sarimax.py:978: UserWarning: Non-invertible starting MA parameters found. Using zeros as starting parameters.\n",
      "  warn('Non-invertible starting MA parameters found.'\n"
     ]
    },
    {
     "name": "stdout",
     "output_type": "stream",
     "text": [
      "zweite ebene: param_seasonal = (1, 0, 0, 24)\n"
     ]
    },
    {
     "name": "stderr",
     "output_type": "stream",
     "text": [
      "C:\\Users\\johan\\miniconda3\\envs\\ersatzwerte_project\\lib\\site-packages\\statsmodels\\tsa\\statespace\\sarimax.py:978: UserWarning: Non-invertible starting MA parameters found. Using zeros as starting parameters.\n",
      "  warn('Non-invertible starting MA parameters found.'\n"
     ]
    },
    {
     "name": "stdout",
     "output_type": "stream",
     "text": [
      "zweite ebene: param_seasonal = (1, 0, 1, 24)\n"
     ]
    },
    {
     "name": "stderr",
     "output_type": "stream",
     "text": [
      "C:\\Users\\johan\\miniconda3\\envs\\ersatzwerte_project\\lib\\site-packages\\statsmodels\\tsa\\statespace\\sarimax.py:978: UserWarning: Non-invertible starting MA parameters found. Using zeros as starting parameters.\n",
      "  warn('Non-invertible starting MA parameters found.'\n"
     ]
    },
    {
     "name": "stdout",
     "output_type": "stream",
     "text": [
      "erste ebene: param = (1, 0, 0)\n",
      "zweite ebene: param_seasonal = (0, 0, 0, 24)\n",
      "zweite ebene: param_seasonal = (0, 0, 1, 24)\n",
      "zweite ebene: param_seasonal = (1, 0, 0, 24)\n",
      "zweite ebene: param_seasonal = (1, 0, 1, 24)\n",
      "erste ebene: param = (1, 0, 1)\n",
      "zweite ebene: param_seasonal = (0, 0, 0, 24)\n",
      "zweite ebene: param_seasonal = (0, 0, 1, 24)\n",
      "zweite ebene: param_seasonal = (1, 0, 0, 24)\n",
      "zweite ebene: param_seasonal = (1, 0, 1, 24)\n",
      "erste ebene: param = (1, 0, 2)\n",
      "zweite ebene: param_seasonal = (0, 0, 0, 24)\n",
      "zweite ebene: param_seasonal = (0, 0, 1, 24)\n",
      "zweite ebene: param_seasonal = (1, 0, 0, 24)\n",
      "zweite ebene: param_seasonal = (1, 0, 1, 24)\n",
      "erste ebene: param = (2, 0, 0)\n",
      "zweite ebene: param_seasonal = (0, 0, 0, 24)\n",
      "zweite ebene: param_seasonal = (0, 0, 1, 24)\n",
      "zweite ebene: param_seasonal = (1, 0, 0, 24)\n",
      "zweite ebene: param_seasonal = (1, 0, 1, 24)\n",
      "erste ebene: param = (2, 0, 1)\n",
      "zweite ebene: param_seasonal = (0, 0, 0, 24)\n",
      "zweite ebene: param_seasonal = (0, 0, 1, 24)\n",
      "zweite ebene: param_seasonal = (1, 0, 0, 24)\n",
      "zweite ebene: param_seasonal = (1, 0, 1, 24)\n",
      "erste ebene: param = (2, 0, 2)\n",
      "zweite ebene: param_seasonal = (0, 0, 0, 24)\n",
      "zweite ebene: param_seasonal = (0, 0, 1, 24)\n",
      "zweite ebene: param_seasonal = (1, 0, 0, 24)\n",
      "zweite ebene: param_seasonal = (1, 0, 1, 24)\n",
      "Best AIC: 88441.92963540542\n",
      "Best params: ((1, 0, 2), (1, 0, 1, 24))\n"
     ]
    }
   ],
   "execution_count": 4
  },
  {
   "metadata": {
    "ExecuteTime": {
     "end_time": "2025-07-26T13:53:54.798547Z",
     "start_time": "2025-07-26T13:43:52.845348Z"
    }
   },
   "cell_type": "code",
   "source": [
    "model_best = SARIMAX(\n",
    "    df['consumption'],\n",
    "    exog=df[features],\n",
    "    order=(1, 0, 2),\n",
    "    seasonal_order=(1, 0, 1, 24),\n",
    "    enforce_stationarity=True,\n",
    "    enforce_invertibility=True\n",
    ")\n",
    "results_best = model_best.fit(disp=False, method='powell',\n",
    "                          maxiter=300)\n",
    "\n",
    "print(results_best.summary())"
   ],
   "id": "838537c2a529dead",
   "outputs": [
    {
     "name": "stdout",
     "output_type": "stream",
     "text": [
      "                                      SARIMAX Results                                       \n",
      "============================================================================================\n",
      "Dep. Variable:                          consumption   No. Observations:                35058\n",
      "Model:             SARIMAX(1, 0, 2)x(1, 0, [1], 24)   Log Likelihood              -44198.965\n",
      "Date:                              Sat, 26 Jul 2025   AIC                          88441.930\n",
      "Time:                                      15:53:47   BIC                          88628.154\n",
      "Sample:                                  01-01-2015   HQIC                         88501.242\n",
      "                                       - 12-31-2018                                         \n",
      "Covariance Type:                                opg                                         \n",
      "==============================================================================\n",
      "                 coef    std err          z      P>|z|      [0.025      0.975]\n",
      "------------------------------------------------------------------------------\n",
      "hour          -0.0762      0.605     -0.126      0.900      -1.262       1.109\n",
      "weekday       -0.0762      0.042     -1.819      0.069      -0.158       0.006\n",
      "month         -0.2342      0.174     -1.343      0.179      -0.576       0.108\n",
      "is_weekend     0.0478      0.044      1.082      0.279      -0.039       0.134\n",
      "w_tl          -2.1047      0.081    -25.978      0.000      -2.263      -1.946\n",
      "w_rf          -0.1786      0.027     -6.587      0.000      -0.232      -0.125\n",
      "w_ff          -0.0150      0.007     -2.103      0.035      -0.029      -0.001\n",
      "w_ffx         -0.0517      0.008     -6.573      0.000      -0.067      -0.036\n",
      "w_cglo         0.1158      0.020      5.657      0.000       0.076       0.156\n",
      "w_so_h        -0.0636      0.010     -6.420      0.000      -0.083      -0.044\n",
      "w_rr          -0.0018      0.003     -0.562      0.574      -0.008       0.004\n",
      "w_rrm         -0.0258      0.007     -3.678      0.000      -0.039      -0.012\n",
      "w_tb10        -5.4434      0.448    -12.143      0.000      -6.322      -4.565\n",
      "w_tb20        -2.1050      0.491     -4.290      0.000      -3.067      -1.143\n",
      "CEGH_WAP      -0.5264      0.234     -2.250      0.024      -0.985      -0.068\n",
      "THE_WAP        0.5147      0.232      2.217      0.027       0.060       0.970\n",
      "ar.L1          0.8890      0.002    421.306      0.000       0.885       0.893\n",
      "ma.L1          0.4166      0.003    134.086      0.000       0.410       0.423\n",
      "ma.L2          0.1172      0.004     27.781      0.000       0.109       0.125\n",
      "ar.S.L24       0.9979      0.000   5346.351      0.000       0.998       0.998\n",
      "ma.S.L24      -0.8134      0.002   -340.878      0.000      -0.818      -0.809\n",
      "sigma2         0.7272      0.003    236.058      0.000       0.721       0.733\n",
      "===================================================================================\n",
      "Ljung-Box (L1) (Q):                   0.19   Jarque-Bera (JB):             52753.91\n",
      "Prob(Q):                              0.66   Prob(JB):                         0.00\n",
      "Heteroskedasticity (H):               0.76   Skew:                             0.11\n",
      "Prob(H) (two-sided):                  0.00   Kurtosis:                         9.01\n",
      "===================================================================================\n",
      "\n",
      "Warnings:\n",
      "[1] Covariance matrix calculated using the outer product of gradients (complex-step).\n"
     ]
    }
   ],
   "execution_count": 4
  },
  {
   "metadata": {
    "ExecuteTime": {
     "end_time": "2025-07-26T14:09:56.790263Z",
     "start_time": "2025-07-26T14:09:56.778331Z"
    }
   },
   "cell_type": "code",
   "source": "to_drop = ['hour', 'month', 'is_weekend', 'w_rr', 'weekday']",
   "id": "a85495de33159439",
   "outputs": [],
   "execution_count": 5
  },
  {
   "metadata": {
    "ExecuteTime": {
     "end_time": "2025-07-26T14:18:40.467059Z",
     "start_time": "2025-07-26T14:18:40.450968Z"
    }
   },
   "cell_type": "code",
   "source": [
    "\n",
    "keep = ['w_tl','w_rf','w_ff','w_ffx',\n",
    "        'w_cglo','w_so_h','w_rrm','w_tb10','w_tb20',\n",
    "        'CEGH_WAP','THE_WAP']\n",
    "exog_sig = df[keep]"
   ],
   "id": "b14b689458c2d28e",
   "outputs": [],
   "execution_count": 8
  },
  {
   "metadata": {
    "ExecuteTime": {
     "end_time": "2025-07-26T14:27:06.574359Z",
     "start_time": "2025-07-26T14:18:41.942640Z"
    }
   },
   "cell_type": "code",
   "source": [
    "model_red = SARIMAX(df['consumption'],\n",
    "                    exog=exog_sig,\n",
    "                    order=(1,0,2),\n",
    "                    seasonal_order=(1,0,1,24),\n",
    "                    enforce_stationarity=True,\n",
    "                    enforce_invertibility=True)\n",
    "res_red = model_red.fit(disp=False, method='powell', maxiter=300)\n",
    "print(res_red.summary())"
   ],
   "id": "155750d32611130f",
   "outputs": [
    {
     "name": "stdout",
     "output_type": "stream",
     "text": [
      "                                      SARIMAX Results                                       \n",
      "============================================================================================\n",
      "Dep. Variable:                          consumption   No. Observations:                35058\n",
      "Model:             SARIMAX(1, 0, 2)x(1, 0, [1], 24)   Log Likelihood              -44207.900\n",
      "Date:                              Sat, 26 Jul 2025   AIC                          88449.800\n",
      "Time:                                      16:26:59   BIC                          88593.701\n",
      "Sample:                                  01-01-2015   HQIC                         88495.632\n",
      "                                       - 12-31-2018                                         \n",
      "Covariance Type:                                opg                                         \n",
      "==============================================================================\n",
      "                 coef    std err          z      P>|z|      [0.025      0.975]\n",
      "------------------------------------------------------------------------------\n",
      "w_tl          -2.1277      0.081    -26.299      0.000      -2.286      -1.969\n",
      "w_rf          -0.1877      0.027     -6.937      0.000      -0.241      -0.135\n",
      "w_ff          -0.0145      0.007     -2.023      0.043      -0.028      -0.000\n",
      "w_ffx         -0.0525      0.008     -6.673      0.000      -0.068      -0.037\n",
      "w_cglo         0.1206      0.020      5.891      0.000       0.080       0.161\n",
      "w_so_h        -0.0651      0.010     -6.575      0.000      -0.085      -0.046\n",
      "w_rrm         -0.0259      0.007     -3.784      0.000      -0.039      -0.012\n",
      "w_tb10        -5.5184      0.448    -12.310      0.000      -6.397      -4.640\n",
      "w_tb20        -2.0401      0.490     -4.159      0.000      -3.001      -1.079\n",
      "CEGH_WAP      -0.6215      0.233     -2.665      0.008      -1.079      -0.164\n",
      "THE_WAP        0.6056      0.231      2.622      0.009       0.153       1.058\n",
      "ar.L1          0.8886      0.002    424.146      0.000       0.885       0.893\n",
      "ma.L1          0.4165      0.003    134.487      0.000       0.410       0.423\n",
      "ma.L2          0.1184      0.004     28.088      0.000       0.110       0.127\n",
      "ar.S.L24       0.9980      0.000   5505.951      0.000       0.998       0.998\n",
      "ma.S.L24      -0.8134      0.002   -341.012      0.000      -0.818      -0.809\n",
      "sigma2         0.7276      0.003    236.522      0.000       0.722       0.734\n",
      "===================================================================================\n",
      "Ljung-Box (L1) (Q):                   0.13   Jarque-Bera (JB):             52601.48\n",
      "Prob(Q):                              0.71   Prob(JB):                         0.00\n",
      "Heteroskedasticity (H):               0.76   Skew:                             0.11\n",
      "Prob(H) (two-sided):                  0.00   Kurtosis:                         9.00\n",
      "===================================================================================\n",
      "\n",
      "Warnings:\n",
      "[1] Covariance matrix calculated using the outer product of gradients (complex-step).\n"
     ]
    }
   ],
   "execution_count": 9
  },
  {
   "metadata": {
    "ExecuteTime": {
     "end_time": "2025-07-26T14:31:44.224427Z",
     "start_time": "2025-07-26T14:31:37.405438Z"
    }
   },
   "cell_type": "code",
   "source": "results_best.plot_diagnostics(figsize=(12, 8));",
   "id": "886f6dd14ca7d7eb",
   "outputs": [
    {
     "data": {
      "text/plain": [
       "<Figure size 1200x800 with 4 Axes>"
      ],
      "image/png": "[encoded data removed]"
     },
     "metadata": {},
     "output_type": "display_data"
    }
   ],
   "execution_count": 10
  },
  {
   "metadata": {
    "ExecuteTime": {
     "end_time": "2025-07-26T14:32:56.839962Z",
     "start_time": "2025-07-26T14:32:50.013712Z"
    }
   },
   "cell_type": "code",
   "source": "res_red.plot_diagnostics(figsize=(12, 8));",
   "id": "c3aa88b8ff9f9dca",
   "outputs": [
    {
     "data": {
      "text/plain": [
       "<Figure size 1200x800 with 4 Axes>"
      ],
      "image/png": "[encoded data removed]"
     },
     "metadata": {},
     "output_type": "display_data"
    }
   ],
   "execution_count": 12
  },
  {
   "metadata": {
    "ExecuteTime": {
     "end_time": "2025-07-26T15:13:21.494466Z",
     "start_time": "2025-07-26T14:56:37.897978Z"
    }
   },
   "cell_type": "code",
   "source": [
    "from sklearn.metrics import mean_squared_error, mean_absolute_error\n",
    "\n",
    "# 1. Split in Training (bis 2017-12-31) und Test (2018)\n",
    "train = df.loc[:'2017-12-31']\n",
    "test  = df.loc['2018-01-01':]\n",
    "\n",
    "# 2. Definiere Exogene für Full und Reduced\n",
    "features_full = ['hour', 'weekday', 'month', 'is_weekend',\n",
    "                 'w_tl','w_rf','w_ff','w_ffx','w_cglo',\n",
    "                 'w_so_h','w_rr','w_rrm','w_tb10','w_tb20',\n",
    "                 'CEGH_WAP','THE_WAP']\n",
    "\n",
    "features_red  = ['w_tl','w_rf','w_ff','w_ffx',\n",
    "                 'w_cglo','w_so_h','w_rrm',\n",
    "                 'w_tb10','w_tb20','CEGH_WAP','THE_WAP']\n",
    "\n",
    "# 3. Fit beider Modelle auf den Trainingsdaten\n",
    "mod_full = SARIMAX(\n",
    "    train['consumption'],\n",
    "    exog=train[features_full],\n",
    "    order=(1,0,2),\n",
    "    seasonal_order=(1,0,1,24),\n",
    "    enforce_stationarity=True,\n",
    "    enforce_invertibility=True\n",
    ")\n",
    "res_full = mod_full.fit(disp=False, method='powell', maxiter=300)\n",
    "\n",
    "mod_red = SARIMAX(\n",
    "    train['consumption'],\n",
    "    exog=train[features_red],\n",
    "    order=(1,0,2),\n",
    "    seasonal_order=(1,0,1,24),\n",
    "    enforce_stationarity=True,\n",
    "    enforce_invertibility=True\n",
    ")\n",
    "res_red = mod_red.fit(disp=False, method='powell', maxiter=300)\n",
    "\n",
    "# 4. Forecast auf Testdaten generieren\n",
    "#    (Schrittweite = Länge des Test-Sets)\n",
    "n_test = len(test)\n",
    "\n",
    "pred_full = res_full.get_forecast(steps=n_test, exog=test[features_full])\n",
    "yhat_full = pred_full.predicted_mean\n",
    "\n",
    "pred_red  = res_red.get_forecast(steps=n_test, exog=test[features_red])\n",
    "yhat_red  = pred_red.predicted_mean\n",
    "\n",
    "# 5. Fehlerberechnung\n",
    "y_true = test['consumption']\n",
    "\n",
    "rmse_full = mean_squared_error(y_true, yhat_full, squared=False)\n",
    "mae_full  = mean_absolute_error(y_true, yhat_full)\n",
    "\n",
    "rmse_red  = mean_squared_error(y_true, yhat_red, squared=False)\n",
    "mae_red   = mean_absolute_error(y_true, yhat_red)\n",
    "\n",
    "# 6. Ergebnisse ausgeben\n",
    "print(\"=== Full Model ===\")\n",
    "print(f\"RMSE: {rmse_full:.2f}\")\n",
    "print(f\"MAE : {mae_full:.2f}\\n\")\n",
    "\n",
    "print(\"=== Reduced Model ===\")\n",
    "print(f\"RMSE: {rmse_red:.2f}\")\n",
    "print(f\"MAE : {mae_red:.2f}\")"
   ],
   "id": "3cd3fbd9465cf638",
   "outputs": [
    {
     "ename": "TypeError",
     "evalue": "got an unexpected keyword argument 'squared'",
     "output_type": "error",
     "traceback": [
      "\u001B[1;31m---------------------------------------------------------------------------\u001B[0m",
      "\u001B[1;31mTypeError\u001B[0m                                 Traceback (most recent call last)",
      "Cell \u001B[1;32mIn[13], line 51\u001B[0m\n\u001B[0;32m     48\u001B[0m \u001B[38;5;66;03m# 5. Fehlerberechnung\u001B[39;00m\n\u001B[0;32m     49\u001B[0m y_true \u001B[38;5;241m=\u001B[39m test[\u001B[38;5;124m'\u001B[39m\u001B[38;5;124mconsumption\u001B[39m\u001B[38;5;124m'\u001B[39m]\n\u001B[1;32m---> 51\u001B[0m rmse_full \u001B[38;5;241m=\u001B[39m \u001B[43mmean_squared_error\u001B[49m\u001B[43m(\u001B[49m\u001B[43my_true\u001B[49m\u001B[43m,\u001B[49m\u001B[43m \u001B[49m\u001B[43myhat_full\u001B[49m\u001B[43m,\u001B[49m\u001B[43m \u001B[49m\u001B[43msquared\u001B[49m\u001B[38;5;241;43m=\u001B[39;49m\u001B[38;5;28;43;01mFalse\u001B[39;49;00m\u001B[43m)\u001B[49m\n\u001B[0;32m     52\u001B[0m mae_full  \u001B[38;5;241m=\u001B[39m mean_absolute_error(y_true, yhat_full)\n\u001B[0;32m     54\u001B[0m rmse_red  \u001B[38;5;241m=\u001B[39m mean_squared_error(y_true, yhat_red, squared\u001B[38;5;241m=\u001B[39m\u001B[38;5;28;01mFalse\u001B[39;00m)\n",
      "File \u001B[1;32m~\\miniconda3\\envs\\ersatzwerte_project\\lib\\site-packages\\sklearn\\utils\\_param_validation.py:194\u001B[0m, in \u001B[0;36mvalidate_params.<locals>.decorator.<locals>.wrapper\u001B[1;34m(*args, **kwargs)\u001B[0m\n\u001B[0;32m    191\u001B[0m func_sig \u001B[38;5;241m=\u001B[39m signature(func)\n\u001B[0;32m    193\u001B[0m \u001B[38;5;66;03m# Map *args/**kwargs to the function signature\u001B[39;00m\n\u001B[1;32m--> 194\u001B[0m params \u001B[38;5;241m=\u001B[39m func_sig\u001B[38;5;241m.\u001B[39mbind(\u001B[38;5;241m*\u001B[39margs, \u001B[38;5;241m*\u001B[39m\u001B[38;5;241m*\u001B[39mkwargs)\n\u001B[0;32m    195\u001B[0m params\u001B[38;5;241m.\u001B[39mapply_defaults()\n\u001B[0;32m    197\u001B[0m \u001B[38;5;66;03m# ignore self/cls and positional/keyword markers\u001B[39;00m\n",
      "File \u001B[1;32m~\\miniconda3\\envs\\ersatzwerte_project\\lib\\inspect.py:3186\u001B[0m, in \u001B[0;36mSignature.bind\u001B[1;34m(self, *args, **kwargs)\u001B[0m\n\u001B[0;32m   3181\u001B[0m \u001B[38;5;28;01mdef\u001B[39;00m\u001B[38;5;250m \u001B[39m\u001B[38;5;21mbind\u001B[39m(\u001B[38;5;28mself\u001B[39m, \u001B[38;5;241m/\u001B[39m, \u001B[38;5;241m*\u001B[39margs, \u001B[38;5;241m*\u001B[39m\u001B[38;5;241m*\u001B[39mkwargs):\n\u001B[0;32m   3182\u001B[0m \u001B[38;5;250m    \u001B[39m\u001B[38;5;124;03m\"\"\"Get a BoundArguments object, that maps the passed `args`\u001B[39;00m\n\u001B[0;32m   3183\u001B[0m \u001B[38;5;124;03m    and `kwargs` to the function's signature.  Raises `TypeError`\u001B[39;00m\n\u001B[0;32m   3184\u001B[0m \u001B[38;5;124;03m    if the passed arguments can not be bound.\u001B[39;00m\n\u001B[0;32m   3185\u001B[0m \u001B[38;5;124;03m    \"\"\"\u001B[39;00m\n\u001B[1;32m-> 3186\u001B[0m     \u001B[38;5;28;01mreturn\u001B[39;00m \u001B[38;5;28;43mself\u001B[39;49m\u001B[38;5;241;43m.\u001B[39;49m\u001B[43m_bind\u001B[49m\u001B[43m(\u001B[49m\u001B[43margs\u001B[49m\u001B[43m,\u001B[49m\u001B[43m \u001B[49m\u001B[43mkwargs\u001B[49m\u001B[43m)\u001B[49m\n",
      "File \u001B[1;32m~\\miniconda3\\envs\\ersatzwerte_project\\lib\\inspect.py:3175\u001B[0m, in \u001B[0;36mSignature._bind\u001B[1;34m(self, args, kwargs, partial)\u001B[0m\n\u001B[0;32m   3173\u001B[0m         arguments[kwargs_param\u001B[38;5;241m.\u001B[39mname] \u001B[38;5;241m=\u001B[39m kwargs\n\u001B[0;32m   3174\u001B[0m     \u001B[38;5;28;01melse\u001B[39;00m:\n\u001B[1;32m-> 3175\u001B[0m         \u001B[38;5;28;01mraise\u001B[39;00m \u001B[38;5;167;01mTypeError\u001B[39;00m(\n\u001B[0;32m   3176\u001B[0m             \u001B[38;5;124m'\u001B[39m\u001B[38;5;124mgot an unexpected keyword argument \u001B[39m\u001B[38;5;132;01m{arg!r}\u001B[39;00m\u001B[38;5;124m'\u001B[39m\u001B[38;5;241m.\u001B[39mformat(\n\u001B[0;32m   3177\u001B[0m                 arg\u001B[38;5;241m=\u001B[39m\u001B[38;5;28mnext\u001B[39m(\u001B[38;5;28miter\u001B[39m(kwargs))))\n\u001B[0;32m   3179\u001B[0m \u001B[38;5;28;01mreturn\u001B[39;00m \u001B[38;5;28mself\u001B[39m\u001B[38;5;241m.\u001B[39m_bound_arguments_cls(\u001B[38;5;28mself\u001B[39m, arguments)\n",
      "\u001B[1;31mTypeError\u001B[0m: got an unexpected keyword argument 'squared'"
     ]
    }
   ],
   "execution_count": 13
  },
  {
   "metadata": {
    "ExecuteTime": {
     "end_time": "2025-07-26T15:14:16.690656Z",
     "start_time": "2025-07-26T15:14:16.671119Z"
    }
   },
   "cell_type": "code",
   "source": [
    "# 1) wahrer Wert und Vorhersage als NumPy-Arrays (NaNs an Anfang entfernen, falls nötig)\n",
    "y_true = test['consumption'].values\n",
    "yhat_full = yhat_full.values\n",
    "yhat_red  = yhat_red.values\n",
    "\n",
    "# 2) MSE und RMSE berechnen\n",
    "mse_full = mean_squared_error(y_true, yhat_full)\n",
    "rmse_full = np.sqrt(mse_full)\n",
    "mae_full = mean_absolute_error(y_true, yhat_full)\n",
    "\n",
    "mse_red  = mean_squared_error(y_true, yhat_red)\n",
    "rmse_red  = np.sqrt(mse_red)\n",
    "mae_red   = mean_absolute_error(y_true, yhat_red)\n",
    "\n",
    "# 3) Ausgabe\n",
    "print(\"=== Full Model ===\")\n",
    "print(f\"RMSE: {rmse_full:.2f}\")\n",
    "print(f\"MAE : {mae_full:.2f}\\n\")\n",
    "\n",
    "print(\"=== Reduced Model ===\")\n",
    "print(f\"RMSE: {rmse_red:.2f}\")\n",
    "print(f\"MAE : {mae_red:.2f}\")"
   ],
   "id": "516fbae659e798c3",
   "outputs": [
    {
     "name": "stdout",
     "output_type": "stream",
     "text": [
      "=== Full Model ===\n",
      "RMSE: 6.19\n",
      "MAE : 4.78\n",
      "\n",
      "=== Reduced Model ===\n",
      "RMSE: 6.10\n",
      "MAE : 4.73\n"
     ]
    }
   ],
   "execution_count": 14
  },
  {
   "metadata": {
    "ExecuteTime": {
     "end_time": "2025-07-26T15:19:52.688315Z",
     "start_time": "2025-07-26T15:19:52.384156Z"
    }
   },
   "cell_type": "code",
   "source": "df.consumption.plot(figsize=(12, 8));",
   "id": "94f05749518969df",
   "outputs": [
    {
     "data": {
      "text/plain": [
       "<Figure size 1200x800 with 1 Axes>"
      ],
      "image/png": "[encoded data removed]"
     },
     "metadata": {},
     "output_type": "display_data"
    }
   ],
   "execution_count": 15
  },
  {
   "metadata": {
    "ExecuteTime": {
     "end_time": "2025-07-27T10:40:06.432088Z",
     "start_time": "2025-07-27T10:40:06.420811Z"
    }
   },
   "cell_type": "code",
   "source": [
    "from sklearn.metrics import mean_squared_error, mean_absolute_error\n",
    "import numpy as np\n",
    "\n",
    "# Naive-Vorhersage: Verbrauch vor 24h\n",
    "y_naive = test['consumption'].shift(24).dropna()\n",
    "y_true_naive = test['consumption'].loc[y_naive.index]\n",
    "\n",
    "rmse_naive = np.sqrt(mean_squared_error(y_true_naive, y_naive))\n",
    "mae_naive  = mean_absolute_error(y_true_naive, y_naive)\n",
    "\n",
    "print(\"=== Naive 24h-Lag ===\")\n",
    "print(f\"RMSE: {rmse_naive:.2f}\")\n",
    "print(f\"MAE : {mae_naive:.2f}\")"
   ],
   "id": "7eb9b575863b2ab8",
   "outputs": [
    {
     "name": "stdout",
     "output_type": "stream",
     "text": [
      "=== Naive 24h-Lag ===\n",
      "RMSE: 2.76\n",
      "MAE : 1.79\n"
     ]
    }
   ],
   "execution_count": 21
  },
  {
   "metadata": {
    "ExecuteTime": {
     "end_time": "2025-07-27T10:40:02.462721Z",
     "start_time": "2025-07-27T10:40:02.452535Z"
    }
   },
   "cell_type": "code",
   "source": [
    "# Naive-Vorhersage: Verbrauch vor 48h\n",
    "y_naive = test['consumption'].shift(48).dropna()\n",
    "y_true_naive = test['consumption'].loc[y_naive.index]\n",
    "\n",
    "rmse_naive = np.sqrt(mean_squared_error(y_true_naive, y_naive))\n",
    "mae_naive  = mean_absolute_error(y_true_naive, y_naive)\n",
    "\n",
    "print(\"=== Naive 48h-Lag ===\")\n",
    "print(f\"RMSE: {rmse_naive:.2f}\")\n",
    "print(f\"MAE : {mae_naive:.2f}\")"
   ],
   "id": "678d613c403b1fdd",
   "outputs": [
    {
     "name": "stdout",
     "output_type": "stream",
     "text": [
      "=== Naive 48h-Lag ===\n",
      "RMSE: 3.68\n",
      "MAE : 2.41\n"
     ]
    }
   ],
   "execution_count": 20
  },
  {
   "metadata": {
    "ExecuteTime": {
     "end_time": "2025-07-27T10:35:23.385934Z",
     "start_time": "2025-07-27T10:35:23.374285Z"
    }
   },
   "cell_type": "code",
   "source": [
    "# Naive-Vorhersage: Verbrauch vor 24h\n",
    "y_naive = test['consumption'].shift(62).dropna()\n",
    "y_true_naive = test['consumption'].loc[y_naive.index]\n",
    "\n",
    "rmse_naive = np.sqrt(mean_squared_error(y_true_naive, y_naive))\n",
    "mae_naive  = mean_absolute_error(y_true_naive, y_naive)\n",
    "\n",
    "print(\"=== Naive 62h-Lag ===\")\n",
    "print(f\"RMSE: {rmse_naive:.2f}\")\n",
    "print(f\"MAE : {mae_naive:.2f}\")"
   ],
   "id": "d3b85585f4bc6881",
   "outputs": [
    {
     "name": "stdout",
     "output_type": "stream",
     "text": [
      "=== Naive 62h-Lag ===\n",
      "RMSE: 8.98\n",
      "MAE : 6.08\n"
     ]
    }
   ],
   "execution_count": 19
  },
  {
   "metadata": {
    "ExecuteTime": {
     "end_time": "2025-07-27T10:46:50.546501Z",
     "start_time": "2025-07-27T10:46:50.474828Z"
    }
   },
   "cell_type": "code",
   "source": [
    "# Die Horizont-Werte, für die du die Naive-Metriken schon ermittelt hast:\n",
    "horizons = [24, 48, 62]\n",
    "\n",
    "# Dictionaries, um die Ergebnisse abzuspeichern\n",
    "rmse_model = {}\n",
    "mae_model = {}\n",
    "\n",
    "for h in horizons:\n",
    "    # 1) slice der exogenen Features für genau h Stunden ab Test-Beginn\n",
    "    exog_future = test[features_red].iloc[:h]\n",
    "\n",
    "    # 2) h-Schritt-Vorhersage ab Ende Training\n",
    "    pred = res_red.get_forecast(steps=h, exog=exog_future)\n",
    "    yhat = pred.predicted_mean\n",
    "\n",
    "    # 3) wahre Werte der ersten h Stunden im Test\n",
    "    ytrue = test['consumption'].iloc[:h]\n",
    "\n",
    "    # 4) Fehlermaße\n",
    "    rmse_model[h] = np.sqrt(mean_squared_error(ytrue, yhat))\n",
    "    mae_model[h]  = mean_absolute_error(ytrue, yhat)\n",
    "\n",
    "# 5) Ausgabe\n",
    "print(\"=== Modell-Fehler pro Horizon ===\")\n",
    "for h in horizons:\n",
    "    print(f\"{h:2d}h-Vorhorizont:   RMSE = {rmse_model[h]:.2f},  MAE = {mae_model[h]:.2f}\")"
   ],
   "id": "51dd365f57555056",
   "outputs": [
    {
     "name": "stdout",
     "output_type": "stream",
     "text": [
      "=== Modell-Fehler pro Horizon ===\n",
      "24h-Vorhorizont:   RMSE = 1.73,  MAE = 1.23\n",
      "48h-Vorhorizont:   RMSE = 1.68,  MAE = 1.30\n",
      "62h-Vorhorizont:   RMSE = 1.74,  MAE = 1.35\n"
     ]
    }
   ],
   "execution_count": 23
  },
  {
   "metadata": {
    "ExecuteTime": {
     "end_time": "2025-07-27T11:37:27.358944Z",
     "start_time": "2025-07-27T11:37:27.301444Z"
    }
   },
   "cell_type": "code",
   "source": [
    "\n",
    "# 1) Definiere deine Horizonts\n",
    "horizons = [6, 24, 48, 62]\n",
    "\n",
    "# 2) Bereite die Training/Endpunkt für Forecast vor\n",
    "train_end = '2017-12-31 23:00:00'\n",
    "test_start = pd.to_datetime(train_end) + pd.Timedelta(hours=1)\n",
    "\n",
    "# 3) Loop über alle Horizonts und berechne RMSE/MAE für Naive und SARIMAX\n",
    "results = []\n",
    "\n",
    "for h in horizons:\n",
    "    # a) die ersten h Zeitpunkte im Test\n",
    "    idx_h = pd.date_range(start=test_start, periods=h, freq='h')\n",
    "\n",
    "    # b) True Values\n",
    "    y_true = df['consumption'].loc[idx_h]\n",
    "\n",
    "    # c) Naive Seasonal (24h-Lag) Baseline\n",
    "    y_naive = df['consumption'].shift(24).loc[idx_h]\n",
    "\n",
    "    # d) SARIMAX-Forecast\n",
    "    exog_future = df[features_red].loc[idx_h]\n",
    "    pred = res_red.get_forecast(steps=h, exog=exog_future)\n",
    "    yhat = pred.predicted_mean.loc[idx_h]\n",
    "\n",
    "    # e) Fehlerberechnung\n",
    "    rmse_naive = np.sqrt(mean_squared_error(y_true, y_naive))\n",
    "    mae_naive  = mean_absolute_error(y_true, y_naive)\n",
    "    rmse_model = np.sqrt(mean_squared_error(y_true, yhat))\n",
    "    mae_model  = mean_absolute_error(y_true, yhat)\n",
    "\n",
    "    results.append({\n",
    "        'horizon':     h,\n",
    "        'rmse_naive':  rmse_naive,\n",
    "        'mae_naive':   mae_naive,\n",
    "        'rmse_sarimax':rmse_model,\n",
    "        'mae_sarimax': mae_model\n",
    "    })\n",
    "\n",
    "# 4) Ergebnisse anzeigen\n",
    "import pandas as pd\n",
    "cmp = pd.DataFrame(results).set_index('horizon')\n",
    "print(cmp)"
   ],
   "id": "2a82939c86f6ea4a",
   "outputs": [
    {
     "name": "stdout",
     "output_type": "stream",
     "text": [
      "         rmse_naive  mae_naive  rmse_sarimax  mae_sarimax\n",
      "horizon                                                  \n",
      "6          3.068862   2.028333      0.582528     0.479985\n",
      "24         4.764512   3.911292      1.757947     1.240472\n",
      "48         3.793429   2.882146      1.686266     1.300895\n",
      "62         3.543759   2.711806      1.734604     1.344455\n"
     ]
    }
   ],
   "execution_count": 43
  },
  {
   "metadata": {
    "ExecuteTime": {
     "end_time": "2025-07-27T11:24:38.887774Z",
     "start_time": "2025-07-27T11:10:28.513399Z"
    }
   },
   "cell_type": "code",
   "source": [
    "# 1. Split in Training (bis 2017-12-31) und Test (2018)\n",
    "train = df.loc[:'2016-12-31']\n",
    "test  = df.loc['2017-01-01':'2017-12-31']\n",
    "\n",
    "# 2. Definiere Exogene für Full und Reduced\n",
    "features_full = ['hour', 'weekday', 'month', 'is_weekend',\n",
    "                 'w_tl','w_rf','w_ff','w_ffx','w_cglo',\n",
    "                 'w_so_h','w_rr','w_rrm','w_tb10','w_tb20',\n",
    "                 'CEGH_WAP','THE_WAP']\n",
    "\n",
    "features_red  = ['w_tl','w_rf','w_ff','w_ffx',\n",
    "                 'w_cglo','w_so_h','w_rrm',\n",
    "                 'w_tb10','w_tb20','CEGH_WAP','THE_WAP']\n",
    "\n",
    "# 3. Fit beider Modelle auf den Trainingsdaten\n",
    "mod_full = SARIMAX(\n",
    "    train['consumption'],\n",
    "    exog=train[features_full],\n",
    "    order=(1,0,2),\n",
    "    seasonal_order=(1,0,1,24),\n",
    "    enforce_stationarity=True,\n",
    "    enforce_invertibility=True\n",
    ")\n",
    "res_full = mod_full.fit(disp=False, method='powell', maxiter=300)\n",
    "\n",
    "mod_red = SARIMAX(\n",
    "    train['consumption'],\n",
    "    exog=train[features_red],\n",
    "    order=(1,0,2),\n",
    "    seasonal_order=(1,0,1,24),\n",
    "    enforce_stationarity=True,\n",
    "    enforce_invertibility=True\n",
    ")\n",
    "res_red = mod_red.fit(disp=False, method='powell', maxiter=300)\n",
    "\n",
    "# 4. Forecast auf Testdaten generieren\n",
    "#    (Schrittweite = Länge des Test-Sets)\n",
    "n_test = len(test)\n",
    "\n",
    "pred_full = res_full.get_forecast(steps=n_test, exog=test[features_full])\n",
    "yhat_full = pred_full.predicted_mean\n",
    "\n",
    "pred_red  = res_red.get_forecast(steps=n_test, exog=test[features_red])\n",
    "yhat_red  = pred_red.predicted_mean\n",
    "\n",
    "\n",
    "y_true = test['consumption'].values\n",
    "yhat_full = yhat_full.values\n",
    "yhat_red  = yhat_red.values\n",
    "\n",
    "\n",
    "mse_full = mean_squared_error(y_true, yhat_full)\n",
    "rmse_full = np.sqrt(mse_full)\n",
    "mae_full = mean_absolute_error(y_true, yhat_full)\n",
    "\n",
    "mse_red  = mean_squared_error(y_true, yhat_red)\n",
    "rmse_red  = np.sqrt(mse_red)\n",
    "mae_red   = mean_absolute_error(y_true, yhat_red)\n",
    "\n",
    "# 3) Ausgabe\n",
    "print(\"=== Full Model ===\")\n",
    "print(f\"RMSE: {rmse_full:.2f}\")\n",
    "print(f\"MAE : {mae_full:.2f}\\n\")\n",
    "\n",
    "print(\"=== Reduced Model ===\")\n",
    "print(f\"RMSE: {rmse_red:.2f}\")\n",
    "print(f\"MAE : {mae_red:.2f}\")"
   ],
   "id": "832637f242f646b0",
   "outputs": [
    {
     "name": "stdout",
     "output_type": "stream",
     "text": [
      "=== Full Model ===\n",
      "RMSE: 6.77\n",
      "MAE : 5.50\n",
      "\n",
      "=== Reduced Model ===\n",
      "RMSE: 9.03\n",
      "MAE : 7.12\n"
     ]
    }
   ],
   "execution_count": 39
  },
  {
   "metadata": {
    "ExecuteTime": {
     "end_time": "2025-07-27T11:09:59.607524Z",
     "start_time": "2025-07-27T11:09:59.597013Z"
    }
   },
   "cell_type": "code",
   "source": [
    "train = df.loc[:'2016-12-31']\n",
    "test  = df.loc['2017-01-01':'2017-12-31']\n",
    "\n",
    "train.index.min(), train.index.max(), test.index.min(), test.index.max()"
   ],
   "id": "273e70dbef9b153a",
   "outputs": [
    {
     "data": {
      "text/plain": [
       "(Timestamp('2015-01-01 06:00:00'),\n",
       " Timestamp('2016-12-31 23:00:00'),\n",
       " Timestamp('2017-01-01 00:00:00'),\n",
       " Timestamp('2017-12-31 23:00:00'))"
      ]
     },
     "execution_count": 37,
     "metadata": {},
     "output_type": "execute_result"
    }
   ],
   "execution_count": 37
  },
  {
   "metadata": {
    "ExecuteTime": {
     "end_time": "2025-07-27T11:10:01.033425Z",
     "start_time": "2025-07-27T11:10:01.022345Z"
    }
   },
   "cell_type": "code",
   "source": "len(train), len(test)",
   "id": "caa7f7eb1de77080",
   "outputs": [
    {
     "data": {
      "text/plain": [
       "(17538, 8760)"
      ]
     },
     "execution_count": 38,
     "metadata": {},
     "output_type": "execute_result"
    }
   ],
   "execution_count": 38
  },
  {
   "metadata": {
    "ExecuteTime": {
     "end_time": "2025-07-27T11:25:20.283446Z",
     "start_time": "2025-07-27T11:25:20.273933Z"
    }
   },
   "cell_type": "code",
   "source": [
    "train = df.loc['2016-01-01':'2017-12-31']\n",
    "test  = df.loc['2018-01-01':]\n",
    "\n",
    "train.index.min(), train.index.max(), test.index.min(), test.index.max(), len(train), len(test)"
   ],
   "id": "25cfbefbc046c15d",
   "outputs": [
    {
     "data": {
      "text/plain": [
       "(Timestamp('2016-01-01 00:00:00'),\n",
       " Timestamp('2017-12-31 23:00:00'),\n",
       " Timestamp('2018-01-01 00:00:00'),\n",
       " Timestamp('2018-12-31 23:00:00'),\n",
       " 17544,\n",
       " 8760)"
      ]
     },
     "execution_count": 41,
     "metadata": {},
     "output_type": "execute_result"
    }
   ],
   "execution_count": 41
  },
  {
   "metadata": {
    "ExecuteTime": {
     "end_time": "2025-07-27T11:35:38.433157Z",
     "start_time": "2025-07-27T11:25:25.773141Z"
    }
   },
   "cell_type": "code",
   "source": [
    "# 1. Split in Training (bis 2017-12-31) und Test (2018)\n",
    "train = df.loc['2016-01-01':'2017-12-31']\n",
    "test  = df.loc['2018-01-01':]\n",
    "\n",
    "# 2. Definiere Exogene für Full und Reduced\n",
    "features_full = ['hour', 'weekday', 'month', 'is_weekend',\n",
    "                 'w_tl','w_rf','w_ff','w_ffx','w_cglo',\n",
    "                 'w_so_h','w_rr','w_rrm','w_tb10','w_tb20',\n",
    "                 'CEGH_WAP','THE_WAP']\n",
    "\n",
    "features_red  = ['w_tl','w_rf','w_ff','w_ffx',\n",
    "                 'w_cglo','w_so_h','w_rrm',\n",
    "                 'w_tb10','w_tb20','CEGH_WAP','THE_WAP']\n",
    "\n",
    "# 3. Fit beider Modelle auf den Trainingsdaten\n",
    "mod_full = SARIMAX(\n",
    "    train['consumption'],\n",
    "    exog=train[features_full],\n",
    "    order=(1,0,2),\n",
    "    seasonal_order=(1,0,1,24),\n",
    "    enforce_stationarity=True,\n",
    "    enforce_invertibility=True\n",
    ")\n",
    "res_full = mod_full.fit(disp=False, method='powell', maxiter=300)\n",
    "\n",
    "mod_red = SARIMAX(\n",
    "    train['consumption'],\n",
    "    exog=train[features_red],\n",
    "    order=(1,0,2),\n",
    "    seasonal_order=(1,0,1,24),\n",
    "    enforce_stationarity=True,\n",
    "    enforce_invertibility=True\n",
    ")\n",
    "res_red = mod_red.fit(disp=False, method='powell', maxiter=300)\n",
    "\n",
    "# 4. Forecast auf Testdaten generieren\n",
    "#    (Schrittweite = Länge des Test-Sets)\n",
    "n_test = len(test)\n",
    "\n",
    "pred_full = res_full.get_forecast(steps=n_test, exog=test[features_full])\n",
    "yhat_full = pred_full.predicted_mean\n",
    "\n",
    "pred_red  = res_red.get_forecast(steps=n_test, exog=test[features_red])\n",
    "yhat_red  = pred_red.predicted_mean\n",
    "\n",
    "\n",
    "y_true = test['consumption'].values\n",
    "yhat_full = yhat_full.values\n",
    "yhat_red  = yhat_red.values\n",
    "\n",
    "\n",
    "mse_full = mean_squared_error(y_true, yhat_full)\n",
    "rmse_full = np.sqrt(mse_full)\n",
    "mae_full = mean_absolute_error(y_true, yhat_full)\n",
    "\n",
    "mse_red  = mean_squared_error(y_true, yhat_red)\n",
    "rmse_red  = np.sqrt(mse_red)\n",
    "mae_red   = mean_absolute_error(y_true, yhat_red)\n",
    "\n",
    "# 3) Ausgabe\n",
    "print(\"=== Full Model ===\")\n",
    "print(f\"RMSE: {rmse_full:.2f}\")\n",
    "print(f\"MAE : {mae_full:.2f}\\n\")\n",
    "\n",
    "print(\"=== Reduced Model ===\")\n",
    "print(f\"RMSE: {rmse_red:.2f}\")\n",
    "print(f\"MAE : {mae_red:.2f}\")"
   ],
   "id": "3e2484b07f719dc1",
   "outputs": [
    {
     "name": "stdout",
     "output_type": "stream",
     "text": [
      "=== Full Model ===\n",
      "RMSE: 6.15\n",
      "MAE : 4.77\n",
      "\n",
      "=== Reduced Model ===\n",
      "RMSE: 6.15\n",
      "MAE : 4.77\n"
     ]
    }
   ],
   "execution_count": 42
  },
  {
   "metadata": {
    "ExecuteTime": {
     "end_time": "2025-07-27T12:25:33.854416Z",
     "start_time": "2025-07-27T12:10:13.622972Z"
    }
   },
   "cell_type": "code",
   "source": [
    "# Parameter für Rolling-Splits\n",
    "train_years = 1\n",
    "test_years = 1\n",
    "\n",
    "# Bestimme mögliche Startjahre für Splits basierend auf dem Index von df\n",
    "years = sorted(df.index.year.unique())\n",
    "min_year = years[0]\n",
    "max_year = years[-1]\n",
    "split_starts = range(min_year, max_year - train_years - test_years + 2)\n",
    "\n",
    "results = []\n",
    "\n",
    "for start_year in split_starts:\n",
    "    # Trainingszeitraum: 1.1.start_year 06:00 bis 31.12.(start_year+train_years-1) 23:00\n",
    "    train_start = pd.Timestamp(f\"{start_year}-01-01 06:00:00\")\n",
    "    train_end   = pd.Timestamp(f\"{start_year+train_years-1}-12-31 23:00:00\")\n",
    "    # Testzeitraum direkt danach für test_years Jahre\n",
    "    test_start  = train_end + pd.Timedelta(hours=1)\n",
    "    test_end    = pd.Timestamp(f\"{start_year+train_years+test_years-1}-12-31 23:00:00\")\n",
    "\n",
    "    train = df.loc[train_start:train_end]\n",
    "    test  = df.loc[test_start:test_end]\n",
    "\n",
    "    # Full Model fitten\n",
    "    model_full = SARIMAX(\n",
    "        train['consumption'],\n",
    "        exog=train[features_full],\n",
    "        order=(1,0,2),\n",
    "        seasonal_order=(1,0,1,24),\n",
    "        enforce_stationarity=True,\n",
    "        enforce_invertibility=True\n",
    "    )\n",
    "    res_full = model_full.fit(disp=False, method='powell', maxiter=300)\n",
    "\n",
    "    # Reduced Model fitten\n",
    "    model_red = SARIMAX(\n",
    "        train['consumption'],\n",
    "        exog=train[features_red],\n",
    "        order=(1,0,2),\n",
    "        seasonal_order=(1,0,1,24),\n",
    "        enforce_stationarity=True,\n",
    "        enforce_invertibility=True\n",
    "    )\n",
    "    res_red = model_red.fit(disp=False, method='powell', maxiter=300)\n",
    "\n",
    "    # Forecast für den Test-Zeitraum\n",
    "    n_test    = len(test)\n",
    "    pred_full = res_full.get_forecast(steps=n_test, exog=test[features_full]).predicted_mean\n",
    "    pred_red  = res_red.get_forecast( steps=n_test, exog=test[features_red]).predicted_mean\n",
    "\n",
    "    # Fehlermaße berechnen\n",
    "    y_true     = test['consumption']\n",
    "    rmse_full  = np.sqrt(mean_squared_error(y_true, pred_full))\n",
    "    mae_full   = mean_absolute_error(y_true, pred_full)\n",
    "    rmse_red   = np.sqrt(mean_squared_error(y_true, pred_red))\n",
    "    mae_red    = mean_absolute_error(y_true, pred_red)\n",
    "\n",
    "    # Ergebnisse speichern\n",
    "    results.append({\n",
    "        'Train':         f\"{start_year}-{start_year+train_years-1}\",\n",
    "        'Test':          f\"{start_year+train_years}-{start_year+train_years+test_years-1}\",\n",
    "        'RMSE Full':     rmse_full,\n",
    "        'MAE Full':      mae_full,\n",
    "        'RMSE Reduced':  rmse_red,\n",
    "        'MAE Reduced':   mae_red\n",
    "    })\n",
    "\n",
    "# Alle Ergebnisse in einem DataFrame darstellen\n",
    "results_df = pd.DataFrame(results)\n",
    "print(results_df)"
   ],
   "id": "4fa5c2cbb7a056ff",
   "outputs": [
    {
     "name": "stdout",
     "output_type": "stream",
     "text": [
      "       Train       Test  RMSE Full   MAE Full  RMSE Reduced  MAE Reduced\n",
      "0  2015-2015  2016-2016  20.372338  18.362191     12.677663    10.558446\n",
      "1  2016-2016  2017-2017   6.364936   5.171994      6.410586     5.212959\n",
      "2  2017-2017  2018-2018   6.841477   5.390348      6.397805     4.949328\n"
     ]
    }
   ],
   "execution_count": 45
  },
  {
   "metadata": {
    "ExecuteTime": {
     "end_time": "2025-07-27T13:06:38.486071Z",
     "start_time": "2025-07-27T12:49:33.645811Z"
    }
   },
   "cell_type": "code",
   "source": [
    "# Parameter für Rolling-Splits\n",
    "train_years = 2\n",
    "test_years = 2\n",
    "\n",
    "# Bestimme mögliche Startjahre für Splits basierend auf dem Index von df\n",
    "years = sorted(df.index.year.unique())\n",
    "min_year = years[0]\n",
    "max_year = years[-1]\n",
    "split_starts = range(min_year, max_year - train_years - test_years + 2)\n",
    "\n",
    "results = []\n",
    "\n",
    "for start_year in split_starts:\n",
    "    # Trainingszeitraum: 1.1.start_year 06:00 bis 31.12.(start_year+train_years-1) 23:00\n",
    "    train_start = pd.Timestamp(f\"{start_year}-01-01 06:00:00\")\n",
    "    train_end   = pd.Timestamp(f\"{start_year+train_years-1}-12-31 23:00:00\")\n",
    "    # Testzeitraum direkt danach für test_years Jahre\n",
    "    test_start  = train_end + pd.Timedelta(hours=1)\n",
    "    test_end    = pd.Timestamp(f\"{start_year+train_years+test_years-1}-12-31 23:00:00\")\n",
    "\n",
    "    train = df.loc[train_start:train_end]\n",
    "    test  = df.loc[test_start:test_end]\n",
    "\n",
    "    # Full Model fitten\n",
    "    model_full = SARIMAX(\n",
    "        train['consumption'],\n",
    "        exog=train[features_full],\n",
    "        order=(1,0,2),\n",
    "        seasonal_order=(1,0,1,24),\n",
    "        enforce_stationarity=True,\n",
    "        enforce_invertibility=True\n",
    "    )\n",
    "    res_full = model_full.fit(disp=False, method='powell', maxiter=300)\n",
    "\n",
    "    # Reduced Model fitten\n",
    "    model_red = SARIMAX(\n",
    "        train['consumption'],\n",
    "        exog=train[features_red],\n",
    "        order=(1,0,2),\n",
    "        seasonal_order=(1,0,1,24),\n",
    "        enforce_stationarity=True,\n",
    "        enforce_invertibility=True\n",
    "    )\n",
    "    res_red = model_red.fit(disp=False, method='powell', maxiter=300)\n",
    "\n",
    "    # Forecast für den Test-Zeitraum\n",
    "    n_test    = len(test)\n",
    "    pred_full = res_full.get_forecast(steps=n_test, exog=test[features_full]).predicted_mean\n",
    "    pred_red  = res_red.get_forecast( steps=n_test, exog=test[features_red]).predicted_mean\n",
    "\n",
    "    # Fehlermaße berechnen\n",
    "    y_true     = test['consumption']\n",
    "    rmse_full  = np.sqrt(mean_squared_error(y_true, pred_full))\n",
    "    mae_full   = mean_absolute_error(y_true, pred_full)\n",
    "    rmse_red   = np.sqrt(mean_squared_error(y_true, pred_red))\n",
    "    mae_red    = mean_absolute_error(y_true, pred_red)\n",
    "\n",
    "    # Ergebnisse speichern\n",
    "    results.append({\n",
    "        'Train':         f\"{start_year}-{start_year+train_years-1}\",\n",
    "        'Test':          f\"{start_year+train_years}-{start_year+train_years+test_years-1}\",\n",
    "        'RMSE Full':     rmse_full,\n",
    "        'MAE Full':      mae_full,\n",
    "        'RMSE Reduced':  rmse_red,\n",
    "        'MAE Reduced':   mae_red\n",
    "    })\n",
    "\n",
    "# Alle Ergebnisse in einem DataFrame darstellen\n",
    "results_df = pd.DataFrame(results)\n",
    "print(results_df)"
   ],
   "id": "d35a0bafb6a35eb1",
   "outputs": [
    {
     "name": "stdout",
     "output_type": "stream",
     "text": [
      "       Train       Test  RMSE Full  MAE Full  RMSE Reduced  MAE Reduced\n",
      "0  2015-2016  2017-2018   6.979007  5.456752      9.389449     7.332907\n"
     ]
    }
   ],
   "execution_count": 46
  },
  {
   "metadata": {
    "ExecuteTime": {
     "end_time": "2025-07-27T13:20:10.419404Z",
     "start_time": "2025-07-27T13:06:38.581256Z"
    }
   },
   "cell_type": "code",
   "source": [
    "# Parameter für Rolling-Splits\n",
    "train_years = 3\n",
    "test_years = 1\n",
    "\n",
    "# Bestimme mögliche Startjahre für Splits basierend auf dem Index von df\n",
    "years = sorted(df.index.year.unique())\n",
    "min_year = years[0]\n",
    "max_year = years[-1]\n",
    "split_starts = range(min_year, max_year - train_years - test_years + 2)\n",
    "\n",
    "results = []\n",
    "\n",
    "for start_year in split_starts:\n",
    "    # Trainingszeitraum: 1.1.start_year 06:00 bis 31.12.(start_year+train_years-1) 23:00\n",
    "    train_start = pd.Timestamp(f\"{start_year}-01-01 06:00:00\")\n",
    "    train_end   = pd.Timestamp(f\"{start_year+train_years-1}-12-31 23:00:00\")\n",
    "    # Testzeitraum direkt danach für test_years Jahre\n",
    "    test_start  = train_end + pd.Timedelta(hours=1)\n",
    "    test_end    = pd.Timestamp(f\"{start_year+train_years+test_years-1}-12-31 23:00:00\")\n",
    "\n",
    "    train = df.loc[train_start:train_end]\n",
    "    test  = df.loc[test_start:test_end]\n",
    "\n",
    "    # Full Model fitten\n",
    "    model_full = SARIMAX(\n",
    "        train['consumption'],\n",
    "        exog=train[features_full],\n",
    "        order=(1,0,2),\n",
    "        seasonal_order=(1,0,1,24),\n",
    "        enforce_stationarity=True,\n",
    "        enforce_invertibility=True\n",
    "    )\n",
    "    res_full = model_full.fit(disp=False, method='powell', maxiter=300)\n",
    "\n",
    "    # Reduced Model fitten\n",
    "    model_red = SARIMAX(\n",
    "        train['consumption'],\n",
    "        exog=train[features_red],\n",
    "        order=(1,0,2),\n",
    "        seasonal_order=(1,0,1,24),\n",
    "        enforce_stationarity=True,\n",
    "        enforce_invertibility=True\n",
    "    )\n",
    "    res_red = model_red.fit(disp=False, method='powell', maxiter=300)\n",
    "\n",
    "    # Forecast für den Test-Zeitraum\n",
    "    n_test    = len(test)\n",
    "    pred_full = res_full.get_forecast(steps=n_test, exog=test[features_full]).predicted_mean\n",
    "    pred_red  = res_red.get_forecast( steps=n_test, exog=test[features_red]).predicted_mean\n",
    "\n",
    "    # Fehlermaße berechnen\n",
    "    y_true     = test['consumption']\n",
    "    rmse_full  = np.sqrt(mean_squared_error(y_true, pred_full))\n",
    "    mae_full   = mean_absolute_error(y_true, pred_full)\n",
    "    rmse_red   = np.sqrt(mean_squared_error(y_true, pred_red))\n",
    "    mae_red    = mean_absolute_error(y_true, pred_red)\n",
    "\n",
    "    # Ergebnisse speichern\n",
    "    results.append({\n",
    "        'Train':         f\"{start_year}-{start_year+train_years-1}\",\n",
    "        'Test':          f\"{start_year+train_years}-{start_year+train_years+test_years-1}\",\n",
    "        'RMSE Full':     rmse_full,\n",
    "        'MAE Full':      mae_full,\n",
    "        'RMSE Reduced':  rmse_red,\n",
    "        'MAE Reduced':   mae_red\n",
    "    })\n",
    "\n",
    "# Alle Ergebnisse in einem DataFrame darstellen\n",
    "results_df = pd.DataFrame(results)\n",
    "print(results_df)"
   ],
   "id": "77d1e23e3b828dff",
   "outputs": [
    {
     "name": "stdout",
     "output_type": "stream",
     "text": [
      "       Train       Test  RMSE Full  MAE Full  RMSE Reduced  MAE Reduced\n",
      "0  2015-2017  2018-2018   6.188071  4.784134      6.096505      4.73207\n"
     ]
    }
   ],
   "execution_count": 47
  },
  {
   "metadata": {
    "ExecuteTime": {
     "end_time": "2025-08-01T12:48:17.616963Z",
     "start_time": "2025-08-01T12:48:17.601169Z"
    }
   },
   "cell_type": "code",
   "source": [
    "#ToDo: Sarima testen\n",
    "# AR Model testen\n",
    "\n",
    "#Mail schreiben mit Punkten:\n",
    "# Wichtige Zeitreihen identifizieren\n",
    "# Stationarität nochmal überprüfen - done\n",
    "# Modelle vereinfachen\n",
    "# Sarima testen -done\n",
    "# AR Model testen - done\n",
    "# Nächster Termin Ende August ausmachen\n",
    "\n",
    "#"
   ],
   "id": "2bc90971ff719894",
   "outputs": [],
   "execution_count": 1
  },
  {
   "metadata": {
    "ExecuteTime": {
     "end_time": "2025-08-01T12:48:38.172748Z",
     "start_time": "2025-08-01T12:48:38.156939Z"
    }
   },
   "cell_type": "code",
   "source": "from statsmodels.tsa.statespace.sarimax import SARIMAX",
   "id": "7e8cea0c4a579e1c",
   "outputs": [],
   "execution_count": 5
  },
  {
   "metadata": {
    "ExecuteTime": {
     "end_time": "2025-08-01T12:49:14.028830Z",
     "start_time": "2025-08-01T12:49:13.999026Z"
    }
   },
   "cell_type": "code",
   "source": [
    "train = df.loc[:'2017-12-31']\n",
    "test  = df.loc['2018-01-01':]\n",
    "n_test = len(test)\n",
    "y_true = test['consumption']"
   ],
   "id": "5ba10ea5d4c9a2e7",
   "outputs": [],
   "execution_count": 6
  },
  {
   "metadata": {
    "ExecuteTime": {
     "end_time": "2025-08-01T12:50:59.535676Z",
     "start_time": "2025-08-01T12:49:43.339762Z"
    }
   },
   "cell_type": "code",
   "source": [
    "# 3. SARIMA (ohne Exogene)\n",
    "sarima_mod = SARIMAX(\n",
    "    train['consumption'],\n",
    "    order=(1,0,2),\n",
    "    seasonal_order=(1,0,1,24),\n",
    "    enforce_stationarity=True,\n",
    "    enforce_invertibility=True\n",
    ")\n",
    "res_sarima = sarima_mod.fit(disp=False, method='powell', maxiter=300)\n",
    "pred_sarima = res_sarima.get_forecast(steps=n_test).predicted_mean"
   ],
   "id": "5be7705f0b1b089e",
   "outputs": [],
   "execution_count": 7
  },
  {
   "metadata": {
    "ExecuteTime": {
     "end_time": "2025-08-01T12:51:00.065867Z",
     "start_time": "2025-08-01T12:50:59.691942Z"
    }
   },
   "cell_type": "code",
   "source": [
    "# 4. AR Model (AutoReg mit Lag 24)\n",
    "from statsmodels.tsa.ar_model import AutoReg\n",
    "ar_mod = AutoReg(train['consumption'], lags=24)\n",
    "res_ar = ar_mod.fit()\n",
    "pred_ar = res_ar.predict(start=test.index[0], end=test.index[-1], dynamic=False)\n"
   ],
   "id": "1ccadc6d2094865",
   "outputs": [],
   "execution_count": 8
  },
  {
   "metadata": {
    "ExecuteTime": {
     "end_time": "2025-08-01T13:03:52.706089Z",
     "start_time": "2025-08-01T12:53:32.435855Z"
    }
   },
   "cell_type": "code",
   "source": [
    "features_full = ['hour', 'weekday', 'month', 'is_weekend',\n",
    "                 'w_tl','w_rf','w_ff','w_ffx','w_cglo',\n",
    "                 'w_so_h','w_rr','w_rrm','w_tb10','w_tb20',\n",
    "                 'CEGH_WAP','THE_WAP']\n",
    "\n",
    "model_full = SARIMAX(\n",
    "    train['consumption'],\n",
    "    exog=train[features_full],\n",
    "    order=(1,0,2),\n",
    "    seasonal_order=(1,0,1,24),\n",
    "    enforce_stationarity=True,\n",
    "    enforce_invertibility=True\n",
    ")\n",
    "res_full = model_full.fit(disp=False, method='powell', maxiter=300)\n",
    "pred_full = res_full.get_forecast(steps=n_test, exog=test[features_full]).predicted_mean"
   ],
   "id": "e555e7781e4c9014",
   "outputs": [],
   "execution_count": 10
  },
  {
   "metadata": {
    "ExecuteTime": {
     "end_time": "2025-08-01T13:04:25.716208Z",
     "start_time": "2025-08-01T13:04:25.279101Z"
    }
   },
   "cell_type": "code",
   "source": [
    "from sklearn.metrics import mean_squared_error, mean_absolute_error\n",
    "\n",
    "def calc_metrics(y, y_hat):\n",
    "    rmse = np.sqrt(mean_squared_error(y, y_hat))\n",
    "    mae  = mean_absolute_error(y, y_hat)\n",
    "    return rmse, mae\n",
    "\n",
    "rmse_full, mae_full       = calc_metrics(y_true, pred_full)\n",
    "rmse_sarima, mae_sarima   = calc_metrics(y_true, pred_sarima)\n",
    "rmse_ar, mae_ar           = calc_metrics(y_true, pred_ar)\n",
    "\n",
    "# 6) Ergebnisse in einem DataFrame\n",
    "comparison = pd.DataFrame({\n",
    "    'Model':    ['SARIMAX', 'SARIMA', 'AR(24)'],\n",
    "    'RMSE':     [rmse_full, rmse_sarima, rmse_ar],\n",
    "    'MAE':      [mae_full, mae_sarima, mae_ar]\n",
    "})\n",
    "\n",
    "print(comparison)"
   ],
   "id": "aea46fd516e81e83",
   "outputs": [
    {
     "name": "stdout",
     "output_type": "stream",
     "text": [
      "     Model       RMSE        MAE\n",
      "0  SARIMAX   6.188071   4.784134\n",
      "1   SARIMA  15.053245  12.916670\n",
      "2   AR(24)  13.840938  12.292392\n"
     ]
    }
   ],
   "execution_count": 13
  },
  {
   "metadata": {
    "ExecuteTime": {
     "end_time": "2025-08-01T13:44:33.583553Z",
     "start_time": "2025-08-01T13:33:11.922350Z"
    }
   },
   "cell_type": "code",
   "source": [
    "import time\n",
    "import pandas as pd\n",
    "import numpy as np\n",
    "from statsmodels.tsa.statespace.sarimax import SARIMAX\n",
    "from statsmodels.tsa.ar_model import AutoReg\n",
    "from sklearn.metrics import mean_squared_error, mean_absolute_error\n",
    "\n",
    "# Train/Test Split\n",
    "train = df.loc[:'2017-12-31']\n",
    "test  = df.loc['2018-01-01':]\n",
    "n_test = len(test)\n",
    "y_true = test['consumption']\n",
    "\n",
    "# Funktion für Fehler\n",
    "def calc_metrics(y, y_hat):\n",
    "    rmse = np.sqrt(mean_squared_error(y, y_hat))\n",
    "    mae  = mean_absolute_error(y, y_hat)\n",
    "    return rmse, mae\n",
    "\n",
    "# Platz für Ergebnisse\n",
    "results = []\n",
    "\n",
    "# 1) SARIMAX (mit Exogenen)\n",
    "t0 = time.perf_counter()\n",
    "mod = SARIMAX(train['consumption'],\n",
    "              exog=train[features_full],\n",
    "              order=(1,0,2), seasonal_order=(1,0,1,24),\n",
    "              enforce_stationarity=True, enforce_invertibility=True)\n",
    "res = mod.fit(disp=False, method='powell', maxiter=300)\n",
    "t1 = time.perf_counter()\n",
    "pred_start = time.perf_counter()\n",
    "yhat = res.get_forecast(steps=n_test, exog=test[features_full]).predicted_mean\n",
    "t2 = time.perf_counter()\n",
    "rmse, mae = calc_metrics(y_true, yhat)\n",
    "results.append({\n",
    "    'Model': 'SARIMAX',\n",
    "    'RMSE': rmse, 'MAE': mae,\n",
    "    'Train Time (s)': t1-t0,\n",
    "    'Forecast Time (s)': t2-t1\n",
    "})\n",
    "\n",
    "# 2) SARIMA (ohne Exogene)\n",
    "t0 = time.perf_counter()\n",
    "mod = SARIMAX(train['consumption'],\n",
    "              order=(1,0,2), seasonal_order=(1,0,1,24),\n",
    "              enforce_stationarity=True, enforce_invertibility=True)\n",
    "res = mod.fit(disp=False, method='powell', maxiter=300)\n",
    "t1 = time.perf_counter()\n",
    "pred_start = time.perf_counter()\n",
    "yhat = res.get_forecast(steps=n_test).predicted_mean\n",
    "t2 = time.perf_counter()\n",
    "rmse, mae = calc_metrics(y_true, yhat)\n",
    "results.append({\n",
    "    'Model': 'SARIMA',\n",
    "    'RMSE': rmse, 'MAE': mae,\n",
    "    'Train Time (s)': t1-t0,\n",
    "    'Forecast Time (s)': t2-t1\n",
    "})\n",
    "\n",
    "# 3) AR(24)\n",
    "t0 = time.perf_counter()\n",
    "mod = AutoReg(train['consumption'], lags=24).fit()\n",
    "t1 = time.perf_counter()\n",
    "pred_start = time.perf_counter()\n",
    "yhat = mod.predict(start=test.index[0], end=test.index[-1], dynamic=False)\n",
    "t2 = time.perf_counter()\n",
    "rmse, mae = calc_metrics(y_true, yhat)\n",
    "results.append({\n",
    "    'Model': 'AR(24)',\n",
    "    'RMSE': rmse, 'MAE': mae,\n",
    "    'Train Time (s)': t1-t0,\n",
    "    'Forecast Time (s)': t2-t1\n",
    "})\n",
    "\n",
    "# 4) DataFrame anzeigen\n",
    "cmp = pd.DataFrame(results)\n",
    "print(cmp)"
   ],
   "id": "9449a77debdd1ccf",
   "outputs": [
    {
     "name": "stdout",
     "output_type": "stream",
     "text": [
      "     Model       RMSE        MAE  Train Time (s)  Forecast Time (s)\n",
      "0  SARIMAX   6.188071   4.784134      601.633020           0.375144\n",
      "1   SARIMA  15.053245  12.916670       78.670456           0.236082\n",
      "2   AR(24)  13.840938  12.292392        0.057305           0.281760\n"
     ]
    }
   ],
   "execution_count": 14
  },
  {
   "metadata": {
    "ExecuteTime": {
     "end_time": "2025-08-01T13:44:34.187418Z",
     "start_time": "2025-08-01T13:44:33.739680Z"
    }
   },
   "cell_type": "code",
   "source": [
    "models = cmp['Model']\n",
    "x = np.arange(len(models))\n",
    "width = 0.35\n",
    "\n",
    "# 5) Plot 1: Fehlermetriken\n",
    "plt.figure()\n",
    "plt.bar(x - width/2, cmp['RMSE'], width)\n",
    "plt.bar(x + width/2, cmp['MAE'], width)\n",
    "plt.xticks(x, models)\n",
    "plt.ylabel('Fehler (Einheiten)')\n",
    "plt.title('Vergleich RMSE vs MAE')\n",
    "plt.legend(['RMSE','MAE'])\n",
    "plt.tight_layout()\n",
    "plt.show()\n",
    "\n",
    "# 6) Plot 2: Laufzeiten\n",
    "plt.figure()\n",
    "plt.bar(x - width/2, cmp['Train Time (s)'], width)\n",
    "plt.bar(x + width/2, cmp['Forecast Time (s)'], width)\n",
    "plt.xticks(x, models)\n",
    "plt.ylabel('Zeit (Sekunden)')\n",
    "plt.title('Trainings- und Vorhersagedauer')\n",
    "plt.legend(['Train Time','Forecast Time'])\n",
    "plt.tight_layout()\n",
    "plt.show()"
   ],
   "id": "54471e2d11a2b6b8",
   "outputs": [
    {
     "data": {
      "text/plain": [
       "<Figure size 640x480 with 1 Axes>"
      ],
      "image/png": "[encoded data removed]"
     },
     "metadata": {},
     "output_type": "display_data"
    },
    {
     "data": {
      "text/plain": [
       "<Figure size 640x480 with 1 Axes>"
      ],
      "image/png": "[encoded data removed]"
     },
     "metadata": {},
     "output_type": "display_data"
    }
   ],
   "execution_count": 15
  },
  {
   "metadata": {},
   "cell_type": "code",
   "outputs": [],
   "execution_count": null,
   "source": "",
   "id": "22e70c8134e4a0c4"
  }
 ],
 "metadata": {
  "kernelspec": {
   "display_name": "Python 3",
   "language": "python",
   "name": "python3"
  },
  "language_info": {
   "codemirror_mode": {
    "name": "ipython",
    "version": 2
   },
   "file_extension": ".py",
   "mimetype": "text/x-python",
   "name": "python",
   "nbconvert_exporter": "python",
   "pygments_lexer": "ipython2",
   "version": "2.7.6"
  }
 },
 "nbformat": 4,
 "nbformat_minor": 5
}
