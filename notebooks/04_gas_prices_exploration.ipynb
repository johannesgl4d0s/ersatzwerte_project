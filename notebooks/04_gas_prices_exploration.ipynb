{
 "cells": [
  {
   "cell_type": "code",
   "id": "initial_id",
   "metadata": {
    "collapsed": true,
    "ExecuteTime": {
     "end_time": "2025-06-20T14:12:20.938934Z",
     "start_time": "2025-06-20T14:12:20.924879Z"
    }
   },
   "source": [
    "import pandas as pd\n",
    "from utils import load_series_dfs"
   ],
   "outputs": [],
   "execution_count": 5
  },
  {
   "metadata": {
    "ExecuteTime": {
     "end_time": "2025-06-20T14:10:01.155970Z",
     "start_time": "2025-06-20T14:09:56.491582Z"
    }
   },
   "cell_type": "code",
   "source": [
    "df = pd.read_excel('../data/gas_price.xlsx')\n",
    "\n",
    "df.head()"
   ],
   "id": "127a3db294beedd6",
   "outputs": [
    {
     "data": {
      "text/plain": [
       "                Datum  CEGHIX  TRP NCG\n",
       "0 2015-01-01 06:00:00   23.61     21.5\n",
       "1 2015-01-01 07:00:00   23.61     21.5\n",
       "2 2015-01-01 08:00:00   23.61     21.5\n",
       "3 2015-01-01 09:00:00   23.61     21.5\n",
       "4 2015-01-01 10:00:00   23.61     21.5"
      ],
      "text/html": [
       "<div>\n",
       "<style scoped>\n",
       "    .dataframe tbody tr th:only-of-type {\n",
       "        vertical-align: middle;\n",
       "    }\n",
       "\n",
       "    .dataframe tbody tr th {\n",
       "        vertical-align: top;\n",
       "    }\n",
       "\n",
       "    .dataframe thead th {\n",
       "        text-align: right;\n",
       "    }\n",
       "</style>\n",
       "<table border=\"1\" class=\"dataframe\">\n",
       "  <thead>\n",
       "    <tr style=\"text-align: right;\">\n",
       "      <th></th>\n",
       "      <th>Datum</th>\n",
       "      <th>CEGHIX</th>\n",
       "      <th>TRP NCG</th>\n",
       "    </tr>\n",
       "  </thead>\n",
       "  <tbody>\n",
       "    <tr>\n",
       "      <th>0</th>\n",
       "      <td>2015-01-01 06:00:00</td>\n",
       "      <td>23.61</td>\n",
       "      <td>21.5</td>\n",
       "    </tr>\n",
       "    <tr>\n",
       "      <th>1</th>\n",
       "      <td>2015-01-01 07:00:00</td>\n",
       "      <td>23.61</td>\n",
       "      <td>21.5</td>\n",
       "    </tr>\n",
       "    <tr>\n",
       "      <th>2</th>\n",
       "      <td>2015-01-01 08:00:00</td>\n",
       "      <td>23.61</td>\n",
       "      <td>21.5</td>\n",
       "    </tr>\n",
       "    <tr>\n",
       "      <th>3</th>\n",
       "      <td>2015-01-01 09:00:00</td>\n",
       "      <td>23.61</td>\n",
       "      <td>21.5</td>\n",
       "    </tr>\n",
       "    <tr>\n",
       "      <th>4</th>\n",
       "      <td>2015-01-01 10:00:00</td>\n",
       "      <td>23.61</td>\n",
       "      <td>21.5</td>\n",
       "    </tr>\n",
       "  </tbody>\n",
       "</table>\n",
       "</div>"
      ]
     },
     "execution_count": 4,
     "metadata": {},
     "output_type": "execute_result"
    }
   ],
   "execution_count": 4
  },
  {
   "metadata": {
    "ExecuteTime": {
     "end_time": "2025-06-20T14:38:06.104605Z",
     "start_time": "2025-06-20T14:38:05.940013Z"
    }
   },
   "cell_type": "code",
   "source": [
    "series_dfs = load_series_dfs(data_dir=r\"C:\\Users\\johan\\Documents\\FH_Master\\data\", filename=\"energy_with_weather.pkl\")\n",
    "series_dfs['FL_00024702.PLAN.MengeHH']"
   ],
   "id": "f0b66a75af5b85d6",
   "outputs": [
    {
     "data": {
      "text/plain": [
       "                     consumption  hour  weekday  month  is_weekend  w_tl  \\\n",
       "von  | von                                                                 \n",
       "2014-01-01 06:00:00        1.472     6        2      1           0   2.1   \n",
       "2014-01-01 07:00:00        1.517     7        2      1           0   2.1   \n",
       "2014-01-01 08:00:00        1.472     8        2      1           0   2.2   \n",
       "2014-01-01 09:00:00        1.517     9        2      1           0   2.2   \n",
       "2014-01-01 10:00:00        1.495    10        2      1           0   2.7   \n",
       "...                          ...   ...      ...    ...         ...   ...   \n",
       "2018-12-31 19:00:00       32.223    19        0     12           0   3.9   \n",
       "2018-12-31 20:00:00       29.348    20        0     12           0   3.9   \n",
       "2018-12-31 21:00:00       24.727    21        0     12           0   3.9   \n",
       "2018-12-31 22:00:00       17.483    22        0     12           0   4.1   \n",
       "2018-12-31 23:00:00       15.874    23        0     12           0   4.0   \n",
       "\n",
       "                     w_rf  w_ff  w_ffx  w_cglo  w_so_h  w_rr  w_rrm  w_tb10  \\\n",
       "von  | von                                                                    \n",
       "2014-01-01 06:00:00  88.0   1.0    3.0     0.0     0.0   0.0    0.0     3.3   \n",
       "2014-01-01 07:00:00  88.0   1.0    3.0     0.0     0.0   0.0    0.0     3.3   \n",
       "2014-01-01 08:00:00  87.0   1.1    3.1    13.0     0.0   0.0    0.0     3.3   \n",
       "2014-01-01 09:00:00  84.0   1.4    4.0    63.0     0.0   0.0    0.0     3.3   \n",
       "2014-01-01 10:00:00  79.0   1.2    3.7   144.0     0.3   0.0    0.0     3.3   \n",
       "...                   ...   ...    ...     ...     ...   ...    ...     ...   \n",
       "2018-12-31 19:00:00  95.0   0.6    3.2     0.0     0.0   0.0    0.0     4.0   \n",
       "2018-12-31 20:00:00  96.0   0.3    3.4     0.0     0.0   0.0    0.0     4.0   \n",
       "2018-12-31 21:00:00  96.0   0.5    2.6     0.0     0.0   0.0    2.0     4.0   \n",
       "2018-12-31 22:00:00  96.0   0.6    3.1     0.0     0.0   0.0    2.0     4.0   \n",
       "2018-12-31 23:00:00  97.0   0.5    2.3     0.0     0.0   0.0    0.0     4.0   \n",
       "\n",
       "                     w_tb20  \n",
       "von  | von                   \n",
       "2014-01-01 06:00:00     3.3  \n",
       "2014-01-01 07:00:00     3.3  \n",
       "2014-01-01 08:00:00     3.3  \n",
       "2014-01-01 09:00:00     3.3  \n",
       "2014-01-01 10:00:00     3.3  \n",
       "...                     ...  \n",
       "2018-12-31 19:00:00     3.3  \n",
       "2018-12-31 20:00:00     3.3  \n",
       "2018-12-31 21:00:00     3.3  \n",
       "2018-12-31 22:00:00     3.3  \n",
       "2018-12-31 23:00:00     3.3  \n",
       "\n",
       "[43888 rows x 15 columns]"
      ],
      "text/html": [
       "<div>\n",
       "<style scoped>\n",
       "    .dataframe tbody tr th:only-of-type {\n",
       "        vertical-align: middle;\n",
       "    }\n",
       "\n",
       "    .dataframe tbody tr th {\n",
       "        vertical-align: top;\n",
       "    }\n",
       "\n",
       "    .dataframe thead th {\n",
       "        text-align: right;\n",
       "    }\n",
       "</style>\n",
       "<table border=\"1\" class=\"dataframe\">\n",
       "  <thead>\n",
       "    <tr style=\"text-align: right;\">\n",
       "      <th></th>\n",
       "      <th>consumption</th>\n",
       "      <th>hour</th>\n",
       "      <th>weekday</th>\n",
       "      <th>month</th>\n",
       "      <th>is_weekend</th>\n",
       "      <th>w_tl</th>\n",
       "      <th>w_rf</th>\n",
       "      <th>w_ff</th>\n",
       "      <th>w_ffx</th>\n",
       "      <th>w_cglo</th>\n",
       "      <th>w_so_h</th>\n",
       "      <th>w_rr</th>\n",
       "      <th>w_rrm</th>\n",
       "      <th>w_tb10</th>\n",
       "      <th>w_tb20</th>\n",
       "    </tr>\n",
       "    <tr>\n",
       "      <th>von  | von</th>\n",
       "      <th></th>\n",
       "      <th></th>\n",
       "      <th></th>\n",
       "      <th></th>\n",
       "      <th></th>\n",
       "      <th></th>\n",
       "      <th></th>\n",
       "      <th></th>\n",
       "      <th></th>\n",
       "      <th></th>\n",
       "      <th></th>\n",
       "      <th></th>\n",
       "      <th></th>\n",
       "      <th></th>\n",
       "      <th></th>\n",
       "    </tr>\n",
       "  </thead>\n",
       "  <tbody>\n",
       "    <tr>\n",
       "      <th>2014-01-01 06:00:00</th>\n",
       "      <td>1.472</td>\n",
       "      <td>6</td>\n",
       "      <td>2</td>\n",
       "      <td>1</td>\n",
       "      <td>0</td>\n",
       "      <td>2.1</td>\n",
       "      <td>88.0</td>\n",
       "      <td>1.0</td>\n",
       "      <td>3.0</td>\n",
       "      <td>0.0</td>\n",
       "      <td>0.0</td>\n",
       "      <td>0.0</td>\n",
       "      <td>0.0</td>\n",
       "      <td>3.3</td>\n",
       "      <td>3.3</td>\n",
       "    </tr>\n",
       "    <tr>\n",
       "      <th>2014-01-01 07:00:00</th>\n",
       "      <td>1.517</td>\n",
       "      <td>7</td>\n",
       "      <td>2</td>\n",
       "      <td>1</td>\n",
       "      <td>0</td>\n",
       "      <td>2.1</td>\n",
       "      <td>88.0</td>\n",
       "      <td>1.0</td>\n",
       "      <td>3.0</td>\n",
       "      <td>0.0</td>\n",
       "      <td>0.0</td>\n",
       "      <td>0.0</td>\n",
       "      <td>0.0</td>\n",
       "      <td>3.3</td>\n",
       "      <td>3.3</td>\n",
       "    </tr>\n",
       "    <tr>\n",
       "      <th>2014-01-01 08:00:00</th>\n",
       "      <td>1.472</td>\n",
       "      <td>8</td>\n",
       "      <td>2</td>\n",
       "      <td>1</td>\n",
       "      <td>0</td>\n",
       "      <td>2.2</td>\n",
       "      <td>87.0</td>\n",
       "      <td>1.1</td>\n",
       "      <td>3.1</td>\n",
       "      <td>13.0</td>\n",
       "      <td>0.0</td>\n",
       "      <td>0.0</td>\n",
       "      <td>0.0</td>\n",
       "      <td>3.3</td>\n",
       "      <td>3.3</td>\n",
       "    </tr>\n",
       "    <tr>\n",
       "      <th>2014-01-01 09:00:00</th>\n",
       "      <td>1.517</td>\n",
       "      <td>9</td>\n",
       "      <td>2</td>\n",
       "      <td>1</td>\n",
       "      <td>0</td>\n",
       "      <td>2.2</td>\n",
       "      <td>84.0</td>\n",
       "      <td>1.4</td>\n",
       "      <td>4.0</td>\n",
       "      <td>63.0</td>\n",
       "      <td>0.0</td>\n",
       "      <td>0.0</td>\n",
       "      <td>0.0</td>\n",
       "      <td>3.3</td>\n",
       "      <td>3.3</td>\n",
       "    </tr>\n",
       "    <tr>\n",
       "      <th>2014-01-01 10:00:00</th>\n",
       "      <td>1.495</td>\n",
       "      <td>10</td>\n",
       "      <td>2</td>\n",
       "      <td>1</td>\n",
       "      <td>0</td>\n",
       "      <td>2.7</td>\n",
       "      <td>79.0</td>\n",
       "      <td>1.2</td>\n",
       "      <td>3.7</td>\n",
       "      <td>144.0</td>\n",
       "      <td>0.3</td>\n",
       "      <td>0.0</td>\n",
       "      <td>0.0</td>\n",
       "      <td>3.3</td>\n",
       "      <td>3.3</td>\n",
       "    </tr>\n",
       "    <tr>\n",
       "      <th>...</th>\n",
       "      <td>...</td>\n",
       "      <td>...</td>\n",
       "      <td>...</td>\n",
       "      <td>...</td>\n",
       "      <td>...</td>\n",
       "      <td>...</td>\n",
       "      <td>...</td>\n",
       "      <td>...</td>\n",
       "      <td>...</td>\n",
       "      <td>...</td>\n",
       "      <td>...</td>\n",
       "      <td>...</td>\n",
       "      <td>...</td>\n",
       "      <td>...</td>\n",
       "      <td>...</td>\n",
       "    </tr>\n",
       "    <tr>\n",
       "      <th>2018-12-31 19:00:00</th>\n",
       "      <td>32.223</td>\n",
       "      <td>19</td>\n",
       "      <td>0</td>\n",
       "      <td>12</td>\n",
       "      <td>0</td>\n",
       "      <td>3.9</td>\n",
       "      <td>95.0</td>\n",
       "      <td>0.6</td>\n",
       "      <td>3.2</td>\n",
       "      <td>0.0</td>\n",
       "      <td>0.0</td>\n",
       "      <td>0.0</td>\n",
       "      <td>0.0</td>\n",
       "      <td>4.0</td>\n",
       "      <td>3.3</td>\n",
       "    </tr>\n",
       "    <tr>\n",
       "      <th>2018-12-31 20:00:00</th>\n",
       "      <td>29.348</td>\n",
       "      <td>20</td>\n",
       "      <td>0</td>\n",
       "      <td>12</td>\n",
       "      <td>0</td>\n",
       "      <td>3.9</td>\n",
       "      <td>96.0</td>\n",
       "      <td>0.3</td>\n",
       "      <td>3.4</td>\n",
       "      <td>0.0</td>\n",
       "      <td>0.0</td>\n",
       "      <td>0.0</td>\n",
       "      <td>0.0</td>\n",
       "      <td>4.0</td>\n",
       "      <td>3.3</td>\n",
       "    </tr>\n",
       "    <tr>\n",
       "      <th>2018-12-31 21:00:00</th>\n",
       "      <td>24.727</td>\n",
       "      <td>21</td>\n",
       "      <td>0</td>\n",
       "      <td>12</td>\n",
       "      <td>0</td>\n",
       "      <td>3.9</td>\n",
       "      <td>96.0</td>\n",
       "      <td>0.5</td>\n",
       "      <td>2.6</td>\n",
       "      <td>0.0</td>\n",
       "      <td>0.0</td>\n",
       "      <td>0.0</td>\n",
       "      <td>2.0</td>\n",
       "      <td>4.0</td>\n",
       "      <td>3.3</td>\n",
       "    </tr>\n",
       "    <tr>\n",
       "      <th>2018-12-31 22:00:00</th>\n",
       "      <td>17.483</td>\n",
       "      <td>22</td>\n",
       "      <td>0</td>\n",
       "      <td>12</td>\n",
       "      <td>0</td>\n",
       "      <td>4.1</td>\n",
       "      <td>96.0</td>\n",
       "      <td>0.6</td>\n",
       "      <td>3.1</td>\n",
       "      <td>0.0</td>\n",
       "      <td>0.0</td>\n",
       "      <td>0.0</td>\n",
       "      <td>2.0</td>\n",
       "      <td>4.0</td>\n",
       "      <td>3.3</td>\n",
       "    </tr>\n",
       "    <tr>\n",
       "      <th>2018-12-31 23:00:00</th>\n",
       "      <td>15.874</td>\n",
       "      <td>23</td>\n",
       "      <td>0</td>\n",
       "      <td>12</td>\n",
       "      <td>0</td>\n",
       "      <td>4.0</td>\n",
       "      <td>97.0</td>\n",
       "      <td>0.5</td>\n",
       "      <td>2.3</td>\n",
       "      <td>0.0</td>\n",
       "      <td>0.0</td>\n",
       "      <td>0.0</td>\n",
       "      <td>0.0</td>\n",
       "      <td>4.0</td>\n",
       "      <td>3.3</td>\n",
       "    </tr>\n",
       "  </tbody>\n",
       "</table>\n",
       "<p>43888 rows × 15 columns</p>\n",
       "</div>"
      ]
     },
     "execution_count": 31,
     "metadata": {},
     "output_type": "execute_result"
    }
   ],
   "execution_count": 31
  },
  {
   "metadata": {
    "ExecuteTime": {
     "end_time": "2025-06-20T14:17:16.627473Z",
     "start_time": "2025-06-20T14:17:16.617211Z"
    }
   },
   "cell_type": "code",
   "source": [
    "start, end = series_dfs['FL_00024702.PLAN.MengeHH'].index.min(), series_dfs['FL_00024702.PLAN.MengeHH'].index.max()\n",
    "start, end"
   ],
   "id": "e7f7850673245eea",
   "outputs": [
    {
     "data": {
      "text/plain": [
       "(Timestamp('2014-01-01 06:00:00'), Timestamp('2018-12-31 23:00:00'))"
      ]
     },
     "execution_count": 8,
     "metadata": {},
     "output_type": "execute_result"
    }
   ],
   "execution_count": 8
  },
  {
   "metadata": {
    "ExecuteTime": {
     "end_time": "2025-06-20T14:21:42.089793Z",
     "start_time": "2025-06-20T14:21:42.066729Z"
    }
   },
   "cell_type": "code",
   "source": [
    "# 1. Datumsspalte in datetime konvertieren\n",
    "df['Datum'] = pd.to_datetime(df['Datum'])\n",
    "\n",
    "# 2. Datumsspalte als Index setzen\n",
    "df = df.set_index('Datum')\n",
    "\n",
    "# 3. (Optional) Index sortieren, falls er nicht bereits chronologisch ist\n",
    "df = df.sort_index()\n",
    "\n",
    "# 4. Kontrolle\n",
    "df.head()"
   ],
   "id": "354a3bb5ca1849a7",
   "outputs": [
    {
     "data": {
      "text/plain": [
       "                     CEGHIX  TRP NCG\n",
       "Datum                               \n",
       "2015-01-01 06:00:00   23.61     21.5\n",
       "2015-01-01 07:00:00   23.61     21.5\n",
       "2015-01-01 08:00:00   23.61     21.5\n",
       "2015-01-01 09:00:00   23.61     21.5\n",
       "2015-01-01 10:00:00   23.61     21.5"
      ],
      "text/html": [
       "<div>\n",
       "<style scoped>\n",
       "    .dataframe tbody tr th:only-of-type {\n",
       "        vertical-align: middle;\n",
       "    }\n",
       "\n",
       "    .dataframe tbody tr th {\n",
       "        vertical-align: top;\n",
       "    }\n",
       "\n",
       "    .dataframe thead th {\n",
       "        text-align: right;\n",
       "    }\n",
       "</style>\n",
       "<table border=\"1\" class=\"dataframe\">\n",
       "  <thead>\n",
       "    <tr style=\"text-align: right;\">\n",
       "      <th></th>\n",
       "      <th>CEGHIX</th>\n",
       "      <th>TRP NCG</th>\n",
       "    </tr>\n",
       "    <tr>\n",
       "      <th>Datum</th>\n",
       "      <th></th>\n",
       "      <th></th>\n",
       "    </tr>\n",
       "  </thead>\n",
       "  <tbody>\n",
       "    <tr>\n",
       "      <th>2015-01-01 06:00:00</th>\n",
       "      <td>23.61</td>\n",
       "      <td>21.5</td>\n",
       "    </tr>\n",
       "    <tr>\n",
       "      <th>2015-01-01 07:00:00</th>\n",
       "      <td>23.61</td>\n",
       "      <td>21.5</td>\n",
       "    </tr>\n",
       "    <tr>\n",
       "      <th>2015-01-01 08:00:00</th>\n",
       "      <td>23.61</td>\n",
       "      <td>21.5</td>\n",
       "    </tr>\n",
       "    <tr>\n",
       "      <th>2015-01-01 09:00:00</th>\n",
       "      <td>23.61</td>\n",
       "      <td>21.5</td>\n",
       "    </tr>\n",
       "    <tr>\n",
       "      <th>2015-01-01 10:00:00</th>\n",
       "      <td>23.61</td>\n",
       "      <td>21.5</td>\n",
       "    </tr>\n",
       "  </tbody>\n",
       "</table>\n",
       "</div>"
      ]
     },
     "execution_count": 9,
     "metadata": {},
     "output_type": "execute_result"
    }
   ],
   "execution_count": 9
  },
  {
   "metadata": {
    "ExecuteTime": {
     "end_time": "2025-06-20T14:24:48.919202Z",
     "start_time": "2025-06-20T14:24:48.891280Z"
    }
   },
   "cell_type": "code",
   "source": "df = df.loc['2015-01-01 06:00:00':'2018-12-31 23:00:00']",
   "id": "fb0ba989ed08fad7",
   "outputs": [],
   "execution_count": 11
  },
  {
   "metadata": {
    "ExecuteTime": {
     "end_time": "2025-06-20T14:31:16.650875Z",
     "start_time": "2025-06-20T14:31:16.451763Z"
    }
   },
   "cell_type": "code",
   "source": [
    "import matplotlib.pyplot as plt\n",
    "\n",
    "# Verbrauch und Gaspreis im gleichen Plot\n",
    "fig, ax1 = plt.subplots(figsize=(12,4))\n",
    "ax1.plot(series_dfs['FL_00024702.PLAN.MengeHH']['consumption'], label='Consumption')\n",
    "ax2 = ax1.twinx()\n",
    "ax2.plot(df['CEGHIX'], color='orange', alpha=0.7, label='Gaspreis CEGHIX')\n",
    "ax2.plot(df['TRP NCG'], color='red', alpha=0.7, label='Gaspreis CEGHIX')\n",
    "ax1.set_ylabel('Verbrauch')\n",
    "ax2.set_ylabel('Gaspreis (€)')\n",
    "ax1.legend(loc='upper left')\n",
    "ax2.legend(loc='upper right')\n",
    "plt.show()"
   ],
   "id": "cd1d481046edbca8",
   "outputs": [
    {
     "data": {
      "text/plain": [
       "<Figure size 1200x400 with 2 Axes>"
      ],
      "image/png": "[encoded data removed]"
     },
     "metadata": {},
     "output_type": "display_data"
    }
   ],
   "execution_count": 26
  },
  {
   "metadata": {
    "ExecuteTime": {
     "end_time": "2025-06-20T14:29:22.429681Z",
     "start_time": "2025-06-20T14:29:22.353281Z"
    }
   },
   "cell_type": "code",
   "source": [
    "\n",
    "fig, ax = plt.subplots(figsize=(6, 4))\n",
    "# Beide Serien auf einmal boxplotten\n",
    "df[['CEGHIX', 'TRP NCG']].plot.box(ax=ax)\n",
    "ax.set_title('Gaspreise – Boxplot')\n",
    "ax.set_ylabel('Preis (€)')\n",
    "plt.show()"
   ],
   "id": "6d6820afb1abc547",
   "outputs": [
    {
     "data": {
      "text/plain": [
       "<Figure size 600x400 with 1 Axes>"
      ],
      "image/png": "[encoded data removed]"
     },
     "metadata": {},
     "output_type": "display_data"
    }
   ],
   "execution_count": 21
  },
  {
   "metadata": {
    "ExecuteTime": {
     "end_time": "2025-06-20T14:37:20.692394Z",
     "start_time": "2025-06-20T14:37:20.667883Z"
    }
   },
   "cell_type": "code",
   "source": [
    "start, end = df.index.min(), df.index.max()\n",
    "df.columns = ['CEGH_WAP', 'THE_WAP']\n",
    "start, end, df.head()"
   ],
   "id": "985b36a0790b5d19",
   "outputs": [
    {
     "data": {
      "text/plain": [
       "(Timestamp('2015-01-01 06:00:00'),\n",
       " Timestamp('2018-12-31 23:00:00'),\n",
       "                      CEGH_WAP  THE_WAP\n",
       " Datum                                 \n",
       " 2015-01-01 06:00:00     23.61     21.5\n",
       " 2015-01-01 07:00:00     23.61     21.5\n",
       " 2015-01-01 08:00:00     23.61     21.5\n",
       " 2015-01-01 09:00:00     23.61     21.5\n",
       " 2015-01-01 10:00:00     23.61     21.5)"
      ]
     },
     "execution_count": 29,
     "metadata": {},
     "output_type": "execute_result"
    }
   ],
   "execution_count": 29
  },
  {
   "metadata": {
    "ExecuteTime": {
     "end_time": "2025-06-20T14:38:10.846723Z",
     "start_time": "2025-06-20T14:38:10.361144Z"
    }
   },
   "cell_type": "code",
   "source": [
    "for key, df_cons in series_dfs.items():\n",
    "    # Verbrauchsdaten auf Gaspreis-Zeitraum begrenzen\n",
    "    df_trim = df_cons.loc[start:end]\n",
    "    # Gaspreise als neue Features hinzufügen (inner join auf Index)\n",
    "    df_combined = df_trim.join(df[['CEGH_WAP', 'THE_WAP']], how='inner')\n",
    "    # ggf. zurückspeichern\n",
    "    series_dfs[key] = df_combined\n",
    "\n",
    "# Kontrolle für einen Key\n",
    "print(series_dfs['FL_00024702.PLAN.MengeHH'].head())\n",
    "print(series_dfs['FL_00024702.PLAN.MengeHH'].index.min(),\n",
    "      series_dfs['FL_00024702.PLAN.MengeHH'].index.max())\n",
    "print(series_dfs['FL_00024702.PLAN.MengeHH'][['CEGH_WAP', 'THE_WAP']].isna().sum())"
   ],
   "id": "8c482a9670adeb29",
   "outputs": [
    {
     "name": "stdout",
     "output_type": "stream",
     "text": [
      "                     consumption  hour  weekday  month  is_weekend  w_tl  \\\n",
      "von  | von                                                                 \n",
      "2015-01-01 06:00:00       48.447     6        3      1           0  -0.2   \n",
      "2015-01-01 07:00:00       45.788     7        3      1           0   0.0   \n",
      "2015-01-01 08:00:00       43.109     8        3      1           0   0.3   \n",
      "2015-01-01 09:00:00       41.749     9        3      1           0   0.8   \n",
      "2015-01-01 10:00:00       39.900    10        3      1           0   1.1   \n",
      "\n",
      "                     w_rf  w_ff  w_ffx  w_cglo  w_so_h  w_rr  w_rrm  w_tb10  \\\n",
      "von  | von                                                                    \n",
      "2015-01-01 06:00:00  92.0   0.2    2.1     0.0     0.0   0.0    5.0     2.8   \n",
      "2015-01-01 07:00:00  94.0   0.2    1.5     0.0     0.0   0.0    0.0     2.8   \n",
      "2015-01-01 08:00:00  93.0   0.6    4.0     8.0     0.0   0.0    5.0     2.9   \n",
      "2015-01-01 09:00:00  90.0   0.4    3.0    53.0     0.0   0.0    0.0     2.9   \n",
      "2015-01-01 10:00:00  88.0   0.3    3.7    97.0     0.0   0.0    0.0     2.9   \n",
      "\n",
      "                     w_tb20  CEGH_WAP  THE_WAP  \n",
      "von  | von                                      \n",
      "2015-01-01 06:00:00     2.9     23.61     21.5  \n",
      "2015-01-01 07:00:00     2.9     23.61     21.5  \n",
      "2015-01-01 08:00:00     2.9     23.61     21.5  \n",
      "2015-01-01 09:00:00     2.9     23.61     21.5  \n",
      "2015-01-01 10:00:00     2.9     23.61     21.5  \n",
      "2015-01-01 06:00:00 2018-12-31 23:00:00\n",
      "CEGH_WAP    0\n",
      "THE_WAP     0\n",
      "dtype: int64\n"
     ]
    }
   ],
   "execution_count": 32
  },
  {
   "metadata": {
    "ExecuteTime": {
     "end_time": "2025-06-20T14:39:42.107428Z",
     "start_time": "2025-06-20T14:39:42.024917Z"
    }
   },
   "cell_type": "code",
   "source": [
    "summary = []\n",
    "for key, df in series_dfs.items():\n",
    "    total = df.size\n",
    "    nan   = df.isna().sum().sum()\n",
    "    summary.append({\n",
    "        'series_key': key,\n",
    "        'nan_count': nan,\n",
    "        'total_cells': total,\n",
    "        'percent_nan': nan/total\n",
    "    })\n",
    "\n",
    "summary_df = pd.DataFrame(summary)\n",
    "\n",
    "# 1) Kurz anschauen\n",
    "print(summary_df)\n",
    "\n",
    "# 2) Nur jene Serien mit NaNs filtern\n",
    "print(summary_df[summary_df['nan_count']>0])\n",
    "\n",
    "# 3) In Datei schreiben, wenn du willst\n",
    "summary_df.to_csv('nan_overview.csv', index=False)"
   ],
   "id": "104e16e2b30eaae9",
   "outputs": [
    {
     "name": "stdout",
     "output_type": "stream",
     "text": [
      "                    series_key  nan_count  total_cells  percent_nan\n",
      "0     FL_00024702.PLAN.MengeHH          0       598026          0.0\n",
      "1     FL_00024730.PLAN.MengeHH          0       598026          0.0\n",
      "2     FL_00352243.PLAN.MengeHH          0       598026          0.0\n",
      "3     FL_00352244.PLAN.MengeGA          0       598026          0.0\n",
      "4     FL_00352244.PLAN.MengeKW          0       598026          0.0\n",
      "5     FL_00024360.PLAN.MengeGA          0       598026          0.0\n",
      "6     FL_00352254.PLAN.MengeGA          0       598026          0.0\n",
      "7     FL_00025248.PLAN.MengeGA          0       598026          0.0\n",
      "8   FL_00024360.PLAN.MengeHH.2          0       598026          0.0\n",
      "9     FL_00024731.PLAN.MengeHH          0       598026          0.0\n",
      "10    FL_00024735.PLAN.MengeHH          0       598026          0.0\n",
      "11    FL_00024667.PLAN.MengeHH          0       598026          0.0\n",
      "12    FL_00352218.PLAN.MengeHH          0       598026          0.0\n",
      "13    FL_00025240.PLAN.MengeHH          0       598026          0.0\n",
      "14    FL_00025241.PLAN.MengeHH          0       598026          0.0\n",
      "15    FL_00020896.PLAN.MengeHH          0       598026          0.0\n",
      "16    FL_00342704.PLAN.MengeGA          0       598026          0.0\n",
      "17    FL_00352054.PLAN.MengeHH          0       598026          0.0\n",
      "18      CV_00348266.PLAN.Menge          0       598026          0.0\n",
      "19    FL_00352254.PLAN.MengeHH          0       598026          0.0\n",
      "20    FL_00352244.PLAN.MengeHH          0       598026          0.0\n",
      "21    FL_00342704.PLAN.MengeHH          0       598026          0.0\n",
      "22      CV_00003083.PLAN.Menge          0       598026          0.0\n",
      "23      CV_00003181.PLAN.Menge          0       598026          0.0\n",
      "24      CV_00003192.PLAN.Menge          0       598026          0.0\n",
      "25      CV_00003191.PLAN.Menge          0       598026          0.0\n",
      "26      CV_00003183.PLAN.Menge          0       598026          0.0\n",
      "27      CV_00001876.PLAN.Menge          0       598026          0.0\n",
      "28      CV_00003094.PLAN.Menge          0       598026          0.0\n",
      "29      CV_00003089.PLAN.Menge          0       598026          0.0\n",
      "30      CV_00007270.PLAN.Menge          0       598026          0.0\n",
      "31      CV_00007300.PLAN.Menge          0       598026          0.0\n",
      "32      KN_00001613.PLAN.Menge          0       598026          0.0\n",
      "33      KN_00000069.PLAN.Menge          0       598026          0.0\n",
      "34      KN_00000067.PLAN.Menge          0       598026          0.0\n",
      "35      CV_00007809.PLAN.Menge          0       598026          0.0\n",
      "36    FL_00352191.PLAN.MengeHH          0       598026          0.0\n",
      "37    FL_00352189.PLAN.MengeHH          0       598026          0.0\n",
      "38      KN_00001886.PLAN.Menge          0       598026          0.0\n",
      "39      KN_00001602.PLAN.Menge          0       598026          0.0\n",
      "40    FL_00352430.PLAN.MengeHH          0       598026          0.0\n",
      "41    FL_00352208.PLAN.MengeHH          0       598026          0.0\n",
      "42    FL_00024616.PLAN.MengeHH          0       598026          0.0\n",
      "43      CV_00005607.PLAN.Menge          0       598026          0.0\n",
      "44      CV_00005585.PLAN.Menge          0       598026          0.0\n",
      "45      CV_00007283.PLAN.Menge          0       598026          0.0\n",
      "46      CV_00003432.PLAN.Menge          0       598026          0.0\n",
      "47    KN_00000073.PLAN.Menge.1          0       598026          0.0\n",
      "48    KN_00001613.PLAN.MengeGA          0       598026          0.0\n",
      "49    KN_00001886.PLAN.MengeKW          0       598026          0.0\n",
      "50    KN_00001602.PLAN.MengeKW          0       598026          0.0\n",
      "Empty DataFrame\n",
      "Columns: [series_key, nan_count, total_cells, percent_nan]\n",
      "Index: []\n"
     ]
    }
   ],
   "execution_count": 33
  },
  {
   "metadata": {
    "ExecuteTime": {
     "end_time": "2025-06-20T14:40:17.885814Z",
     "start_time": "2025-06-20T14:40:17.773731Z"
    }
   },
   "cell_type": "code",
   "source": "pd.to_pickle(series_dfs, \"../data/final_learning_dfs.pkl\")",
   "id": "48c43175212ddfa7",
   "outputs": [],
   "execution_count": 34
  },
  {
   "metadata": {},
   "cell_type": "code",
   "outputs": [],
   "execution_count": null,
   "source": "",
   "id": "5429bf03f9cedbf5"
  }
 ],
 "metadata": {
  "kernelspec": {
   "display_name": "Python 3",
   "language": "python",
   "name": "python3"
  },
  "language_info": {
   "codemirror_mode": {
    "name": "ipython",
    "version": 2
   },
   "file_extension": ".py",
   "mimetype": "text/x-python",
   "name": "python",
   "nbconvert_exporter": "python",
   "pygments_lexer": "ipython2",
   "version": "2.7.6"
  }
 },
 "nbformat": 4,
 "nbformat_minor": 5
}
