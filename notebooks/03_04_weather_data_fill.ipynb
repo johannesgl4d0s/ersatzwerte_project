{
 "cells": [
  {
   "metadata": {},
   "cell_type": "markdown",
   "source": [
    "# Imputation Evaluation Notebook\n",
    "In diesem Notebook vergleichen wir verschiedene Imputationsmethoden für Wetterzeitreihen.\n",
    "## 1. Setup und Daten laden"
   ],
   "id": "94fb9c987d097c3c"
  },
  {
   "cell_type": "code",
   "id": "initial_id",
   "metadata": {
    "collapsed": true,
    "ExecuteTime": {
     "end_time": "2025-06-17T11:04:48.527328Z",
     "start_time": "2025-06-17T11:04:14.111786Z"
    }
   },
   "source": [
    "import pandas as pd\n",
    "import numpy as np\n",
    "import matplotlib.pyplot as plt\n",
    "from sklearn.experimental import enable_iterative_imputer  # noqa\n",
    "from sklearn.impute import IterativeImputer, KNNImputer\n",
    "from scipy.interpolate import interp1d\n",
    "\n",
    "# Daten laden\n",
    "df = pd.read_csv('../data/wetterdaten_top150.csv.gz', compression='gzip', parse_dates=['timestamp'])\n",
    "df = df.sort_values(['station_id', 'timestamp']).set_index('timestamp')\n",
    "df.head()"
   ],
   "outputs": [
    {
     "data": {
      "text/plain": [
       "                           station_id   tl    rf   ff  ffx  cglo  so_h   rr  \\\n",
       "timestamp                                                                     \n",
       "2014-01-01 00:00:00+00:00           2 -2.7  93.0  1.7  2.6   0.0   0.0  0.0   \n",
       "2014-01-01 01:00:00+00:00           2 -2.6  92.0  1.5  3.2   0.0   0.0  0.0   \n",
       "2014-01-01 02:00:00+00:00           2 -2.3  92.0  1.0  2.6   0.0   0.0  0.0   \n",
       "2014-01-01 03:00:00+00:00           2 -2.2  90.0  1.2  3.4   0.0   0.0  0.0   \n",
       "2014-01-01 04:00:00+00:00           2 -2.4  90.0  2.4  3.6   0.0   0.0  0.0   \n",
       "\n",
       "                           rrm  tb10  tb20  \n",
       "timestamp                                   \n",
       "2014-01-01 00:00:00+00:00  0.0   0.5   1.1  \n",
       "2014-01-01 01:00:00+00:00  0.0   0.5   1.1  \n",
       "2014-01-01 02:00:00+00:00  0.0   0.5   1.1  \n",
       "2014-01-01 03:00:00+00:00  0.0   0.5   1.1  \n",
       "2014-01-01 04:00:00+00:00  0.0   0.5   1.1  "
      ],
      "text/html": [
       "<div>\n",
       "<style scoped>\n",
       "    .dataframe tbody tr th:only-of-type {\n",
       "        vertical-align: middle;\n",
       "    }\n",
       "\n",
       "    .dataframe tbody tr th {\n",
       "        vertical-align: top;\n",
       "    }\n",
       "\n",
       "    .dataframe thead th {\n",
       "        text-align: right;\n",
       "    }\n",
       "</style>\n",
       "<table border=\"1\" class=\"dataframe\">\n",
       "  <thead>\n",
       "    <tr style=\"text-align: right;\">\n",
       "      <th></th>\n",
       "      <th>station_id</th>\n",
       "      <th>tl</th>\n",
       "      <th>rf</th>\n",
       "      <th>ff</th>\n",
       "      <th>ffx</th>\n",
       "      <th>cglo</th>\n",
       "      <th>so_h</th>\n",
       "      <th>rr</th>\n",
       "      <th>rrm</th>\n",
       "      <th>tb10</th>\n",
       "      <th>tb20</th>\n",
       "    </tr>\n",
       "    <tr>\n",
       "      <th>timestamp</th>\n",
       "      <th></th>\n",
       "      <th></th>\n",
       "      <th></th>\n",
       "      <th></th>\n",
       "      <th></th>\n",
       "      <th></th>\n",
       "      <th></th>\n",
       "      <th></th>\n",
       "      <th></th>\n",
       "      <th></th>\n",
       "      <th></th>\n",
       "    </tr>\n",
       "  </thead>\n",
       "  <tbody>\n",
       "    <tr>\n",
       "      <th>2014-01-01 00:00:00+00:00</th>\n",
       "      <td>2</td>\n",
       "      <td>-2.7</td>\n",
       "      <td>93.0</td>\n",
       "      <td>1.7</td>\n",
       "      <td>2.6</td>\n",
       "      <td>0.0</td>\n",
       "      <td>0.0</td>\n",
       "      <td>0.0</td>\n",
       "      <td>0.0</td>\n",
       "      <td>0.5</td>\n",
       "      <td>1.1</td>\n",
       "    </tr>\n",
       "    <tr>\n",
       "      <th>2014-01-01 01:00:00+00:00</th>\n",
       "      <td>2</td>\n",
       "      <td>-2.6</td>\n",
       "      <td>92.0</td>\n",
       "      <td>1.5</td>\n",
       "      <td>3.2</td>\n",
       "      <td>0.0</td>\n",
       "      <td>0.0</td>\n",
       "      <td>0.0</td>\n",
       "      <td>0.0</td>\n",
       "      <td>0.5</td>\n",
       "      <td>1.1</td>\n",
       "    </tr>\n",
       "    <tr>\n",
       "      <th>2014-01-01 02:00:00+00:00</th>\n",
       "      <td>2</td>\n",
       "      <td>-2.3</td>\n",
       "      <td>92.0</td>\n",
       "      <td>1.0</td>\n",
       "      <td>2.6</td>\n",
       "      <td>0.0</td>\n",
       "      <td>0.0</td>\n",
       "      <td>0.0</td>\n",
       "      <td>0.0</td>\n",
       "      <td>0.5</td>\n",
       "      <td>1.1</td>\n",
       "    </tr>\n",
       "    <tr>\n",
       "      <th>2014-01-01 03:00:00+00:00</th>\n",
       "      <td>2</td>\n",
       "      <td>-2.2</td>\n",
       "      <td>90.0</td>\n",
       "      <td>1.2</td>\n",
       "      <td>3.4</td>\n",
       "      <td>0.0</td>\n",
       "      <td>0.0</td>\n",
       "      <td>0.0</td>\n",
       "      <td>0.0</td>\n",
       "      <td>0.5</td>\n",
       "      <td>1.1</td>\n",
       "    </tr>\n",
       "    <tr>\n",
       "      <th>2014-01-01 04:00:00+00:00</th>\n",
       "      <td>2</td>\n",
       "      <td>-2.4</td>\n",
       "      <td>90.0</td>\n",
       "      <td>2.4</td>\n",
       "      <td>3.6</td>\n",
       "      <td>0.0</td>\n",
       "      <td>0.0</td>\n",
       "      <td>0.0</td>\n",
       "      <td>0.0</td>\n",
       "      <td>0.5</td>\n",
       "      <td>1.1</td>\n",
       "    </tr>\n",
       "  </tbody>\n",
       "</table>\n",
       "</div>"
      ]
     },
     "execution_count": 1,
     "metadata": {},
     "output_type": "execute_result"
    }
   ],
   "execution_count": 1
  },
  {
   "metadata": {},
   "cell_type": "markdown",
   "source": [
    "## 2. Künstliche Lücken erzeugen\n",
    "Funktion zum Einführen von fehlenden Daten in unterschiedlichen Szenarien."
   ],
   "id": "60fbadd48b3bd1b0"
  },
  {
   "metadata": {
    "ExecuteTime": {
     "end_time": "2025-06-17T11:05:13.878051Z",
     "start_time": "2025-06-17T11:05:13.865216Z"
    }
   },
   "cell_type": "code",
   "source": [
    "def create_gaps(series, gap_type):\n",
    "    s = series.copy()\n",
    "    n = len(s)\n",
    "    if gap_type == 'kurz':\n",
    "        lengths = np.random.randint(1, 4, size=5)\n",
    "    elif gap_type == 'mittel':\n",
    "        lengths = np.random.randint(4, 25, size=3)\n",
    "    else:\n",
    "        lengths = np.random.randint(24, 168, size=2)\n",
    "    for L in lengths:\n",
    "        start = np.random.randint(0, n-L)\n",
    "        s.iloc[start:start+L] = np.nan\n",
    "    return s"
   ],
   "id": "2b73c343a5963030",
   "outputs": [],
   "execution_count": 2
  },
  {
   "metadata": {},
   "cell_type": "markdown",
   "source": "## 3. Imputationsmethoden definieren",
   "id": "5a3bf462c5115649"
  },
  {
   "metadata": {
    "ExecuteTime": {
     "end_time": "2025-06-17T11:05:36.349522Z",
     "start_time": "2025-06-17T11:05:36.333623Z"
    }
   },
   "cell_type": "code",
   "source": [
    "methods = {\n",
    "    'linear': lambda x: x.interpolate(method='time', limit=3),\n",
    "    'spline2': lambda x: x.interpolate(method='spline', order=2),\n",
    "    'iterative': lambda x: pd.Series(\n",
    "        IterativeImputer(max_iter=10, random_state=0)\n",
    "        .fit_transform(x.values.reshape(-1,1)).ravel(), index=x.index),\n",
    "    'knn': lambda x: pd.Series(\n",
    "        KNNImputer(n_neighbors=5)\n",
    "        .fit_transform(x.values.reshape(-1,1)).ravel(), index=x.index)\n",
    "}"
   ],
   "id": "933bc1f52d2a6f6e",
   "outputs": [],
   "execution_count": 3
  },
  {
   "metadata": {},
   "cell_type": "markdown",
   "source": "## 4. Lücken füllen und Performance messen",
   "id": "f76c8ea07b33196"
  },
  {
   "metadata": {
    "jupyter": {
     "is_executing": true
    },
    "ExecuteTime": {
     "start_time": "2025-06-17T11:08:22.455042Z"
    }
   },
   "cell_type": "code",
   "source": [
    "results = []\n",
    "stations = df['station_id'].unique()[:5]\n",
    "variables = ['tl','rf','ff','cglo']\n",
    "scenarios = ['kurz','mittel','lang']\n",
    "\n",
    "for station in stations:\n",
    "    df_s = df[df['station_id']==station]\n",
    "    for var in variables:\n",
    "        orig = df_s[var].dropna()\n",
    "        for scen in scenarios:\n",
    "            masked = create_gaps(orig, scen)\n",
    "            gap_idx = masked[masked.isna()].index\n",
    "\n",
    "            for name, method in methods.items():\n",
    "                filled = method(masked)\n",
    "\n",
    "                # nur Indizes, die überhaupt imputiert wurden\n",
    "                valid = gap_idx.intersection(filled.dropna().index)\n",
    "                if len(valid)==0:\n",
    "                    mae = np.nan\n",
    "                    rmse = np.nan\n",
    "                else:\n",
    "                    y_true = orig.loc[valid]\n",
    "                    y_pred = filled.loc[valid]\n",
    "                    mae  = mean_absolute_error(y_true, y_pred)\n",
    "                    rmse = np.sqrt(mean_squared_error(y_true, y_pred))\n",
    "\n",
    "                results.append((station, var, scen, name, mae, rmse))\n",
    "\n",
    "results_df = pd.DataFrame(\n",
    "    results,\n",
    "    columns=['station','var','scenario','method','MAE','RMSE']\n",
    ")\n",
    "results_df.head()\n"
   ],
   "id": "b0b9add7bbea7796",
   "outputs": [],
   "execution_count": null
  },
  {
   "metadata": {},
   "cell_type": "code",
   "outputs": [],
   "execution_count": null,
   "source": [
    "import seaborn as sns\n",
    "pivot = results_df.pivot_table(index='scenario', columns='method', values='MAE', aggfunc='mean')\n",
    "sns.heatmap(pivot, annot=True)\n",
    "plt.title('Durchschnittlicher MAE pro Szenario und Methode')\n",
    "plt.show()"
   ],
   "id": "9ba06b818ef7dd66"
  },
  {
   "metadata": {},
   "cell_type": "code",
   "outputs": [],
   "execution_count": null,
   "source": "",
   "id": "6203afbe399d8bad"
  }
 ],
 "metadata": {
  "kernelspec": {
   "display_name": "Python 3",
   "language": "python",
   "name": "python3"
  },
  "language_info": {
   "codemirror_mode": {
    "name": "ipython",
    "version": 2
   },
   "file_extension": ".py",
   "mimetype": "text/x-python",
   "name": "python",
   "nbconvert_exporter": "python",
   "pygments_lexer": "ipython2",
   "version": "2.7.6"
  }
 },
 "nbformat": 4,
 "nbformat_minor": 5
}
