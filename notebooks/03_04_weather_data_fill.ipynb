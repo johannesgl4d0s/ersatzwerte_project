{
 "cells": [
  {
   "metadata": {},
   "cell_type": "markdown",
   "source": [
    "# Imputation Evaluation Notebook\n",
    "In diesem Notebook vergleichen wir verschiedene Imputationsmethoden für Wetterzeitreihen.\n",
    "## 1. Setup und Daten laden"
   ],
   "id": "94fb9c987d097c3c"
  },
  {
   "cell_type": "code",
   "id": "initial_id",
   "metadata": {
    "collapsed": true,
    "ExecuteTime": {
     "end_time": "2025-06-17T11:25:35.295588Z",
     "start_time": "2025-06-17T11:25:04.073272Z"
    }
   },
   "source": [
    "import pandas as pd\n",
    "import numpy as np\n",
    "import matplotlib.pyplot as plt\n",
    "from sklearn.experimental import enable_iterative_imputer  # noqa\n",
    "from sklearn.impute import IterativeImputer, KNNImputer\n",
    "from scipy.interpolate import interp1d\n",
    "\n",
    "# Daten laden\n",
    "df = pd.read_csv('../data/wetterdaten_top150.csv.gz', compression='gzip', parse_dates=['timestamp'])\n",
    "df = df.sort_values(['station_id', 'timestamp']).set_index('timestamp')\n",
    "df.head()"
   ],
   "outputs": [
    {
     "data": {
      "text/plain": [
       "                           station_id   tl    rf   ff  ffx  cglo  so_h   rr  \\\n",
       "timestamp                                                                     \n",
       "2014-01-01 00:00:00+00:00           2 -2.7  93.0  1.7  2.6   0.0   0.0  0.0   \n",
       "2014-01-01 01:00:00+00:00           2 -2.6  92.0  1.5  3.2   0.0   0.0  0.0   \n",
       "2014-01-01 02:00:00+00:00           2 -2.3  92.0  1.0  2.6   0.0   0.0  0.0   \n",
       "2014-01-01 03:00:00+00:00           2 -2.2  90.0  1.2  3.4   0.0   0.0  0.0   \n",
       "2014-01-01 04:00:00+00:00           2 -2.4  90.0  2.4  3.6   0.0   0.0  0.0   \n",
       "\n",
       "                           rrm  tb10  tb20  \n",
       "timestamp                                   \n",
       "2014-01-01 00:00:00+00:00  0.0   0.5   1.1  \n",
       "2014-01-01 01:00:00+00:00  0.0   0.5   1.1  \n",
       "2014-01-01 02:00:00+00:00  0.0   0.5   1.1  \n",
       "2014-01-01 03:00:00+00:00  0.0   0.5   1.1  \n",
       "2014-01-01 04:00:00+00:00  0.0   0.5   1.1  "
      ],
      "text/html": [
       "<div>\n",
       "<style scoped>\n",
       "    .dataframe tbody tr th:only-of-type {\n",
       "        vertical-align: middle;\n",
       "    }\n",
       "\n",
       "    .dataframe tbody tr th {\n",
       "        vertical-align: top;\n",
       "    }\n",
       "\n",
       "    .dataframe thead th {\n",
       "        text-align: right;\n",
       "    }\n",
       "</style>\n",
       "<table border=\"1\" class=\"dataframe\">\n",
       "  <thead>\n",
       "    <tr style=\"text-align: right;\">\n",
       "      <th></th>\n",
       "      <th>station_id</th>\n",
       "      <th>tl</th>\n",
       "      <th>rf</th>\n",
       "      <th>ff</th>\n",
       "      <th>ffx</th>\n",
       "      <th>cglo</th>\n",
       "      <th>so_h</th>\n",
       "      <th>rr</th>\n",
       "      <th>rrm</th>\n",
       "      <th>tb10</th>\n",
       "      <th>tb20</th>\n",
       "    </tr>\n",
       "    <tr>\n",
       "      <th>timestamp</th>\n",
       "      <th></th>\n",
       "      <th></th>\n",
       "      <th></th>\n",
       "      <th></th>\n",
       "      <th></th>\n",
       "      <th></th>\n",
       "      <th></th>\n",
       "      <th></th>\n",
       "      <th></th>\n",
       "      <th></th>\n",
       "      <th></th>\n",
       "    </tr>\n",
       "  </thead>\n",
       "  <tbody>\n",
       "    <tr>\n",
       "      <th>2014-01-01 00:00:00+00:00</th>\n",
       "      <td>2</td>\n",
       "      <td>-2.7</td>\n",
       "      <td>93.0</td>\n",
       "      <td>1.7</td>\n",
       "      <td>2.6</td>\n",
       "      <td>0.0</td>\n",
       "      <td>0.0</td>\n",
       "      <td>0.0</td>\n",
       "      <td>0.0</td>\n",
       "      <td>0.5</td>\n",
       "      <td>1.1</td>\n",
       "    </tr>\n",
       "    <tr>\n",
       "      <th>2014-01-01 01:00:00+00:00</th>\n",
       "      <td>2</td>\n",
       "      <td>-2.6</td>\n",
       "      <td>92.0</td>\n",
       "      <td>1.5</td>\n",
       "      <td>3.2</td>\n",
       "      <td>0.0</td>\n",
       "      <td>0.0</td>\n",
       "      <td>0.0</td>\n",
       "      <td>0.0</td>\n",
       "      <td>0.5</td>\n",
       "      <td>1.1</td>\n",
       "    </tr>\n",
       "    <tr>\n",
       "      <th>2014-01-01 02:00:00+00:00</th>\n",
       "      <td>2</td>\n",
       "      <td>-2.3</td>\n",
       "      <td>92.0</td>\n",
       "      <td>1.0</td>\n",
       "      <td>2.6</td>\n",
       "      <td>0.0</td>\n",
       "      <td>0.0</td>\n",
       "      <td>0.0</td>\n",
       "      <td>0.0</td>\n",
       "      <td>0.5</td>\n",
       "      <td>1.1</td>\n",
       "    </tr>\n",
       "    <tr>\n",
       "      <th>2014-01-01 03:00:00+00:00</th>\n",
       "      <td>2</td>\n",
       "      <td>-2.2</td>\n",
       "      <td>90.0</td>\n",
       "      <td>1.2</td>\n",
       "      <td>3.4</td>\n",
       "      <td>0.0</td>\n",
       "      <td>0.0</td>\n",
       "      <td>0.0</td>\n",
       "      <td>0.0</td>\n",
       "      <td>0.5</td>\n",
       "      <td>1.1</td>\n",
       "    </tr>\n",
       "    <tr>\n",
       "      <th>2014-01-01 04:00:00+00:00</th>\n",
       "      <td>2</td>\n",
       "      <td>-2.4</td>\n",
       "      <td>90.0</td>\n",
       "      <td>2.4</td>\n",
       "      <td>3.6</td>\n",
       "      <td>0.0</td>\n",
       "      <td>0.0</td>\n",
       "      <td>0.0</td>\n",
       "      <td>0.0</td>\n",
       "      <td>0.5</td>\n",
       "      <td>1.1</td>\n",
       "    </tr>\n",
       "  </tbody>\n",
       "</table>\n",
       "</div>"
      ]
     },
     "execution_count": 1,
     "metadata": {},
     "output_type": "execute_result"
    }
   ],
   "execution_count": 1
  },
  {
   "metadata": {},
   "cell_type": "markdown",
   "source": [
    "## 2. Künstliche Lücken erzeugen\n",
    "Funktion zum Einführen von fehlenden Daten in unterschiedlichen Szenarien."
   ],
   "id": "60fbadd48b3bd1b0"
  },
  {
   "metadata": {
    "ExecuteTime": {
     "end_time": "2025-06-17T11:25:35.634584Z",
     "start_time": "2025-06-17T11:25:35.618497Z"
    }
   },
   "cell_type": "code",
   "source": [
    "def create_gaps(series, gap_type):\n",
    "    s = series.copy()\n",
    "    n = len(s)\n",
    "    if gap_type == 'kurz':\n",
    "        lengths = np.random.randint(1, 4, size=5)\n",
    "    elif gap_type == 'mittel':\n",
    "        lengths = np.random.randint(4, 25, size=3)\n",
    "    else:\n",
    "        lengths = np.random.randint(24, 168, size=2)\n",
    "    for L in lengths:\n",
    "        start = np.random.randint(0, n-L)\n",
    "        s.iloc[start:start+L] = np.nan\n",
    "    return s"
   ],
   "id": "2b73c343a5963030",
   "outputs": [],
   "execution_count": 2
  },
  {
   "metadata": {},
   "cell_type": "markdown",
   "source": "## 3. Imputationsmethoden definieren",
   "id": "5a3bf462c5115649"
  },
  {
   "metadata": {
    "ExecuteTime": {
     "end_time": "2025-06-17T11:25:35.824166Z",
     "start_time": "2025-06-17T11:25:35.798094Z"
    }
   },
   "cell_type": "code",
   "source": [
    "methods = {\n",
    "    'linear': lambda x: x.interpolate(method='time', limit=3),\n",
    "    'spline2': lambda x: x.interpolate(method='spline', order=2),\n",
    "    'iterative': lambda x: pd.Series(\n",
    "        IterativeImputer(max_iter=10, random_state=0)\n",
    "        .fit_transform(x.values.reshape(-1,1)).ravel(), index=x.index),\n",
    "    'knn': lambda x: pd.Series(\n",
    "        KNNImputer(n_neighbors=5)\n",
    "        .fit_transform(x.values.reshape(-1,1)).ravel(), index=x.index)\n",
    "}"
   ],
   "id": "933bc1f52d2a6f6e",
   "outputs": [],
   "execution_count": 3
  },
  {
   "metadata": {},
   "cell_type": "markdown",
   "source": "## 4. Lücken füllen und Performance messen",
   "id": "f76c8ea07b33196"
  },
  {
   "metadata": {
    "ExecuteTime": {
     "end_time": "2025-06-17T11:34:22.837636Z",
     "start_time": "2025-06-17T11:31:53.588807Z"
    }
   },
   "cell_type": "code",
   "source": [
    "from sklearn.metrics import mean_absolute_error, mean_squared_error\n",
    "results = []\n",
    "stations = df['station_id'].unique()[:5]\n",
    "variables = ['tl','rf','ff','cglo']\n",
    "scenarios = ['kurz','mittel','lang']\n",
    "\n",
    "from joblib import Parallel, delayed\n",
    "\n",
    "def eval_station(station):\n",
    "    res = []\n",
    "    df_s = df[df.station_id==station]\n",
    "    for var in variables:\n",
    "        orig = df_s[var].dropna()\n",
    "        for scen in scenarios:\n",
    "            masked = create_gaps(orig, scen)\n",
    "            gap_idx = masked[masked.isna()].index\n",
    "            for name, method in methods.items():\n",
    "                filled = method(masked)\n",
    "                valid = gap_idx.intersection(filled.dropna().index)\n",
    "                if len(valid)==0:\n",
    "                    mae = rmse = np.nan\n",
    "                else:\n",
    "                    y_true = orig.loc[valid]\n",
    "                    y_pred = filled.loc[valid]\n",
    "                    mae  = mean_absolute_error(y_true, y_pred)\n",
    "                    rmse = np.sqrt(mean_squared_error(y_true, y_pred))\n",
    "                res.append((station,var,scen,name,mae,rmse))\n",
    "    return res\n",
    "\n",
    "all_results = Parallel(n_jobs=4, verbose=10)(delayed(eval_station)(st) for st in stations)\n",
    "results_df = pd.DataFrame([row for station_res in all_results for row in station_res],\n",
    "                          columns=['station','var','scenario','method','MAE','RMSE'])\n"
   ],
   "id": "b0b9add7bbea7796",
   "outputs": [
    {
     "name": "stderr",
     "output_type": "stream",
     "text": [
      "[Parallel(n_jobs=4)]: Using backend LokyBackend with 4 concurrent workers.\n"
     ]
    },
    {
     "ename": "KeyboardInterrupt",
     "evalue": "",
     "output_type": "error",
     "traceback": [
      "\u001B[1;31m---------------------------------------------------------------------------\u001B[0m",
      "\u001B[1;31mKeyboardInterrupt\u001B[0m                         Traceback (most recent call last)",
      "Cell \u001B[1;32mIn[5], line 30\u001B[0m\n\u001B[0;32m     27\u001B[0m                 res\u001B[38;5;241m.\u001B[39mappend((station,var,scen,name,mae,rmse))\n\u001B[0;32m     28\u001B[0m     \u001B[38;5;28;01mreturn\u001B[39;00m res\n\u001B[1;32m---> 30\u001B[0m all_results \u001B[38;5;241m=\u001B[39m \u001B[43mParallel\u001B[49m\u001B[43m(\u001B[49m\u001B[43mn_jobs\u001B[49m\u001B[38;5;241;43m=\u001B[39;49m\u001B[38;5;241;43m4\u001B[39;49m\u001B[43m,\u001B[49m\u001B[43m \u001B[49m\u001B[43mverbose\u001B[49m\u001B[38;5;241;43m=\u001B[39;49m\u001B[38;5;241;43m10\u001B[39;49m\u001B[43m)\u001B[49m\u001B[43m(\u001B[49m\u001B[43mdelayed\u001B[49m\u001B[43m(\u001B[49m\u001B[43meval_station\u001B[49m\u001B[43m)\u001B[49m\u001B[43m(\u001B[49m\u001B[43mst\u001B[49m\u001B[43m)\u001B[49m\u001B[43m \u001B[49m\u001B[38;5;28;43;01mfor\u001B[39;49;00m\u001B[43m \u001B[49m\u001B[43mst\u001B[49m\u001B[43m \u001B[49m\u001B[38;5;129;43;01min\u001B[39;49;00m\u001B[43m \u001B[49m\u001B[43mstations\u001B[49m\u001B[43m)\u001B[49m\n\u001B[0;32m     31\u001B[0m results_df \u001B[38;5;241m=\u001B[39m pd\u001B[38;5;241m.\u001B[39mDataFrame([row \u001B[38;5;28;01mfor\u001B[39;00m station_res \u001B[38;5;129;01min\u001B[39;00m all_results \u001B[38;5;28;01mfor\u001B[39;00m row \u001B[38;5;129;01min\u001B[39;00m station_res],\n\u001B[0;32m     32\u001B[0m                           columns\u001B[38;5;241m=\u001B[39m[\u001B[38;5;124m'\u001B[39m\u001B[38;5;124mstation\u001B[39m\u001B[38;5;124m'\u001B[39m,\u001B[38;5;124m'\u001B[39m\u001B[38;5;124mvar\u001B[39m\u001B[38;5;124m'\u001B[39m,\u001B[38;5;124m'\u001B[39m\u001B[38;5;124mscenario\u001B[39m\u001B[38;5;124m'\u001B[39m,\u001B[38;5;124m'\u001B[39m\u001B[38;5;124mmethod\u001B[39m\u001B[38;5;124m'\u001B[39m,\u001B[38;5;124m'\u001B[39m\u001B[38;5;124mMAE\u001B[39m\u001B[38;5;124m'\u001B[39m,\u001B[38;5;124m'\u001B[39m\u001B[38;5;124mRMSE\u001B[39m\u001B[38;5;124m'\u001B[39m])\n",
      "File \u001B[1;32m~\\AppData\\Local\\anaconda3\\envs\\ersatzwerte_project\\lib\\site-packages\\joblib\\parallel.py:2007\u001B[0m, in \u001B[0;36mParallel.__call__\u001B[1;34m(self, iterable)\u001B[0m\n\u001B[0;32m   2001\u001B[0m \u001B[38;5;66;03m# The first item from the output is blank, but it makes the interpreter\u001B[39;00m\n\u001B[0;32m   2002\u001B[0m \u001B[38;5;66;03m# progress until it enters the Try/Except block of the generator and\u001B[39;00m\n\u001B[0;32m   2003\u001B[0m \u001B[38;5;66;03m# reaches the first `yield` statement. This starts the asynchronous\u001B[39;00m\n\u001B[0;32m   2004\u001B[0m \u001B[38;5;66;03m# dispatch of the tasks to the workers.\u001B[39;00m\n\u001B[0;32m   2005\u001B[0m \u001B[38;5;28mnext\u001B[39m(output)\n\u001B[1;32m-> 2007\u001B[0m \u001B[38;5;28;01mreturn\u001B[39;00m output \u001B[38;5;28;01mif\u001B[39;00m \u001B[38;5;28mself\u001B[39m\u001B[38;5;241m.\u001B[39mreturn_generator \u001B[38;5;28;01melse\u001B[39;00m \u001B[38;5;28;43mlist\u001B[39;49m\u001B[43m(\u001B[49m\u001B[43moutput\u001B[49m\u001B[43m)\u001B[49m\n",
      "File \u001B[1;32m~\\AppData\\Local\\anaconda3\\envs\\ersatzwerte_project\\lib\\site-packages\\joblib\\parallel.py:1650\u001B[0m, in \u001B[0;36mParallel._get_outputs\u001B[1;34m(self, iterator, pre_dispatch)\u001B[0m\n\u001B[0;32m   1647\u001B[0m     \u001B[38;5;28;01myield\u001B[39;00m\n\u001B[0;32m   1649\u001B[0m     \u001B[38;5;28;01mwith\u001B[39;00m \u001B[38;5;28mself\u001B[39m\u001B[38;5;241m.\u001B[39m_backend\u001B[38;5;241m.\u001B[39mretrieval_context():\n\u001B[1;32m-> 1650\u001B[0m         \u001B[38;5;28;01myield from\u001B[39;00m \u001B[38;5;28mself\u001B[39m\u001B[38;5;241m.\u001B[39m_retrieve()\n\u001B[0;32m   1652\u001B[0m \u001B[38;5;28;01mexcept\u001B[39;00m \u001B[38;5;167;01mGeneratorExit\u001B[39;00m:\n\u001B[0;32m   1653\u001B[0m     \u001B[38;5;66;03m# The generator has been garbage collected before being fully\u001B[39;00m\n\u001B[0;32m   1654\u001B[0m     \u001B[38;5;66;03m# consumed. This aborts the remaining tasks if possible and warn\u001B[39;00m\n\u001B[0;32m   1655\u001B[0m     \u001B[38;5;66;03m# the user if necessary.\u001B[39;00m\n\u001B[0;32m   1656\u001B[0m     \u001B[38;5;28mself\u001B[39m\u001B[38;5;241m.\u001B[39m_exception \u001B[38;5;241m=\u001B[39m \u001B[38;5;28;01mTrue\u001B[39;00m\n",
      "File \u001B[1;32m~\\AppData\\Local\\anaconda3\\envs\\ersatzwerte_project\\lib\\site-packages\\joblib\\parallel.py:1762\u001B[0m, in \u001B[0;36mParallel._retrieve\u001B[1;34m(self)\u001B[0m\n\u001B[0;32m   1757\u001B[0m \u001B[38;5;66;03m# If the next job is not ready for retrieval yet, we just wait for\u001B[39;00m\n\u001B[0;32m   1758\u001B[0m \u001B[38;5;66;03m# async callbacks to progress.\u001B[39;00m\n\u001B[0;32m   1759\u001B[0m \u001B[38;5;28;01mif\u001B[39;00m ((\u001B[38;5;28mlen\u001B[39m(\u001B[38;5;28mself\u001B[39m\u001B[38;5;241m.\u001B[39m_jobs) \u001B[38;5;241m==\u001B[39m \u001B[38;5;241m0\u001B[39m) \u001B[38;5;129;01mor\u001B[39;00m\n\u001B[0;32m   1760\u001B[0m     (\u001B[38;5;28mself\u001B[39m\u001B[38;5;241m.\u001B[39m_jobs[\u001B[38;5;241m0\u001B[39m]\u001B[38;5;241m.\u001B[39mget_status(\n\u001B[0;32m   1761\u001B[0m         timeout\u001B[38;5;241m=\u001B[39m\u001B[38;5;28mself\u001B[39m\u001B[38;5;241m.\u001B[39mtimeout) \u001B[38;5;241m==\u001B[39m TASK_PENDING)):\n\u001B[1;32m-> 1762\u001B[0m     \u001B[43mtime\u001B[49m\u001B[38;5;241;43m.\u001B[39;49m\u001B[43msleep\u001B[49m\u001B[43m(\u001B[49m\u001B[38;5;241;43m0.01\u001B[39;49m\u001B[43m)\u001B[49m\n\u001B[0;32m   1763\u001B[0m     \u001B[38;5;28;01mcontinue\u001B[39;00m\n\u001B[0;32m   1765\u001B[0m \u001B[38;5;66;03m# We need to be careful: the job list can be filling up as\u001B[39;00m\n\u001B[0;32m   1766\u001B[0m \u001B[38;5;66;03m# we empty it and Python list are not thread-safe by\u001B[39;00m\n\u001B[0;32m   1767\u001B[0m \u001B[38;5;66;03m# default hence the use of the lock\u001B[39;00m\n",
      "\u001B[1;31mKeyboardInterrupt\u001B[0m: "
     ]
    }
   ],
   "execution_count": 5
  },
  {
   "metadata": {},
   "cell_type": "code",
   "outputs": [],
   "execution_count": null,
   "source": [
    "import seaborn as sns\n",
    "pivot = results_df.pivot_table(index='scenario', columns='method', values='MAE', aggfunc='mean')\n",
    "sns.heatmap(pivot, annot=True)\n",
    "plt.title('Durchschnittlicher MAE pro Szenario und Methode')\n",
    "plt.show()"
   ],
   "id": "9ba06b818ef7dd66"
  },
  {
   "metadata": {
    "ExecuteTime": {
     "end_time": "2025-06-17T11:42:08.806522Z",
     "start_time": "2025-06-17T11:34:26.853607Z"
    }
   },
   "cell_type": "code",
   "source": [
    "import time\n",
    "t0 = time.time()\n",
    "res0 = eval_station(stations[0])\n",
    "print(\"Dauer für Station\", stations[0], \":\", time.time()-t0)"
   ],
   "id": "6203afbe399d8bad",
   "outputs": [
    {
     "name": "stdout",
     "output_type": "stream",
     "text": [
      "Dauer für Station 2 : 461.9291641712189\n"
     ]
    }
   ],
   "execution_count": 6
  },
  {
   "metadata": {
    "ExecuteTime": {
     "end_time": "2025-06-17T12:19:00.875677Z",
     "start_time": "2025-06-17T12:19:00.843736Z"
    }
   },
   "cell_type": "code",
   "source": [
    "from sklearn.impute import IterativeImputer, KNNImputer\n",
    "\n",
    "def eval_station_fast(station):\n",
    "    res = []\n",
    "    df_s = df[df.station_id==station]\n",
    "    for var in variables:\n",
    "        # 1) Originalserie\n",
    "        orig = df_s[var].dropna()\n",
    "        data = orig.values.reshape(-1,1)\n",
    "\n",
    "        # 2) Imputer einmalig fitten (mit reduzierten Parametern)\n",
    "        it_imp  = IterativeImputer(max_iter=3, random_state=0).fit(data)\n",
    "        knn_imp = KNNImputer(n_neighbors=3).fit(data)\n",
    "\n",
    "        # 3) Methoden als normale Funktionen\n",
    "        def imp_linear(x):\n",
    "            return x.interpolate(method='time', limit=3)\n",
    "\n",
    "        def imp_iter(x):\n",
    "            out = it_imp.transform(x.values.reshape(-1,1)).ravel()\n",
    "            return pd.Series(out, index=x.index)\n",
    "\n",
    "        def imp_knn(x):\n",
    "            out = knn_imp.transform(x.values.reshape(-1,1)).ravel()\n",
    "            return pd.Series(out, index=x.index)\n",
    "\n",
    "        local_methods = {\n",
    "            'linear': imp_linear,\n",
    "            'iterative': imp_iter,\n",
    "            'knn': imp_knn\n",
    "        }\n",
    "\n",
    "        # 4) Gaps erzeugen und nur transform anwenden\n",
    "        for scen in scenarios:\n",
    "            masked = create_gaps(orig, scen)\n",
    "            gap_idx = masked[masked.isna()].index\n",
    "            for name, method in local_methods.items():\n",
    "                filled = method(masked)\n",
    "                valid = gap_idx.intersection(filled.dropna().index)\n",
    "                if len(valid) == 0:\n",
    "                    mae = rmse = np.nan\n",
    "                else:\n",
    "                    y_true = orig.loc[valid]\n",
    "                    y_pred = filled.loc[valid]\n",
    "                    mae  = mean_absolute_error(y_true, y_pred)\n",
    "                    rmse = np.sqrt(mean_squared_error(y_true, y_pred))\n",
    "                res.append((station, var, scen, name, mae, rmse))\n",
    "    return res"
   ],
   "id": "348eb89e93cea4e6",
   "outputs": [],
   "execution_count": 9
  },
  {
   "metadata": {
    "ExecuteTime": {
     "end_time": "2025-06-17T12:19:04.033410Z",
     "start_time": "2025-06-17T12:19:01.967638Z"
    }
   },
   "cell_type": "code",
   "source": [
    "t0 = time.time()\n",
    "_ = eval_station_fast(stations[0])\n",
    "print(\"Neue Dauer:\", time.time()-t0)"
   ],
   "id": "3be903cd3bc9f471",
   "outputs": [
    {
     "name": "stdout",
     "output_type": "stream",
     "text": [
      "Neue Dauer: 2.0495364665985107\n"
     ]
    }
   ],
   "execution_count": 10
  },
  {
   "metadata": {
    "ExecuteTime": {
     "end_time": "2025-06-17T12:28:51.786452Z",
     "start_time": "2025-06-17T12:25:56.102135Z"
    }
   },
   "cell_type": "code",
   "source": [
    "results = []\n",
    "stations = df['station_id'].unique()\n",
    "variables = ['tl','rf','ff','cglo']\n",
    "scenarios = ['kurz','mittel','lang']\n",
    "all_results = Parallel(n_jobs=4, verbose=10)(\n",
    "    delayed(eval_station_fast)(st) for st in stations\n",
    ")"
   ],
   "id": "316b0b053ed1cfbe",
   "outputs": [
    {
     "name": "stderr",
     "output_type": "stream",
     "text": [
      "[Parallel(n_jobs=4)]: Using backend LokyBackend with 4 concurrent workers.\n",
      "[Parallel(n_jobs=4)]: Done   5 tasks      | elapsed:    9.3s\n",
      "[Parallel(n_jobs=4)]: Done  10 tasks      | elapsed:   14.4s\n",
      "[Parallel(n_jobs=4)]: Done  17 tasks      | elapsed:   22.7s\n",
      "[Parallel(n_jobs=4)]: Done  24 tasks      | elapsed:   31.7s\n",
      "[Parallel(n_jobs=4)]: Done  33 tasks      | elapsed:   43.8s\n",
      "[Parallel(n_jobs=4)]: Done  42 tasks      | elapsed:   56.5s\n",
      "[Parallel(n_jobs=4)]: Done  53 tasks      | elapsed:  1.2min\n",
      "[Parallel(n_jobs=4)]: Done  64 tasks      | elapsed:  1.4min\n",
      "[Parallel(n_jobs=4)]: Done  77 tasks      | elapsed:  1.6min\n",
      "[Parallel(n_jobs=4)]: Done  90 tasks      | elapsed:  1.9min\n",
      "[Parallel(n_jobs=4)]: Done 105 tasks      | elapsed:  2.1min\n",
      "[Parallel(n_jobs=4)]: Done 120 tasks      | elapsed:  2.4min\n",
      "[Parallel(n_jobs=4)]: Done 137 tasks      | elapsed:  2.7min\n",
      "[Parallel(n_jobs=4)]: Done 150 out of 150 | elapsed:  2.9min finished\n"
     ]
    }
   ],
   "execution_count": 13
  },
  {
   "metadata": {
    "ExecuteTime": {
     "end_time": "2025-06-17T12:29:11.421204Z",
     "start_time": "2025-06-17T12:29:11.261438Z"
    }
   },
   "cell_type": "code",
   "source": [
    "results_df = pd.DataFrame([row for station_res in all_results for row in station_res],\n",
    "                          columns=['station','var','scenario','method','MAE','RMSE'])\n",
    "import seaborn as sns\n",
    "pivot = results_df.pivot_table(index='scenario', columns='method', values='MAE', aggfunc='mean')\n",
    "sns.heatmap(pivot, annot=True)\n",
    "plt.title('Durchschnittlicher MAE pro Szenario und Methode')\n",
    "plt.show()"
   ],
   "id": "f444f45384f82402",
   "outputs": [
    {
     "data": {
      "text/plain": [
       "<Figure size 640x480 with 2 Axes>"
      ],
      "image/png": "[encoded data removed]"
     },
     "metadata": {},
     "output_type": "display_data"
    }
   ],
   "execution_count": 14
  },
  {
   "metadata": {
    "jupyter": {
     "is_executing": true
    },
    "ExecuteTime": {
     "start_time": "2025-06-17T12:46:53.352489Z"
    }
   },
   "cell_type": "code",
   "source": [
    "df = pd.read_csv(\n",
    "    '../data/wetterdaten_top150.csv.gz',\n",
    "    compression='gzip',\n",
    "    parse_dates=['timestamp']\n",
    ")\n",
    "\n",
    "# 2. Index setzen und sortieren\n",
    "df = (\n",
    "    df\n",
    "    .sort_values(['station_id', 'timestamp'])\n",
    "    .set_index('timestamp')\n",
    ")\n",
    "\n",
    "# 3. Lineare Zeit-Interpolation pro Station durchführen\n",
    "#    limit_direction='both' sorgt dafür, dass auch führende oder\n",
    "#    abschließende NaNs interpoliert werden, wenn möglich.\n",
    "df_filled = (\n",
    "    df\n",
    "    .groupby('station_id')\n",
    "    .apply(lambda g: g.interpolate(method='time', limit_direction='both'))\n",
    "    .reset_index(level=0, drop=True)\n",
    "    .sort_index()\n",
    ")\n",
    "\n",
    "# 4. Gefüllte Daten zurück in eine CSV schreiben\n",
    "output_path = '../data/wetterdaten_top150_filled_linear.csv.gz'\n",
    "df_filled.reset_index().to_csv(\n",
    "    output_path,\n",
    "    index=False,\n",
    "    compression='gzip'\n",
    ")\n",
    "\n",
    "print(f\"Gefüllte Datei geschrieben nach: {output_path}\")"
   ],
   "id": "efa1db79a54a09b3",
   "outputs": [
    {
     "name": "stderr",
     "output_type": "stream",
     "text": [
      "C:\\Users\\johannes.misensky\\AppData\\Local\\Temp\\ipykernel_16808\\4264731827.py:20: DeprecationWarning: DataFrameGroupBy.apply operated on the grouping columns. This behavior is deprecated, and in a future version of pandas the grouping columns will be excluded from the operation. Either pass `include_groups=False` to exclude the groupings or explicitly select the grouping columns after groupby to silence this warning.\n",
      "  .apply(lambda g: g.interpolate(method='time', limit_direction='both'))\n"
     ]
    }
   ],
   "execution_count": null
  },
  {
   "metadata": {},
   "cell_type": "code",
   "outputs": [],
   "execution_count": null,
   "source": "",
   "id": "8be3cd80ac89f62c"
  }
 ],
 "metadata": {
  "kernelspec": {
   "display_name": "Python 3",
   "language": "python",
   "name": "python3"
  },
  "language_info": {
   "codemirror_mode": {
    "name": "ipython",
    "version": 2
   },
   "file_extension": ".py",
   "mimetype": "text/x-python",
   "name": "python",
   "nbconvert_exporter": "python",
   "pygments_lexer": "ipython2",
   "version": "2.7.6"
  }
 },
 "nbformat": 4,
 "nbformat_minor": 5
}
