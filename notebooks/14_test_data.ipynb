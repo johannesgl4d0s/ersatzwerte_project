{
 "cells": [
  {
   "cell_type": "code",
   "id": "initial_id",
   "metadata": {
    "collapsed": true,
    "ExecuteTime": {
     "end_time": "2025-09-11T15:42:49.924065Z",
     "start_time": "2025-09-11T15:42:49.909904Z"
    }
   },
   "source": [
    "import pandas as pd\n",
    "import os"
   ],
   "outputs": [],
   "execution_count": 1
  },
  {
   "metadata": {
    "ExecuteTime": {
     "end_time": "2025-09-11T15:44:28.083885Z",
     "start_time": "2025-09-11T15:44:12.955078Z"
    }
   },
   "cell_type": "code",
   "source": "df_weather = pd.read_csv('../data/wetterdaten_top150_filled_linear.csv.gz', compression='gzip', parse_dates=['timestamp'])",
   "id": "24bfbac99049b891",
   "outputs": [],
   "execution_count": 2
  },
  {
   "metadata": {
    "ExecuteTime": {
     "end_time": "2025-09-11T15:44:28.155064Z",
     "start_time": "2025-09-11T15:44:28.125061Z"
    }
   },
   "cell_type": "code",
   "source": "df_weather.head()",
   "id": "3d64f9a4e41b59f4",
   "outputs": [
    {
     "data": {
      "text/plain": [
       "                  timestamp  station_id   tl     rf   ff  ffx  cglo  so_h  \\\n",
       "0 2014-01-01 00:00:00+00:00           2 -2.7   93.0  1.7  2.6   0.0   0.0   \n",
       "1 2014-01-01 00:00:00+00:00        7604  4.0   84.0  3.2  6.3   0.0   0.0   \n",
       "2 2014-01-01 00:00:00+00:00          48  1.5   88.0  0.9  2.2   0.0   0.0   \n",
       "3 2014-01-01 00:00:00+00:00       20412  1.4  100.0  0.2  1.5   0.0   0.0   \n",
       "4 2014-01-01 00:00:00+00:00          89  1.5   95.0  0.7  3.3   0.0   0.0   \n",
       "\n",
       "    rr  rrm  tb10  tb20  \n",
       "0  0.0  0.0   0.5   1.1  \n",
       "1  0.0  0.0   3.9   5.2  \n",
       "2  0.0  0.0   3.0   3.7  \n",
       "3  0.0  0.0   2.8   3.2  \n",
       "4  0.0  0.0   2.1   2.2  "
      ],
      "text/html": [
       "<div>\n",
       "<style scoped>\n",
       "    .dataframe tbody tr th:only-of-type {\n",
       "        vertical-align: middle;\n",
       "    }\n",
       "\n",
       "    .dataframe tbody tr th {\n",
       "        vertical-align: top;\n",
       "    }\n",
       "\n",
       "    .dataframe thead th {\n",
       "        text-align: right;\n",
       "    }\n",
       "</style>\n",
       "<table border=\"1\" class=\"dataframe\">\n",
       "  <thead>\n",
       "    <tr style=\"text-align: right;\">\n",
       "      <th></th>\n",
       "      <th>timestamp</th>\n",
       "      <th>station_id</th>\n",
       "      <th>tl</th>\n",
       "      <th>rf</th>\n",
       "      <th>ff</th>\n",
       "      <th>ffx</th>\n",
       "      <th>cglo</th>\n",
       "      <th>so_h</th>\n",
       "      <th>rr</th>\n",
       "      <th>rrm</th>\n",
       "      <th>tb10</th>\n",
       "      <th>tb20</th>\n",
       "    </tr>\n",
       "  </thead>\n",
       "  <tbody>\n",
       "    <tr>\n",
       "      <th>0</th>\n",
       "      <td>2014-01-01 00:00:00+00:00</td>\n",
       "      <td>2</td>\n",
       "      <td>-2.7</td>\n",
       "      <td>93.0</td>\n",
       "      <td>1.7</td>\n",
       "      <td>2.6</td>\n",
       "      <td>0.0</td>\n",
       "      <td>0.0</td>\n",
       "      <td>0.0</td>\n",
       "      <td>0.0</td>\n",
       "      <td>0.5</td>\n",
       "      <td>1.1</td>\n",
       "    </tr>\n",
       "    <tr>\n",
       "      <th>1</th>\n",
       "      <td>2014-01-01 00:00:00+00:00</td>\n",
       "      <td>7604</td>\n",
       "      <td>4.0</td>\n",
       "      <td>84.0</td>\n",
       "      <td>3.2</td>\n",
       "      <td>6.3</td>\n",
       "      <td>0.0</td>\n",
       "      <td>0.0</td>\n",
       "      <td>0.0</td>\n",
       "      <td>0.0</td>\n",
       "      <td>3.9</td>\n",
       "      <td>5.2</td>\n",
       "    </tr>\n",
       "    <tr>\n",
       "      <th>2</th>\n",
       "      <td>2014-01-01 00:00:00+00:00</td>\n",
       "      <td>48</td>\n",
       "      <td>1.5</td>\n",
       "      <td>88.0</td>\n",
       "      <td>0.9</td>\n",
       "      <td>2.2</td>\n",
       "      <td>0.0</td>\n",
       "      <td>0.0</td>\n",
       "      <td>0.0</td>\n",
       "      <td>0.0</td>\n",
       "      <td>3.0</td>\n",
       "      <td>3.7</td>\n",
       "    </tr>\n",
       "    <tr>\n",
       "      <th>3</th>\n",
       "      <td>2014-01-01 00:00:00+00:00</td>\n",
       "      <td>20412</td>\n",
       "      <td>1.4</td>\n",
       "      <td>100.0</td>\n",
       "      <td>0.2</td>\n",
       "      <td>1.5</td>\n",
       "      <td>0.0</td>\n",
       "      <td>0.0</td>\n",
       "      <td>0.0</td>\n",
       "      <td>0.0</td>\n",
       "      <td>2.8</td>\n",
       "      <td>3.2</td>\n",
       "    </tr>\n",
       "    <tr>\n",
       "      <th>4</th>\n",
       "      <td>2014-01-01 00:00:00+00:00</td>\n",
       "      <td>89</td>\n",
       "      <td>1.5</td>\n",
       "      <td>95.0</td>\n",
       "      <td>0.7</td>\n",
       "      <td>3.3</td>\n",
       "      <td>0.0</td>\n",
       "      <td>0.0</td>\n",
       "      <td>0.0</td>\n",
       "      <td>0.0</td>\n",
       "      <td>2.1</td>\n",
       "      <td>2.2</td>\n",
       "    </tr>\n",
       "  </tbody>\n",
       "</table>\n",
       "</div>"
      ]
     },
     "execution_count": 3,
     "metadata": {},
     "output_type": "execute_result"
    }
   ],
   "execution_count": 3
  },
  {
   "metadata": {
    "ExecuteTime": {
     "end_time": "2025-09-11T15:45:19.517190Z",
     "start_time": "2025-09-11T15:45:19.491336Z"
    }
   },
   "cell_type": "code",
   "source": "len(df_weather.station_id.unique())",
   "id": "dba634fc7ef6854d",
   "outputs": [
    {
     "data": {
      "text/plain": [
       "150"
      ]
     },
     "execution_count": 5,
     "metadata": {},
     "output_type": "execute_result"
    }
   ],
   "execution_count": 5
  },
  {
   "metadata": {
    "ExecuteTime": {
     "end_time": "2025-09-11T15:46:02.072161Z",
     "start_time": "2025-09-11T15:46:02.058469Z"
    }
   },
   "cell_type": "code",
   "source": "df_weather.info()",
   "id": "e441131e234604f7",
   "outputs": [
    {
     "name": "stdout",
     "output_type": "stream",
     "text": [
      "<class 'pandas.core.frame.DataFrame'>\n",
      "RangeIndex: 5371200 entries, 0 to 5371199\n",
      "Data columns (total 12 columns):\n",
      " #   Column      Dtype              \n",
      "---  ------      -----              \n",
      " 0   timestamp   datetime64[ns, UTC]\n",
      " 1   station_id  int64              \n",
      " 2   tl          float64            \n",
      " 3   rf          float64            \n",
      " 4   ff          float64            \n",
      " 5   ffx         float64            \n",
      " 6   cglo        float64            \n",
      " 7   so_h        float64            \n",
      " 8   rr          float64            \n",
      " 9   rrm         float64            \n",
      " 10  tb10        float64            \n",
      " 11  tb20        float64            \n",
      "dtypes: datetime64[ns, UTC](1), float64(10), int64(1)\n",
      "memory usage: 491.7 MB\n"
     ]
    }
   ],
   "execution_count": 6
  },
  {
   "metadata": {
    "ExecuteTime": {
     "end_time": "2025-09-11T15:46:46.134035Z",
     "start_time": "2025-09-11T15:46:46.031068Z"
    }
   },
   "cell_type": "code",
   "source": "df_weather.isna().sum()",
   "id": "64ca87c25151d23",
   "outputs": [
    {
     "data": {
      "text/plain": [
       "timestamp     0\n",
       "station_id    0\n",
       "tl            0\n",
       "rf            0\n",
       "ff            0\n",
       "ffx           0\n",
       "cglo          0\n",
       "so_h          0\n",
       "rr            0\n",
       "rrm           0\n",
       "tb10          0\n",
       "tb20          0\n",
       "dtype: int64"
      ]
     },
     "execution_count": 8,
     "metadata": {},
     "output_type": "execute_result"
    }
   ],
   "execution_count": 8
  },
  {
   "metadata": {
    "ExecuteTime": {
     "end_time": "2025-09-11T15:48:53.228941Z",
     "start_time": "2025-09-11T15:48:53.193793Z"
    }
   },
   "cell_type": "code",
   "source": "df_weather.timestamp.min(), df_weather.timestamp.max()",
   "id": "36f7f4c395b3d21a",
   "outputs": [
    {
     "data": {
      "text/plain": [
       "(Timestamp('2014-01-01 00:00:00+0000', tz='UTC'),\n",
       " Timestamp('2018-01-31 23:00:00+0000', tz='UTC'))"
      ]
     },
     "execution_count": 10,
     "metadata": {},
     "output_type": "execute_result"
    }
   ],
   "execution_count": 10
  },
  {
   "metadata": {},
   "cell_type": "code",
   "outputs": [],
   "execution_count": null,
   "source": "",
   "id": "eb07bb2e789185aa"
  }
 ],
 "metadata": {
  "kernelspec": {
   "display_name": "Python 3",
   "language": "python",
   "name": "python3"
  },
  "language_info": {
   "codemirror_mode": {
    "name": "ipython",
    "version": 2
   },
   "file_extension": ".py",
   "mimetype": "text/x-python",
   "name": "python",
   "nbconvert_exporter": "python",
   "pygments_lexer": "ipython2",
   "version": "2.7.6"
  }
 },
 "nbformat": 4,
 "nbformat_minor": 5
}
